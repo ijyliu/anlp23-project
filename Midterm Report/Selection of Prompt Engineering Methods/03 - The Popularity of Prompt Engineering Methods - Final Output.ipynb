{
 "cells": [
  {
   "cell_type": "markdown",
   "metadata": {},
   "source": [
    "# The Popularity of Prompt Engineering Methods\n",
    "\n",
    "This series of notebooks produces statistics on Semantic Scholar citations per day for all of the prompt engineering approaches listed at \"https://www.promptingguide.ai/papers\", \"https://en.wikipedia.org/wiki/Prompt_engineering#Text-to-text\", and the citations section for \"The Practicality of Prompt Engineering\".\n",
    "\n",
    "This file produces final Excel and LaTeX output combining the citations per day data and hand-labelled supplementary data."
   ]
  },
  {
   "cell_type": "code",
   "execution_count": null,
   "metadata": {},
   "outputs": [],
   "source": [
    "# Packages\n",
    "import pandas as pd\n"
   ]
  },
  {
   "cell_type": "code",
   "execution_count": null,
   "metadata": {},
   "outputs": [],
   "source": [
    "# Load input Excel file \"Semantic Scholar Citations Per Day.xlsx\"\n",
    "semantic_scholar_citations_per_day = pd.read_excel(\"Semantic Scholar Citations Per Day.xlsx\")\n"
   ]
  },
  {
   "cell_type": "code",
   "execution_count": null,
   "metadata": {},
   "outputs": [],
   "source": [
    "# Clean up columns for final LaTeX table\n",
    "\n",
    "# Keep columns: 'paper title', 'citations per day', 'Method'\n",
    "distributable_excel = semantic_scholar_citations_per_day[['paper title', 'citations_per_day', 'Method']]\n",
    "\n",
    "# Drop items missing 'paper title' or 'citations_per_day'\n",
    "distributable_excel = distributable_excel.dropna(subset=['paper title', 'citations_per_day'])\n",
    "\n",
    "# Rename columns\n",
    "distributable_excel = distributable_excel.rename(columns={'paper title': 'Title', 'Method': 'Method', 'citations_per_day': 'Citations Per Day'})\n"
   ]
  },
  {
   "cell_type": "code",
   "execution_count": null,
   "metadata": {},
   "outputs": [],
   "source": [
    "# Output distributable Excel file available on request\n",
    "distributable_excel.to_excel('The Popularity of Prompt Engineering Methods - Extended Data.xlsx', index=False)\n"
   ]
  },
  {
   "cell_type": "code",
   "execution_count": null,
   "metadata": {},
   "outputs": [],
   "source": [
    "# Output LaTeX table of top 50 general methods\n"
   ]
  }
 ],
 "metadata": {
  "language_info": {
   "name": "python"
  }
 },
 "nbformat": 4,
 "nbformat_minor": 2
}
