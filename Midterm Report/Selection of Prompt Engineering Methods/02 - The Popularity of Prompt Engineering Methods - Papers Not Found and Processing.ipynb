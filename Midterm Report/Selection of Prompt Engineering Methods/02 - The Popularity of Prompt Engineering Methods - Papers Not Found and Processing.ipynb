{
 "cells": [
  {
   "cell_type": "markdown",
   "metadata": {},
   "source": [
    "# The Popularity of Prompt Engineering Methods\n",
    "\n",
    "This series of notebooks produces statistics on Semantic Scholar citations per day for all of the prompt engineering approaches listed at \"https://www.promptingguide.ai/papers\", \"https://en.wikipedia.org/wiki/Prompt_engineering#Text-to-text\", and the citations section for \"The Practicality of Prompt Engineering\".\n",
    "\n",
    "This file loads in information on papers not initially found and then completes processing of the citation statistics."
   ]
  },
  {
   "cell_type": "code",
   "execution_count": null,
   "metadata": {},
   "outputs": [],
   "source": [
    "# Print current datetime/run as of date\n",
    "import datetime\n",
    "print(datetime.datetime.now())\n"
   ]
  },
  {
   "cell_type": "code",
   "execution_count": null,
   "metadata": {},
   "outputs": [],
   "source": [
    "# Imports\n",
    "import pandas as pd\n",
    "from datetime import datetime\n",
    "import numpy as np\n"
   ]
  },
  {
   "cell_type": "code",
   "execution_count": null,
   "metadata": {},
   "outputs": [],
   "source": [
    "# Import data \"Semantic Scholar Citations.xlsx\"\n",
    "semantic_scholar_df = pd.read_excel('Semantic Scholar Citations.xlsx', sheet_name='Sheet1')\n",
    "\n",
    "semantic_scholar_df\n"
   ]
  },
  {
   "cell_type": "code",
   "execution_count": null,
   "metadata": {},
   "outputs": [],
   "source": [
    "# Add days between publication and today as a column to semantic_scholar_df\n",
    "\n",
    "# Convert publication date to datetime object\n",
    "semantic_scholar_df[\"ss_publication_date\"] = pd.to_datetime(semantic_scholar_df[\"ss_publication_date\"])\n",
    "\n",
    "print(semantic_scholar_df[\"ss_publication_date\"])\n",
    "\n",
    "# Column for end_date of today\n",
    "semantic_scholar_df[\"end_date\"] = datetime.today()\n",
    "\n",
    "# Calculate days between publication and end_date\n",
    "semantic_scholar_df[\"days_from_pub_to_end_date\"] = (semantic_scholar_df['end_date'] - semantic_scholar_df['ss_publication_date']) / np.timedelta64(1, 'D')\n",
    "\n",
    "semantic_scholar_df\n"
   ]
  },
  {
   "cell_type": "code",
   "execution_count": null,
   "metadata": {},
   "outputs": [],
   "source": [
    "# Add a column for citations per day\n",
    "semantic_scholar_df[\"citations_per_day\"] = semantic_scholar_df[\"citation_count\"] / semantic_scholar_df[\"days_from_pub_to_end_date\"]\n",
    "\n",
    "semantic_scholar_df\n"
   ]
  },
  {
   "cell_type": "code",
   "execution_count": null,
   "metadata": {},
   "outputs": [],
   "source": [
    "# Ensure no duplicates on 'semantic scholar title'\n",
    "\n",
    "no_duplicates_df = semantic_scholar_df.drop_duplicates(subset=['semantic scholar title'])\n",
    "\n",
    "print(len(no_duplicates_df))\n"
   ]
  },
  {
   "cell_type": "code",
   "execution_count": null,
   "metadata": {},
   "outputs": [],
   "source": [
    "# Print any duplicates on 'semantic scholar title'\n",
    "\n",
    "duplicates_df = semantic_scholar_df[semantic_scholar_df.duplicated(subset=['semantic scholar title'], keep=False)]\n",
    "\n",
    "# Sort by 'semantic scholar title' to make it easier to read\n",
    "duplicates_df = duplicates_df.sort_values(by=['semantic scholar title'])\n",
    "\n",
    "duplicates_df\n"
   ]
  },
  {
   "cell_type": "code",
   "execution_count": null,
   "metadata": {},
   "outputs": [],
   "source": [
    "# Drop duplicated rows in semantic_scholar_df\n",
    "semantic_scholar_df = semantic_scholar_df.drop_duplicates()\n",
    "\n",
    "# Trim whitespace in 'paper title' column\n",
    "semantic_scholar_df['paper title'] = semantic_scholar_df['paper title'].str.strip()\n"
   ]
  },
  {
   "cell_type": "code",
   "execution_count": null,
   "metadata": {},
   "outputs": [],
   "source": [
    "# Add back on missing_semantic_scholar_title_df\n",
    "semantic_scholar_df = pd.concat([semantic_scholar_df, missing_semantic_scholar_title_df], ignore_index=True)\n"
   ]
  },
  {
   "cell_type": "code",
   "execution_count": null,
   "metadata": {},
   "outputs": [],
   "source": [
    "# Sort by citations per day, descending\n",
    "semantic_scholar_df = semantic_scholar_df.sort_values(by=[\"citations_per_day\"], ascending=False)\n",
    "\n",
    "# Output to Excel\n",
    "semantic_scholar_df.to_excel(\"Semantic Scholar Citations Per Day.xlsx\", index=False)\n"
   ]
  }
 ],
 "metadata": {
  "language_info": {
   "name": "python"
  }
 },
 "nbformat": 4,
 "nbformat_minor": 2
}
