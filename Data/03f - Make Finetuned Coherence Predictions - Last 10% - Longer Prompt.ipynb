{
 "cells": [
  {
   "cell_type": "markdown",
   "metadata": {},
   "source": [
    "### Make Predictions on Withheld Data"
   ]
  },
  {
   "cell_type": "code",
   "execution_count": 1,
   "metadata": {},
   "outputs": [],
   "source": [
    "# Whether this notebook is first 10% or last 10%\n",
    "this_nb = 'last_10_LP'\n",
    "# Set fine_tuned_model_id based on web interface\n",
    "fine_tuned_model_id = ''\n"
   ]
  },
  {
   "cell_type": "code",
   "execution_count": 2,
   "metadata": {},
   "outputs": [],
   "source": [
    "# Get and set API key\n",
    "with open('C:/Users/ijyli/Documents/OpenAI/anlp23-project.txt', 'r') as file:\n",
    "    my_api_key = file.read()\n",
    "\n",
    "#from openai import OpenAI\n",
    "from openai import OpenAI\n",
    "client = OpenAI(api_key=my_api_key)\n"
   ]
  },
  {
   "cell_type": "code",
   "execution_count": 3,
   "metadata": {},
   "outputs": [],
   "source": [
    "# Load this_notebook's predictions\n",
    "import pandas as pd\n",
    "this_notebook_predictions = pd.read_csv('items_to_predict_using_' + this_nb + '.csv')\n"
   ]
  },
  {
   "cell_type": "code",
   "execution_count": 4,
   "metadata": {},
   "outputs": [],
   "source": [
    "def format_test(row):\n",
    "\n",
    "    formatted_message = [\n",
    "        {\n",
    "            \"role\": \"user\", \n",
    "            \"content\": row['response'] + \"\\nYour Task: Rate the coherence of the passage above on a scale of 1 to 10, 1 being incoherent and 10 being very coherent.\"\n",
    "        }\n",
    "    ]\n",
    "    return formatted_message\n",
    "\n",
    "\n",
    "def predict(test_messages, fine_tuned_model_id):\n",
    "\n",
    "    response = client.chat.completions.create(\n",
    "        model=fine_tuned_model_id, messages=test_messages, temperature=0, max_tokens=50\n",
    "    )\n",
    "\n",
    "    return response.choices[0].message.content\n"
   ]
  },
  {
   "cell_type": "code",
   "execution_count": 5,
   "metadata": {},
   "outputs": [],
   "source": [
    "def store_predictions(test_df, fine_tuned_model_id):\n",
    "\n",
    "    print(\"fine_tuned_model_id\",fine_tuned_model_id)\n",
    "    test_df['Prediction'] = None\n",
    "\n",
    "    for index, row in test_df.iterrows():\n",
    "        test_message = format_test(row)\n",
    "        prediction_result = predict(test_message, fine_tuned_model_id)\n",
    "        test_df.at[index, 'Prediction'] = prediction_result\n",
    "\n",
    "    test_df.to_csv(\"predictions_based_on_\" + this_nb + \".csv\")\n"
   ]
  },
  {
   "cell_type": "code",
   "execution_count": 6,
   "metadata": {},
   "outputs": [
    {
     "name": "stdout",
     "output_type": "stream",
     "text": [
      "fine_tuned_model_id ft:gpt-3.5-turbo-0613:personal:last-10:8Q5BtnPj\n"
     ]
    }
   ],
   "source": [
    "test_df = this_notebook_predictions\n",
    "store_predictions(test_df, fine_tuned_model_id)\n"
   ]
  }
 ],
 "metadata": {
  "kernelspec": {
   "display_name": "anlp",
   "language": "python",
   "name": "python3"
  },
  "language_info": {
   "codemirror_mode": {
    "name": "ipython",
    "version": 3
   },
   "file_extension": ".py",
   "mimetype": "text/x-python",
   "name": "python",
   "nbconvert_exporter": "python",
   "pygments_lexer": "ipython3",
   "version": "3.11.4"
  }
 },
 "nbformat": 4,
 "nbformat_minor": 2
}
