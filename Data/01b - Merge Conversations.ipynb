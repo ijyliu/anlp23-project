{
 "cells": [
  {
   "cell_type": "markdown",
   "metadata": {},
   "source": [
    "# Merge Conversations.ipynb\n",
    "\n",
    "Combine information from all conversations into a single dictionary."
   ]
  },
  {
   "cell_type": "code",
   "execution_count": 4,
   "metadata": {},
   "outputs": [],
   "source": [
    "import pickle\n"
   ]
  },
  {
   "cell_type": "code",
   "execution_count": 5,
   "metadata": {},
   "outputs": [],
   "source": [
    "# Files to loop over\n",
    "files = [\"Conversation_Lists_all_others\", \n",
    "         \"Conversation_Lists_td3_gsm8k_tree_of_thought\",\n",
    "         \"Conversation_Lists_td3_gsm8k_self_refine\",\n",
    "         \"Conversation_Lists_gpt4_gsm8k_tree_of_thought\",\n",
    "         \"Conversation_Lists_gpt4_gsm8k_self_refine\",\n",
    "         \"Conversation_Lists_td3_cw_tree_of_thought\",\n",
    "         \"Conversation_Lists_td3_cw_self_refine\",\n",
    "         \"Conversation_Lists_gpt4_cw_tree_of_thought\",\n",
    "         \"Conversation_Lists_gpt4_cw_self_refine\"]\n"
   ]
  },
  {
   "cell_type": "code",
   "execution_count": 6,
   "metadata": {},
   "outputs": [],
   "source": [
    "# Load pickled files and merge the dictionaries\n",
    "lists_dictionary = {}\n",
    "for file in files:\n",
    "    with open(file + '.pkl', 'rb') as f:\n",
    "        lists_dictionary.update(pickle.load(f))\n"
   ]
  },
  {
   "cell_type": "code",
   "execution_count": 7,
   "metadata": {},
   "outputs": [],
   "source": [
    "# Output the merged dictionary as Conversation_Lists.pkl\n",
    "with open('Conversation_Lists.pkl', 'wb') as f:\n",
    "    pickle.dump(lists_dictionary, f)\n"
   ]
  }
 ],
 "metadata": {
  "kernelspec": {
   "display_name": "anlp",
   "language": "python",
   "name": "python3"
  },
  "language_info": {
   "codemirror_mode": {
    "name": "ipython",
    "version": 3
   },
   "file_extension": ".py",
   "mimetype": "text/x-python",
   "name": "python",
   "nbconvert_exporter": "python",
   "pygments_lexer": "ipython3",
   "version": "3.11.4"
  }
 },
 "nbformat": 4,
 "nbformat_minor": 2
}
