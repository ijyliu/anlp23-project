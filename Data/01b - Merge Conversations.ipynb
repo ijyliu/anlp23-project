{
 "cells": [
  {
   "cell_type": "markdown",
   "metadata": {},
   "source": [
    "# Merge Conversations.ipynb\n",
    "\n",
    "Combine information from all conversations into a single dictionary."
   ]
  },
  {
   "cell_type": "code",
   "execution_count": null,
   "metadata": {},
   "outputs": [],
   "source": [
    "import pickle\n"
   ]
  },
  {
   "cell_type": "code",
   "execution_count": null,
   "metadata": {},
   "outputs": [],
   "source": [
    "# Files to loop over\n",
    "files = [\"Conversation_Lists_all_others\", \n",
    "         \"Conversation_Lists_td3_gsm8k_tree_of_thought\",\n",
    "         \"Conversation_Lists_td3_gsm8k_self_refine\",\n",
    "         \"Conversation_Lists_gpt4_gsm8k_tree_of_thought\",\n",
    "         \"Conversation_Lists_gpt4_gsm8k_self_refine\",\n",
    "         \"Conversation_Lists_td3_cw_tree_of_thought\",\n",
    "         \"Conversation_Lists_td3_cw_self_refine\",\n",
    "         \"Conversation_Lists_gpt4_cw_tree_of_thought\",\n",
    "         \"Conversation_Lists_gpt4_cw_self_refine\"]\n"
   ]
  },
  {
   "cell_type": "code",
   "execution_count": null,
   "metadata": {},
   "outputs": [],
   "source": [
    "# Load pickled files and merge the dictionaries\n",
    "lists_dictionary = {}\n",
    "for file in files:\n",
    "    with open(file, 'rb') as f:\n",
    "        lists_dictionary.update(pickle.load(f))\n"
   ]
  },
  {
   "cell_type": "code",
   "execution_count": null,
   "metadata": {},
   "outputs": [],
   "source": [
    "# Output the merged dictionary as Conversation_Lists.pkl\n",
    "with open('Conversation_Lists.pkl', 'wb') as f:\n",
    "    pickle.dump(lists_dictionary, f)\n"
   ]
  }
 ],
 "metadata": {
  "language_info": {
   "name": "python"
  }
 },
 "nbformat": 4,
 "nbformat_minor": 2
}
