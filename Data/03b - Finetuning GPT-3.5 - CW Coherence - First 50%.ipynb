{
  "cells": [
    {
      "cell_type": "markdown",
      "metadata": {},
      "source": [
        "# Finetuning GPT-3.5 - CW Coherence.ipynb\n",
        "\n",
        "Sources: https://blog.futuresmart.ai/fine-tuning-gpt-35-a-step-by-step-guide"
      ]
    },
    {
      "cell_type": "code",
      "execution_count": 17,
      "metadata": {},
      "outputs": [],
      "source": [
        "# Whether this notebook is first 50% or last 50%\n",
        "this_nb = 'first_50'\n"
      ]
    },
    {
      "cell_type": "code",
      "execution_count": 18,
      "metadata": {},
      "outputs": [],
      "source": [
        "import pandas as pd\n",
        "import openai\n"
      ]
    },
    {
      "cell_type": "code",
      "execution_count": 19,
      "metadata": {},
      "outputs": [
        {
          "data": {
            "text/html": [
              "<div>\n",
              "<style scoped>\n",
              "    .dataframe tbody tr th:only-of-type {\n",
              "        vertical-align: middle;\n",
              "    }\n",
              "\n",
              "    .dataframe tbody tr th {\n",
              "        vertical-align: top;\n",
              "    }\n",
              "\n",
              "    .dataframe thead th {\n",
              "        text-align: right;\n",
              "    }\n",
              "</style>\n",
              "<table border=\"1\" class=\"dataframe\">\n",
              "  <thead>\n",
              "    <tr style=\"text-align: right;\">\n",
              "      <th></th>\n",
              "      <th>model_task_method</th>\n",
              "      <th>conversation_number</th>\n",
              "      <th>response</th>\n",
              "      <th>coherence_1_incoherent_10_very_coherent</th>\n",
              "    </tr>\n",
              "  </thead>\n",
              "  <tbody>\n",
              "    <tr>\n",
              "      <th>0</th>\n",
              "      <td>td3_cw_direct_prompting_responses</td>\n",
              "      <td>1</td>\n",
              "      <td>Learning to do a handstand is a fun activity f...</td>\n",
              "      <td>1</td>\n",
              "    </tr>\n",
              "    <tr>\n",
              "      <th>1</th>\n",
              "      <td>td3_cw_direct_prompting_responses</td>\n",
              "      <td>2</td>\n",
              "      <td>The hawk was used to hunting what he needed fo...</td>\n",
              "      <td>7</td>\n",
              "    </tr>\n",
              "    <tr>\n",
              "      <th>2</th>\n",
              "      <td>td3_cw_direct_prompting_responses</td>\n",
              "      <td>3</td>\n",
              "      <td>I love the smell of roasting almonds in the ki...</td>\n",
              "      <td>1</td>\n",
              "    </tr>\n",
              "    <tr>\n",
              "      <th>3</th>\n",
              "      <td>td3_cw_direct_prompting_responses</td>\n",
              "      <td>4</td>\n",
              "      <td>Ralph's bedroom was routinely filled up with s...</td>\n",
              "      <td>10</td>\n",
              "    </tr>\n",
              "    <tr>\n",
              "      <th>4</th>\n",
              "      <td>td3_cw_direct_prompting_responses</td>\n",
              "      <td>5</td>\n",
              "      <td>Joe had a unique way of dealing with the hospi...</td>\n",
              "      <td>4</td>\n",
              "    </tr>\n",
              "  </tbody>\n",
              "</table>\n",
              "</div>"
            ],
            "text/plain": [
              "                   model_task_method  conversation_number  \\\n",
              "0  td3_cw_direct_prompting_responses                    1   \n",
              "1  td3_cw_direct_prompting_responses                    2   \n",
              "2  td3_cw_direct_prompting_responses                    3   \n",
              "3  td3_cw_direct_prompting_responses                    4   \n",
              "4  td3_cw_direct_prompting_responses                    5   \n",
              "\n",
              "                                            response  \\\n",
              "0  Learning to do a handstand is a fun activity f...   \n",
              "1  The hawk was used to hunting what he needed fo...   \n",
              "2  I love the smell of roasting almonds in the ki...   \n",
              "3  Ralph's bedroom was routinely filled up with s...   \n",
              "4  Joe had a unique way of dealing with the hospi...   \n",
              "\n",
              "   coherence_1_incoherent_10_very_coherent  \n",
              "0                                        1  \n",
              "1                                        7  \n",
              "2                                        1  \n",
              "3                                       10  \n",
              "4                                        4  "
            ]
          },
          "execution_count": 19,
          "metadata": {},
          "output_type": "execute_result"
        }
      ],
      "source": [
        "\n",
        "full_human_data = pd.read_csv(\"full_human_data.csv\")\n",
        "full_human_data.head(5)\n"
      ]
    },
    {
      "cell_type": "code",
      "execution_count": 20,
      "metadata": {},
      "outputs": [],
      "source": [
        "# This notebook: train and validate on first 50% of observations for each method\n",
        "# Get predictions on second 50% of observations for each method\n",
        "# Keep first 50% of observations for each model_task_method in dataset\n",
        "# Split on conversation_number LTE 50 and not\n",
        "if this_nb == 'first_50':\n",
        "    this_notebook_train_validate = full_human_data[full_human_data['conversation_number'] <= 50]\n",
        "    this_notebook_predictions = full_human_data[full_human_data['conversation_number'] > 50]\n",
        "else:\n",
        "    this_notebook_train_validate = full_human_data[full_human_data['conversation_number'] > 50]\n",
        "    this_notebook_predictions = full_human_data[full_human_data['conversation_number'] <= 50]\n"
      ]
    },
    {
      "cell_type": "code",
      "execution_count": 21,
      "metadata": {},
      "outputs": [
        {
          "name": "stdout",
          "output_type": "stream",
          "text": [
            "Learning to do a handstand is a fun activity for people of all ages. It takes practice to master, but once you get the hang of it, you'll learn to balance your body in an upside-down position. It isn't difficult to do a handstand if you just stand on your hands.\n",
            "John, a space explorer, felt excited when he first stepped on the moon. It was a unique experience that he thought he would never forget. To his surprise, a smell of seared steak followed him up the mountain of dust. It caught him off guard that space smelled of seared steak.\n",
            "\n",
            "The hawk was used to hunting what he needed for food, but one day he decided to try and be friends with the ground squirrels in the park. He thought it would be a good way to pass the time and to fill his empty belly. He went out of his way to make nice with the squirrels, but they ran away from him. The hawk didn't understand why the ground squirrels didn't want to be his friend.\n",
            "The hawk was confused, but he soon learned an important lesson. Just like the ground squirrels, if I don't like something, I'll stay away from it. I may not understand what other people find attractive or interesting, but it's better to keep my distance and keep my opinion to myself. The lesson the hawk learned was to respect the boundaries of those around him.\n",
            "\n",
            "I love the smell of roasting almonds in the kitchen. It has a magical quality - it almost transports me to a different time. It brings a peaceful feeling, like I'm ready to sneak off in sticky summer air to hunt my next meal. My biggest joy is roasting almonds while stalking prey.\n",
            "As I move closer to my bedroom door, I can hear a faint giggle. I know that sound - it's coming from Grandpa Joe who lives two towns over. The mental image of playing tug-of-war with him in the hospital pops into my head. I am exhausted but I feel a sense of contentment and connection to the greater world. You realize you're not alone as you sit in your bedroom massaging your calves after a long day of playing tug-of-war with Grandpa Joe in the hospital.\n",
            "\n",
            "Ralph's bedroom was routinely filled up with sound from the street outside his window, but nothing that would keep him awake at night. Yet, in the morning his bed sheets were always in disarray, like he was up and about while it was still dark outside. He had unknowingly taken up sleepwalking as a nighttime hobby.\n",
            "One evening, purely in his sleep, he decided to follow the bridge beyond his window. He was unaware of the danger, but it was as if he had no choice but to find out what awaited him. The overpass went under the highway and into a secret world.\n",
            "\n",
            "Joe had a unique way of dealing with the hospital noise. Instead of relying on traditional sound volume reducers, like earplugs and noise-cancelling headphones, Joe opted for a more creative way to reduce the sound. He decided to construct a makeshift megaphone using a handful of traffic cones and found that it worked perfectly! Joe discovered that traffic cones make excellent megaphones.\n",
            "The sound volume of the hospital was drastically reduced and Joe enjoyed the peace and quiet. However, the peace didn't last long as Grandpa Joe barged in the room, throwing down the gauntlet - a challenge to a round of tug-of-war. You realize you're not alone as you sit in your bedroom massaging your calves after a long day of playing tug-of-war with Grandpa Joe in the hospital.\n",
            "\n"
          ]
        }
      ],
      "source": [
        "# Print responses for 5 observations\n",
        "for i in range(5):\n",
        "    print(this_notebook_train_validate.iloc[i, 2])\n",
        "    print('')\n"
      ]
    },
    {
      "cell_type": "markdown",
      "metadata": {
        "id": "She6a_yOnVsI"
      },
      "source": [
        "### Format Dataset"
      ]
    },
    {
      "cell_type": "code",
      "execution_count": 22,
      "metadata": {
        "colab": {
          "base_uri": "https://localhost:8080/"
        },
        "id": "p9ZLRixKjVMZ",
        "outputId": "5e60c152-4196-4f76-8268-2f81d13d4eed"
      },
      "outputs": [],
      "source": [
        "def convert_to_gpt35_format(dataset):\n",
        "    fine_tuning_data = []\n",
        "    for _, row in dataset.iterrows():\n",
        "        json_response = '{\"Score\": \"' + str(row['coherence_1_incoherent_10_very_coherent']) + '\"}'\n",
        "        fine_tuning_data.append({\n",
        "            \"messages\": [\n",
        "                {\"role\": \"user\", \"content\": row['response'] + \"\\nYour Task: Rate the coherence of the passage above on a scale of 1 to 10, 1 being incoherent and 10 being very coherent.\"},\n",
        "                {\"role\": \"assistant\", \"content\": json_response}\n",
        "            ]\n",
        "        })\n",
        "    return fine_tuning_data\n"
      ]
    },
    {
      "cell_type": "code",
      "execution_count": 23,
      "metadata": {},
      "outputs": [
        {
          "data": {
            "text/plain": [
              "[{'role': 'user',\n",
              "  'content': \"Learning to do a handstand is a fun activity for people of all ages. It takes practice to master, but once you get the hang of it, you'll learn to balance your body in an upside-down position. It isn't difficult to do a handstand if you just stand on your hands.\\nJohn, a space explorer, felt excited when he first stepped on the moon. It was a unique experience that he thought he would never forget. To his surprise, a smell of seared steak followed him up the mountain of dust. It caught him off guard that space smelled of seared steak.\\nYour Task: Rate the coherence of the passage above on a scale of 1 to 10, 1 being incoherent and 10 being very coherent.\"},\n",
              " {'role': 'assistant', 'content': '{\"Score\": \"1\"}'}]"
            ]
          },
          "execution_count": 23,
          "metadata": {},
          "output_type": "execute_result"
        }
      ],
      "source": [
        "# Convert entire dataset\n",
        "dataset = this_notebook_train_validate\n",
        "converted_data = convert_to_gpt35_format(dataset)\n",
        "converted_data[0]['messages']\n"
      ]
    },
    {
      "cell_type": "code",
      "execution_count": 24,
      "metadata": {
        "colab": {
          "base_uri": "https://localhost:8080/"
        },
        "id": "bzOSh9ZOjh6P",
        "outputId": "0f954c17-e689-442e-9bae-7d77661f7de5"
      },
      "outputs": [
        {
          "data": {
            "text/plain": [
              "{'Score': '1'}"
            ]
          },
          "execution_count": 24,
          "metadata": {},
          "output_type": "execute_result"
        }
      ],
      "source": [
        "import json\n",
        "json.loads(converted_data[0]['messages'][-1]['content'])\n"
      ]
    },
    {
      "cell_type": "markdown",
      "metadata": {
        "id": "J5fM5yTsndjp"
      },
      "source": [
        "Create Train and Val Set"
      ]
    },
    {
      "cell_type": "code",
      "execution_count": 25,
      "metadata": {},
      "outputs": [
        {
          "data": {
            "text/plain": [
              "array(['td3_cw_direct_prompting_responses',\n",
              "       'td3_cw_zero_shot_cot_responses',\n",
              "       'td3_cw_ape_zero_shot_cot_responses',\n",
              "       'td3_cw_least_to_most_responses',\n",
              "       'td3_cw_manual_few_shot_responses', 'td3_cw_manual_cot_responses',\n",
              "       'td3_cw_tree_of_thought_responses', 'td3_cw_self_refine_responses',\n",
              "       'gpt4_cw_direct_prompting_responses',\n",
              "       'gpt4_cw_zero_shot_cot_responses',\n",
              "       'gpt4_cw_ape_zero_shot_cot_responses',\n",
              "       'gpt4_cw_tree_of_thought_responses',\n",
              "       'gpt4_cw_self_refine_responses', 'gpt4_cw_least_to_most_responses',\n",
              "       'gpt4_cw_manual_few_shot_responses',\n",
              "       'gpt4_cw_manual_cot_responses'], dtype=object)"
            ]
          },
          "execution_count": 25,
          "metadata": {},
          "output_type": "execute_result"
        }
      ],
      "source": [
        "# Print unique values of model_task_method\n",
        "this_notebook_train_validate['model_task_method'].unique()\n"
      ]
    },
    {
      "cell_type": "code",
      "execution_count": 26,
      "metadata": {
        "id": "jslTVNldj5Ml"
      },
      "outputs": [],
      "source": [
        "from sklearn.model_selection import train_test_split\n",
        "\n",
        "# Stratified splitting on model_task_method.\n",
        "train_data, val_data = train_test_split(\n",
        "    converted_data,\n",
        "    test_size=0.2,\n",
        "    stratify=this_notebook_train_validate['model_task_method'],\n",
        "    random_state=42  # for reproducibility\n",
        ")\n"
      ]
    },
    {
      "cell_type": "code",
      "execution_count": 27,
      "metadata": {
        "colab": {
          "base_uri": "https://localhost:8080/"
        },
        "id": "g1_sf-jBwc5Y",
        "outputId": "45578907-f3b7-438b-aad3-322afb9004e4"
      },
      "outputs": [
        {
          "data": {
            "text/plain": [
              "dict"
            ]
          },
          "execution_count": 27,
          "metadata": {},
          "output_type": "execute_result"
        }
      ],
      "source": [
        "type(train_data[0])\n"
      ]
    },
    {
      "cell_type": "code",
      "execution_count": 28,
      "metadata": {},
      "outputs": [
        {
          "name": "stdout",
          "output_type": "stream",
          "text": [
            "640\n",
            "160\n"
          ]
        }
      ],
      "source": [
        "print(len(train_data))\n",
        "print(len(val_data))\n"
      ]
    },
    {
      "cell_type": "markdown",
      "metadata": {
        "id": "GJPNfP_GnrDq"
      },
      "source": [
        "Create JSONL file"
      ]
    },
    {
      "cell_type": "code",
      "execution_count": 29,
      "metadata": {
        "id": "31vTBdJiitzX"
      },
      "outputs": [],
      "source": [
        "def write_to_jsonl(data, file_path):\n",
        "    with open(file_path, 'w') as file:\n",
        "        for entry in data:\n",
        "            json.dump(entry, file)\n",
        "            file.write('\\n')\n",
        "\n",
        "\n",
        "training_file_name = \"train_\" + this_nb + \".jsonl\"\n",
        "validation_file_name = \"val_\" + this_nb + \".jsonl\"\n",
        "\n",
        "write_to_jsonl(train_data, training_file_name)\n",
        "write_to_jsonl(val_data, validation_file_name)\n"
      ]
    },
    {
      "cell_type": "code",
      "execution_count": 30,
      "metadata": {},
      "outputs": [],
      "source": [
        "# # Get and set API key\n",
        "# with open('C:/Users/ijyli/Documents/OpenAI/anlp23-project.txt', 'r') as file:\n",
        "#     api_key = file.read()\n",
        "# openai.api_key = api_key\n"
      ]
    },
    {
      "cell_type": "code",
      "execution_count": 36,
      "metadata": {},
      "outputs": [
        {
          "ename": "NameError",
          "evalue": "name 'OpenAI' is not defined",
          "output_type": "error",
          "traceback": [
            "\u001b[1;31m---------------------------------------------------------------------------\u001b[0m",
            "\u001b[1;31mNameError\u001b[0m                                 Traceback (most recent call last)",
            "\u001b[1;32mc:\\Users\\ijyli\\repo\\anlp23-project\\Data\\03b - Finetuning GPT-3.5 - CW Coherence - First 50%.ipynb Cell 19\u001b[0m line \u001b[0;36m6\n\u001b[0;32m      <a href='vscode-notebook-cell:/c%3A/Users/ijyli/repo/anlp23-project/Data/03b%20-%20Finetuning%20GPT-3.5%20-%20CW%20Coherence%20-%20First%2050%25.ipynb#X44sZmlsZQ%3D%3D?line=2'>3</a>\u001b[0m     my_api_key \u001b[39m=\u001b[39m file\u001b[39m.\u001b[39mread()\n\u001b[0;32m      <a href='vscode-notebook-cell:/c%3A/Users/ijyli/repo/anlp23-project/Data/03b%20-%20Finetuning%20GPT-3.5%20-%20CW%20Coherence%20-%20First%2050%25.ipynb#X44sZmlsZQ%3D%3D?line=4'>5</a>\u001b[0m \u001b[39mimport\u001b[39;00m \u001b[39mopenai\u001b[39;00m\n\u001b[1;32m----> <a href='vscode-notebook-cell:/c%3A/Users/ijyli/repo/anlp23-project/Data/03b%20-%20Finetuning%20GPT-3.5%20-%20CW%20Coherence%20-%20First%2050%25.ipynb#X44sZmlsZQ%3D%3D?line=5'>6</a>\u001b[0m client \u001b[39m=\u001b[39m OpenAI(\n\u001b[0;32m      <a href='vscode-notebook-cell:/c%3A/Users/ijyli/repo/anlp23-project/Data/03b%20-%20Finetuning%20GPT-3.5%20-%20CW%20Coherence%20-%20First%2050%25.ipynb#X44sZmlsZQ%3D%3D?line=6'>7</a>\u001b[0m     api_key\u001b[39m=\u001b[39m\u001b[39m\"\u001b[39m\u001b[39mYOUR_API_KEY\u001b[39m\u001b[39m\"\u001b[39m,\n\u001b[0;32m      <a href='vscode-notebook-cell:/c%3A/Users/ijyli/repo/anlp23-project/Data/03b%20-%20Finetuning%20GPT-3.5%20-%20CW%20Coherence%20-%20First%2050%25.ipynb#X44sZmlsZQ%3D%3D?line=7'>8</a>\u001b[0m )\n",
            "\u001b[1;31mNameError\u001b[0m: name 'OpenAI' is not defined"
          ]
        }
      ],
      "source": [
        "\n",
        "# Get and set API key\n",
        "with open('C:/Users/ijyli/Documents/OpenAI/anlp23-project.txt', 'r') as file:\n",
        "    my_api_key = file.read()\n",
        "\n",
        "from openai import OpenAI\n",
        "client = OpenAI(\n",
        "    api_key=\"YOUR_API_KEY\",\n",
        ")\n"
      ]
    },
    {
      "cell_type": "markdown",
      "metadata": {
        "id": "mHIVr7BAnyjC"
      },
      "source": [
        "Upload Training and Validation File"
      ]
    },
    {
      "cell_type": "code",
      "execution_count": 31,
      "metadata": {
        "colab": {
          "base_uri": "https://localhost:8080/"
        },
        "id": "LpCsg8I2ZxLK",
        "outputId": "9ce65740-674b-446b-9829-b9c04c6097c1"
      },
      "outputs": [
        {
          "ename": "NameError",
          "evalue": "name 'client' is not defined",
          "output_type": "error",
          "traceback": [
            "\u001b[1;31m---------------------------------------------------------------------------\u001b[0m",
            "\u001b[1;31mNameError\u001b[0m                                 Traceback (most recent call last)",
            "\u001b[1;32mc:\\Users\\ijyli\\repo\\anlp23-project\\Data\\03b - Finetuning GPT-3.5 - CW Coherence - First 50%.ipynb Cell 20\u001b[0m line \u001b[0;36m1\n\u001b[1;32m----> <a href='vscode-notebook-cell:/c%3A/Users/ijyli/repo/anlp23-project/Data/03b%20-%20Finetuning%20GPT-3.5%20-%20CW%20Coherence%20-%20First%2050%25.ipynb#X22sZmlsZQ%3D%3D?line=0'>1</a>\u001b[0m training_file \u001b[39m=\u001b[39m client\u001b[39m.\u001b[39mfiles\u001b[39m.\u001b[39mcreate(\n\u001b[0;32m      <a href='vscode-notebook-cell:/c%3A/Users/ijyli/repo/anlp23-project/Data/03b%20-%20Finetuning%20GPT-3.5%20-%20CW%20Coherence%20-%20First%2050%25.ipynb#X22sZmlsZQ%3D%3D?line=1'>2</a>\u001b[0m     file\u001b[39m=\u001b[39m\u001b[39mopen\u001b[39m(training_file_name, \u001b[39m\"\u001b[39m\u001b[39mrb\u001b[39m\u001b[39m\"\u001b[39m), purpose\u001b[39m=\u001b[39m\u001b[39m\"\u001b[39m\u001b[39mfine-tune\u001b[39m\u001b[39m\"\u001b[39m\n\u001b[0;32m      <a href='vscode-notebook-cell:/c%3A/Users/ijyli/repo/anlp23-project/Data/03b%20-%20Finetuning%20GPT-3.5%20-%20CW%20Coherence%20-%20First%2050%25.ipynb#X22sZmlsZQ%3D%3D?line=2'>3</a>\u001b[0m )\n\u001b[0;32m      <a href='vscode-notebook-cell:/c%3A/Users/ijyli/repo/anlp23-project/Data/03b%20-%20Finetuning%20GPT-3.5%20-%20CW%20Coherence%20-%20First%2050%25.ipynb#X22sZmlsZQ%3D%3D?line=3'>4</a>\u001b[0m validation_file \u001b[39m=\u001b[39m client\u001b[39m.\u001b[39mfiles\u001b[39m.\u001b[39mcreate(\n\u001b[0;32m      <a href='vscode-notebook-cell:/c%3A/Users/ijyli/repo/anlp23-project/Data/03b%20-%20Finetuning%20GPT-3.5%20-%20CW%20Coherence%20-%20First%2050%25.ipynb#X22sZmlsZQ%3D%3D?line=4'>5</a>\u001b[0m     file\u001b[39m=\u001b[39m\u001b[39mopen\u001b[39m(validation_file_name, \u001b[39m\"\u001b[39m\u001b[39mrb\u001b[39m\u001b[39m\"\u001b[39m), purpose\u001b[39m=\u001b[39m\u001b[39m\"\u001b[39m\u001b[39mfine-tune\u001b[39m\u001b[39m\"\u001b[39m\n\u001b[0;32m      <a href='vscode-notebook-cell:/c%3A/Users/ijyli/repo/anlp23-project/Data/03b%20-%20Finetuning%20GPT-3.5%20-%20CW%20Coherence%20-%20First%2050%25.ipynb#X22sZmlsZQ%3D%3D?line=5'>6</a>\u001b[0m )\n\u001b[0;32m      <a href='vscode-notebook-cell:/c%3A/Users/ijyli/repo/anlp23-project/Data/03b%20-%20Finetuning%20GPT-3.5%20-%20CW%20Coherence%20-%20First%2050%25.ipynb#X22sZmlsZQ%3D%3D?line=7'>8</a>\u001b[0m \u001b[39mprint\u001b[39m(\u001b[39m\"\u001b[39m\u001b[39mTraining file id:\u001b[39m\u001b[39m\"\u001b[39m, training_file\u001b[39m.\u001b[39mid)\n",
            "\u001b[1;31mNameError\u001b[0m: name 'client' is not defined"
          ]
        }
      ],
      "source": [
        "training_file = client.files.create(\n",
        "    file=open(training_file_name, \"rb\"), purpose=\"fine-tune\"\n",
        ")\n",
        "validation_file = client.files.create(\n",
        "    file=open(validation_file_name, \"rb\"), purpose=\"fine-tune\"\n",
        ")\n",
        "\n",
        "print(\"Training file id:\", training_file.id)\n",
        "print(\"Validation file id:\", validation_file.id)\n"
      ]
    },
    {
      "cell_type": "markdown",
      "metadata": {
        "id": "qCwIEinan2il"
      },
      "source": [
        "Create Finetuning Job"
      ]
    },
    {
      "cell_type": "code",
      "execution_count": null,
      "metadata": {
        "colab": {
          "base_uri": "https://localhost:8080/"
        },
        "id": "k17X6KNaaIRJ",
        "outputId": "a66d283d-03f7-4ae3-f322-bd449042dfbd"
      },
      "outputs": [
        {
          "data": {
            "text/plain": [
              "FineTuningJob(id='ftjob-dyySU8thbv5LBSdq1KrXZiki', created_at=1699779814, error=None, fine_tuned_model=None, finished_at=None, hyperparameters=Hyperparameters(n_epochs='auto', batch_size='auto', learning_rate_multiplier='auto'), model='gpt-3.5-turbo-0613', object='fine_tuning.job', organization_id='org-GopHvIe9DrH2zt9iInyLCoD8', result_files=[], status='validating_files', trained_tokens=None, training_file='file-lH871kh5kCsKUV31vYjbxe7C', validation_file='file-jg2GAagSKpGN7mgicEiKdayI')"
            ]
          },
          "execution_count": 11,
          "metadata": {},
          "output_type": "execute_result"
        }
      ],
      "source": [
        "suffix_name = this_nb\n",
        "\n",
        "response = client.fine_tuning.jobs.create(\n",
        "    training_file=training_file.id,\n",
        "    validation_file=validation_file.id,\n",
        "    model=\"gpt-3.5-turbo\",\n",
        "    suffix=suffix_name,\n",
        ")\n",
        "response\n"
      ]
    },
    {
      "cell_type": "markdown",
      "metadata": {
        "id": "ljw1wDrCn5gK"
      },
      "source": [
        "### All Finetuning  Jobs"
      ]
    },
    {
      "cell_type": "code",
      "execution_count": null,
      "metadata": {
        "colab": {
          "base_uri": "https://localhost:8080/"
        },
        "id": "PfDOr6apak7C",
        "outputId": "b88aed95-a9de-4863-fa59-b84c43ca81b9"
      },
      "outputs": [
        {
          "data": {
            "text/plain": [
              "SyncCursorPage[FineTuningJob](data=[FineTuningJob(id='ftjob-dyySU8thbv5LBSdq1KrXZiki', created_at=1699779814, error=None, fine_tuned_model=None, finished_at=None, hyperparameters=Hyperparameters(n_epochs=3, batch_size=1, learning_rate_multiplier=2), model='gpt-3.5-turbo-0613', object='fine_tuning.job', organization_id='org-GopHvIe9DrH2zt9iInyLCoD8', result_files=[], status='running', trained_tokens=None, training_file='file-lH871kh5kCsKUV31vYjbxe7C', validation_file='file-jg2GAagSKpGN7mgicEiKdayI'), FineTuningJob(id='ftjob-h5P9gmmDXysjbOD99jz8TtYv', created_at=1699776576, error=None, fine_tuned_model='ft:gpt-3.5-turbo-0613:futuresmart-ai:yt:8Jzz2CMc', finished_at=1699777187, hyperparameters=Hyperparameters(n_epochs=3, batch_size=1, learning_rate_multiplier=2), model='gpt-3.5-turbo-0613', object='fine_tuning.job', organization_id='org-GopHvIe9DrH2zt9iInyLCoD8', result_files=['file-94bTw4zTuPmEg5cDx8UbIg7S'], status='succeeded', trained_tokens=9123, training_file='file-xWkwYEZgnD9boGLZAR6ebpYO', validation_file='file-R4ZUTOca4nq1l3yzEhDIkbXR'), FineTuningJob(id='ftjob-iV3UJthlZrnTgGcXV2mRDD6g', created_at=1698443996, error=None, fine_tuned_model='ft:gpt-3.5-turbo-0613:futuresmart-ai:belongai-test:8EPMULl2', finished_at=1698444773, hyperparameters=Hyperparameters(n_epochs=3, batch_size=1, learning_rate_multiplier=2), model='gpt-3.5-turbo-0613', object='fine_tuning.job', organization_id='org-GopHvIe9DrH2zt9iInyLCoD8', result_files=['file-3mzvwARFsJNiExT7zS1xtr0h'], status='succeeded', trained_tokens=21795, training_file='file-KPgqn6XJ2sCMxmuVPlqyq5de', validation_file=None), FineTuningJob(id='ftjob-JE5N4YBHKH5Pjq5FovyJf0h2', created_at=1698352493, error=None, fine_tuned_model='ft:gpt-3.5-turbo-0613:futuresmart-ai:belongai-test:8E1YRjSV', finished_at=1698353258, hyperparameters=Hyperparameters(n_epochs=3, batch_size=1, learning_rate_multiplier=2), model='gpt-3.5-turbo-0613', object='fine_tuning.job', organization_id='org-GopHvIe9DrH2zt9iInyLCoD8', result_files=['file-5L6mU9LrnGF4qJdk0wKxVDuI'], status='succeeded', trained_tokens=21795, training_file='file-U6oK19UWmOQB7ybBJwUZeoW2', validation_file=None)], object='list', has_more=False)"
            ]
          },
          "execution_count": 16,
          "metadata": {},
          "output_type": "execute_result"
        }
      ],
      "source": [
        "client.fine_tuning.jobs.list(limit=10)\n"
      ]
    },
    {
      "cell_type": "markdown",
      "metadata": {
        "id": "gQVbt40voAOx"
      },
      "source": [
        "### Retrieve Specific Job"
      ]
    },
    {
      "cell_type": "code",
      "execution_count": null,
      "metadata": {
        "colab": {
          "base_uri": "https://localhost:8080/"
        },
        "id": "k5JBvahHanUd",
        "outputId": "c7b84d09-a133-43a3-ffee-6d10bc0e557e"
      },
      "outputs": [
        {
          "data": {
            "text/plain": [
              "FineTuningJob(id='ftjob-h5P9gmmDXysjbOD99jz8TtYv', created_at=1699776576, error=None, fine_tuned_model='ft:gpt-3.5-turbo-0613:futuresmart-ai:yt:8Jzz2CMc', finished_at=1699777187, hyperparameters=Hyperparameters(n_epochs=3, batch_size=1, learning_rate_multiplier=2), model='gpt-3.5-turbo-0613', object='fine_tuning.job', organization_id='org-GopHvIe9DrH2zt9iInyLCoD8', result_files=['file-94bTw4zTuPmEg5cDx8UbIg7S'], status='succeeded', trained_tokens=9123, training_file='file-xWkwYEZgnD9boGLZAR6ebpYO', validation_file='file-R4ZUTOca4nq1l3yzEhDIkbXR')"
            ]
          },
          "execution_count": 14,
          "metadata": {},
          "output_type": "execute_result"
        }
      ],
      "source": [
        "#response = client.fine_tuning.jobs.retrieve(\"ftjob-h5P9gmmDXysjbOD99jz8TtYv\")\n",
        "response\n"
      ]
    },
    {
      "cell_type": "code",
      "execution_count": null,
      "metadata": {
        "colab": {
          "base_uri": "https://localhost:8080/"
        },
        "id": "ZRWVAjGparfK",
        "outputId": "480ccb49-fb58-4e12-b6af-4468a4cef9a6"
      },
      "outputs": [
        {
          "name": "stdout",
          "output_type": "stream",
          "text": [
            "\n",
            "Fine-tuned model id: ft:gpt-3.5-turbo-0613:futuresmart-ai:yt:8Jzz2CMc\n"
          ]
        }
      ],
      "source": [
        "fine_tuned_model_id = response.fine_tuned_model\n",
        "print(\"\\nFine-tuned model id:\", fine_tuned_model_id)\n"
      ]
    },
    {
      "cell_type": "markdown",
      "metadata": {
        "id": "YMsES5scoNTe"
      },
      "source": [
        "### Test Finetuned Model"
      ]
    },
    {
      "cell_type": "code",
      "execution_count": null,
      "metadata": {
        "id": "zApYdC-ibTVK"
      },
      "outputs": [],
      "source": [
        "def format_test(row):\n",
        "\n",
        "    formatted_message = [\n",
        "        {\n",
        "            \"role\": \"user\", \n",
        "            \"content\": row['response'] + \"\\nYour Task: Rate the coherence of the passage above on a scale of 1 to 10, 1 being incoherent and 10 being very coherent.\"\n",
        "        }\n",
        "    ]\n",
        "    return formatted_message\n",
        "\n",
        "\n",
        "def predict(test_messages, fine_tuned_model_id):\n",
        "\n",
        "    response = client.chat.completions.create(\n",
        "        model=fine_tuned_model_id, messages=test_messages, temperature=0, max_tokens=50\n",
        "    )\n",
        "\n",
        "    return response.choices[0].message.content\n"
      ]
    },
    {
      "cell_type": "code",
      "execution_count": null,
      "metadata": {
        "id": "l3f2IHkWbV1D"
      },
      "outputs": [],
      "source": [
        "def store_predictions(test_df, fine_tuned_model_id):\n",
        "\n",
        "    print(\"fine_tuned_model_id\",fine_tuned_model_id)\n",
        "    test_df['Prediction'] = None\n",
        "\n",
        "    for index, row in test_df.iterrows():\n",
        "        test_message = format_test(row)\n",
        "        prediction_result = predict(test_message, fine_tuned_model_id)\n",
        "        test_df.at[index, 'Prediction'] = prediction_result\n",
        "\n",
        "    test_df.to_csv(\"predictions_first_50.csv\")\n"
      ]
    },
    {
      "cell_type": "code",
      "execution_count": null,
      "metadata": {
        "colab": {
          "base_uri": "https://localhost:8080/"
        },
        "id": "mksdNQ-DbMHO",
        "outputId": "0459f600-a44e-48b7-d100-ddf581b0b240"
      },
      "outputs": [
        {
          "name": "stdout",
          "output_type": "stream",
          "text": [
            "fine_tuned_model_id ft:gpt-3.5-turbo-0613:futuresmart-ai:yt:8Jzz2CMc\n"
          ]
        }
      ],
      "source": [
        "test_df = this_notebook_predictions\n",
        "store_predictions(test_df, fine_tuned_model_id)\n"
      ]
    }
  ],
  "metadata": {
    "colab": {
      "provenance": []
    },
    "kernelspec": {
      "display_name": "Python 3",
      "name": "python3"
    },
    "language_info": {
      "codemirror_mode": {
        "name": "ipython",
        "version": 3
      },
      "file_extension": ".py",
      "mimetype": "text/x-python",
      "name": "python",
      "nbconvert_exporter": "python",
      "pygments_lexer": "ipython3",
      "version": "3.11.4"
    }
  },
  "nbformat": 4,
  "nbformat_minor": 0
}
