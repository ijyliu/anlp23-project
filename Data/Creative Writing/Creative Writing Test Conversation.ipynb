{
 "cells": [
  {
   "cell_type": "markdown",
   "metadata": {},
   "source": [
    "# Creative Writing Test Conversation.ipynb\n",
    "\n",
    "Experiment with a Creative Writing question and the self-refine method using the OpenAI API. "
   ]
  },
  {
   "cell_type": "code",
   "execution_count": 1,
   "metadata": {},
   "outputs": [],
   "source": [
    "import openai\n",
    "\n",
    "# Get and set API key\n",
    "with open('C:/Users/ijyli/Documents/OpenAI/anlp23-project.txt', 'r') as file:\n",
    "    api_key = file.read()\n",
    "openai.api_key = api_key\n"
   ]
  },
  {
   "cell_type": "code",
   "execution_count": 3,
   "metadata": {},
   "outputs": [
    {
     "name": "stdout",
     "output_type": "stream",
     "text": [
      "{\n",
      "  \"id\": \"chatcmpl-8IKvEhkvvaP5sgB27s7MCaffJ1mif\",\n",
      "  \"object\": \"chat.completion\",\n",
      "  \"created\": 1699381020,\n",
      "  \"model\": \"gpt-4-0613\",\n",
      "  \"choices\": [\n",
      "    {\n",
      "      \"index\": 0,\n",
      "      \"message\": {\n",
      "        \"role\": \"assistant\",\n",
      "        \"content\": \"OpenAI's mission is to ensure that artificial general intelligence (AGI) benefits all of humanity. They aim to directly build safe and beneficial AGI or to help others achieve these outcomes. OpenAI commits to utilize any influence over AGI's deployment to avoid harmful uses or undue concentration of power, and to prioritize long-term safety, technical leadership, and providing public goods to help society.\"\n",
      "      },\n",
      "      \"finish_reason\": \"stop\"\n",
      "    }\n",
      "  ],\n",
      "  \"usage\": {\n",
      "    \"prompt_tokens\": 14,\n",
      "    \"completion_tokens\": 78,\n",
      "    \"total_tokens\": 92\n",
      "  }\n",
      "}\n"
     ]
    },
    {
     "ename": "AttributeError",
     "evalue": "text",
     "output_type": "error",
     "traceback": [
      "\u001b[1;31m---------------------------------------------------------------------------\u001b[0m",
      "\u001b[1;31mKeyError\u001b[0m                                  Traceback (most recent call last)",
      "File \u001b[1;32mc:\\Users\\ijyli\\anaconda3\\envs\\anlp\\Lib\\site-packages\\openai\\openai_object.py:59\u001b[0m, in \u001b[0;36mOpenAIObject.__getattr__\u001b[1;34m(self, k)\u001b[0m\n\u001b[0;32m     58\u001b[0m \u001b[39mtry\u001b[39;00m:\n\u001b[1;32m---> 59\u001b[0m     \u001b[39mreturn\u001b[39;00m \u001b[39mself\u001b[39m[k]\n\u001b[0;32m     60\u001b[0m \u001b[39mexcept\u001b[39;00m \u001b[39mKeyError\u001b[39;00m \u001b[39mas\u001b[39;00m err:\n",
      "\u001b[1;31mKeyError\u001b[0m: 'text'",
      "\nDuring handling of the above exception, another exception occurred:\n",
      "\u001b[1;31mAttributeError\u001b[0m                            Traceback (most recent call last)",
      "\u001b[1;32mc:\\Users\\ijyli\\repo\\anlp23-project\\Data\\Creative Writing\\Test Conversation.ipynb Cell 3\u001b[0m line \u001b[0;36m8\n\u001b[0;32m      <a href='vscode-notebook-cell:/c%3A/Users/ijyli/repo/anlp23-project/Data/Creative%20Writing/Test%20Conversation.ipynb#W2sZmlsZQ%3D%3D?line=0'>1</a>\u001b[0m completion \u001b[39m=\u001b[39m openai\u001b[39m.\u001b[39mChatCompletion\u001b[39m.\u001b[39mcreate(\n\u001b[0;32m      <a href='vscode-notebook-cell:/c%3A/Users/ijyli/repo/anlp23-project/Data/Creative%20Writing/Test%20Conversation.ipynb#W2sZmlsZQ%3D%3D?line=1'>2</a>\u001b[0m   model\u001b[39m=\u001b[39m\u001b[39m\"\u001b[39m\u001b[39mgpt-4-0613\u001b[39m\u001b[39m\"\u001b[39m, \n\u001b[0;32m      <a href='vscode-notebook-cell:/c%3A/Users/ijyli/repo/anlp23-project/Data/Creative%20Writing/Test%20Conversation.ipynb#W2sZmlsZQ%3D%3D?line=2'>3</a>\u001b[0m   messages\u001b[39m=\u001b[39m[{\u001b[39m\"\u001b[39m\u001b[39mrole\u001b[39m\u001b[39m\"\u001b[39m: \u001b[39m\"\u001b[39m\u001b[39muser\u001b[39m\u001b[39m\"\u001b[39m, \u001b[39m\"\u001b[39m\u001b[39mcontent\u001b[39m\u001b[39m\"\u001b[39m: \u001b[39m\"\u001b[39m\u001b[39mWhat is the OpenAI mission?\u001b[39m\u001b[39m\"\u001b[39m}]\n\u001b[0;32m      <a href='vscode-notebook-cell:/c%3A/Users/ijyli/repo/anlp23-project/Data/Creative%20Writing/Test%20Conversation.ipynb#W2sZmlsZQ%3D%3D?line=3'>4</a>\u001b[0m )\n\u001b[0;32m      <a href='vscode-notebook-cell:/c%3A/Users/ijyli/repo/anlp23-project/Data/Creative%20Writing/Test%20Conversation.ipynb#W2sZmlsZQ%3D%3D?line=5'>6</a>\u001b[0m \u001b[39mprint\u001b[39m(completion)\n\u001b[1;32m----> <a href='vscode-notebook-cell:/c%3A/Users/ijyli/repo/anlp23-project/Data/Creative%20Writing/Test%20Conversation.ipynb#W2sZmlsZQ%3D%3D?line=7'>8</a>\u001b[0m \u001b[39mprint\u001b[39m(completion\u001b[39m.\u001b[39mchoices[\u001b[39m0\u001b[39m]\u001b[39m.\u001b[39mtext)\n",
      "File \u001b[1;32mc:\\Users\\ijyli\\anaconda3\\envs\\anlp\\Lib\\site-packages\\openai\\openai_object.py:61\u001b[0m, in \u001b[0;36mOpenAIObject.__getattr__\u001b[1;34m(self, k)\u001b[0m\n\u001b[0;32m     59\u001b[0m     \u001b[39mreturn\u001b[39;00m \u001b[39mself\u001b[39m[k]\n\u001b[0;32m     60\u001b[0m \u001b[39mexcept\u001b[39;00m \u001b[39mKeyError\u001b[39;00m \u001b[39mas\u001b[39;00m err:\n\u001b[1;32m---> 61\u001b[0m     \u001b[39mraise\u001b[39;00m \u001b[39mAttributeError\u001b[39;00m(\u001b[39m*\u001b[39merr\u001b[39m.\u001b[39margs)\n",
      "\u001b[1;31mAttributeError\u001b[0m: text"
     ]
    }
   ],
   "source": [
    "completion = openai.ChatCompletion.create(\n",
    "  model=\"gpt-4-0613\", \n",
    "  messages=[{\"role\": \"user\", \"content\": \"What is the OpenAI mission?\"}]\n",
    ")\n",
    "\n",
    "print(completion)\n"
   ]
  },
  {
   "cell_type": "code",
   "execution_count": 13,
   "metadata": {},
   "outputs": [
    {
     "name": "stdout",
     "output_type": "stream",
     "text": [
      "OpenAI's mission is to ensure that artificial general intelligence (AGI) benefits all of humanity. They aim to directly build safe and beneficial AGI or to help others achieve these outcomes. OpenAI commits to utilize any influence over AGI's deployment to avoid harmful uses or undue concentration of power, and to prioritize long-term safety, technical leadership, and providing public goods to help society.\n"
     ]
    }
   ],
   "source": [
    "print(completion['choices'][0]['message']['content'])\n"
   ]
  },
  {
   "cell_type": "code",
   "execution_count": 25,
   "metadata": {},
   "outputs": [],
   "source": [
    "# Send the current conversation as well as a new prompt and get a response\n",
    "def prompt_gpt_4_and_get_convo(messages, prompt):\n",
    "    messages_and_prompt = messages.copy()\n",
    "    messages_and_prompt.append({\"role\": \"user\", \"content\": prompt})\n",
    "    new_message = openai.ChatCompletion.create(\n",
    "        model=\"gpt-4-0613\", \n",
    "        messages=messages_and_prompt\n",
    "    )\n",
    "    with_new_message = messages_and_prompt.copy()\n",
    "    with_new_message.append(dict(new_message['choices'][0]['message']))\n",
    "    return with_new_message\n"
   ]
  },
  {
   "cell_type": "code",
   "execution_count": 31,
   "metadata": {},
   "outputs": [
    {
     "name": "stdout",
     "output_type": "stream",
     "text": [
      "[{'role': 'user', 'content': 'What is the longest river in the world?'}, {'role': 'assistant', 'content': 'The longest river in the world is the Nile River.'}]\n"
     ]
    }
   ],
   "source": [
    "conversation = []\n",
    "with_response = prompt_gpt_4_and_get_convo(conversation, 'What is the longest river in the world?')\n",
    "print(with_response)\n"
   ]
  },
  {
   "cell_type": "code",
   "execution_count": 32,
   "metadata": {},
   "outputs": [
    {
     "name": "stdout",
     "output_type": "stream",
     "text": [
      "[{'role': 'user', 'content': 'What is the longest river in the world?'}, {'role': 'assistant', 'content': 'The longest river in the world is the Nile River.'}, {'role': 'user', 'content': 'What continent is it on?'}, {'role': 'assistant', 'content': 'The Nile River is in Africa.'}]\n"
     ]
    }
   ],
   "source": [
    "with_another_response = prompt_gpt_4_and_get_convo(with_response, 'What continent is it on?')\n",
    "print(with_another_response)\n"
   ]
  },
  {
   "cell_type": "code",
   "execution_count": 39,
   "metadata": {},
   "outputs": [
    {
     "name": "stdout",
     "output_type": "stream",
     "text": [
      "It isn't difficult to do a handstand if you just stand on your hands. It caught him off guard that space smelled of seared steak. When she didn’t like a guy who was trying to pick her up, she started using sign language. Each person who knows you has a different perception of who you are.\n",
      "[\"It isn't difficult to do a handstand if you just stand on your hands.\", 'It caught him off guard that space smelled of seared steak.']\n"
     ]
    }
   ],
   "source": [
    "# Testing self-refine on a Creative Writing test question\n",
    "\n",
    "# Load in text file data_100_random_text.txt\n",
    "with open('data_100_random_text.txt', 'r') as file:\n",
    "    data = file.read()\n",
    "\n",
    "# Get first line\n",
    "first_line = data.split('\\n')[0]\n",
    "print(first_line)\n",
    "\n",
    "# Split on periods\n",
    "sentences = first_line.split('.')\n",
    "# print(sentences[0:2])\n",
    "\n",
    "# Get back form with periods and also stripping leading and trailing blanks\n",
    "sentences_with_periods = [sentence.strip() + '.' for sentence in sentences]\n",
    "print(sentences_with_periods[0:2])\n"
   ]
  },
  {
   "cell_type": "code",
   "execution_count": 42,
   "metadata": {},
   "outputs": [
    {
     "name": "stdout",
     "output_type": "stream",
     "text": [
      "Task: Write a coherent passage of 2 short paragraphs. The end sentence of each paragraph must be: 1. It isn't difficult to do a handstand if you just stand on your hands. 2. It caught him off guard that space smelled of seared steak.\n"
     ]
    }
   ],
   "source": [
    "# Initial task\n",
    "test_task = \"Task: Write a coherent passage of 2 short paragraphs. The end sentence of each paragraph must be: 1. \" + sentences_with_periods[0] + \" 2. \" + sentences_with_periods[1]\n",
    "test_task = test_task + \"\\nResponse: \"\n",
    "\n",
    "print(test_task)\n"
   ]
  },
  {
   "cell_type": "code",
   "execution_count": 43,
   "metadata": {},
   "outputs": [
    {
     "name": "stdout",
     "output_type": "stream",
     "text": [
      "[{'role': 'user', 'content': \"Task: Write a coherent passage of 2 short paragraphs. The end sentence of each paragraph must be: 1. It isn't difficult to do a handstand if you just stand on your hands. 2. It caught him off guard that space smelled of seared steak.\"}, {'role': 'assistant', 'content': \"Growing up, Timmy always considered himself quite the acrobat. His parents often would find him doing cartwheels in the garden, practicing somersaults on the living room rug, or trying to balance himself on the fence posts. Despite the occasional mishap, Timmy's quirky habits did much to entertain them. As Timmy became more confident in his abilities, he decided to challenge himself with a handstand. Eventually, he mastered it enough to demonstrate at a school talent show, causing a stir amongst his peers with his balancing prowess. It isn't difficult to do a handstand if you just stand on your hands.\\n\\nYears later, Timmy's adventurous nature sent him on to bigger and more ambitious endeavors. His acrobat roots and thirst for a challenge led him to pursue a career as an astronaut. After years of rigorous training, he finally got the opportunity to go to space. He was prepared to face weightlessness and the mesmerizing view of Earth from above, but there was something nobody had warned him about. Space had an unexpected odor. The moment he took off his helmet inside the spacecraft, a scent that reminded him of cooked meat swung into his nostrils. It caught him off guard that space smelled of seared steak.\"}]\n"
     ]
    }
   ],
   "source": [
    "# Initial ask\n",
    "with_response = prompt_gpt_4_and_get_convo(conversation, test_task)\n",
    "\n",
    "print(with_response)\n"
   ]
  },
  {
   "cell_type": "code",
   "execution_count": 45,
   "metadata": {},
   "outputs": [
    {
     "name": "stdout",
     "output_type": "stream",
     "text": [
      "Growing up, Timmy always considered himself quite the acrobat. His parents often would find him doing cartwheels in the garden, practicing somersaults on the living room rug, or trying to balance himself on the fence posts. Despite the occasional mishap, Timmy's quirky habits did much to entertain them. As Timmy became more confident in his abilities, he decided to challenge himself with a handstand. Eventually, he mastered it enough to demonstrate at a school talent show, causing a stir amongst his peers with his balancing prowess. It isn't difficult to do a handstand if you just stand on your hands.\n",
      "\n",
      "Years later, Timmy's adventurous nature sent him on to bigger and more ambitious endeavors. His acrobat roots and thirst for a challenge led him to pursue a career as an astronaut. After years of rigorous training, he finally got the opportunity to go to space. He was prepared to face weightlessness and the mesmerizing view of Earth from above, but there was something nobody had warned him about. Space had an unexpected odor. The moment he took off his helmet inside the spacecraft, a scent that reminded him of cooked meat swung into his nostrils. It caught him off guard that space smelled of seared steak.\n"
     ]
    }
   ],
   "source": [
    "print(with_response[-1]['content'])\n"
   ]
  },
  {
   "cell_type": "code",
   "execution_count": 47,
   "metadata": {},
   "outputs": [
    {
     "name": "stdout",
     "output_type": "stream",
     "text": [
      "Your Task: Provide feedback on the correctness and coherence of the response and a rating on a scale of 1-10. If it is already coherent and correct to the extent you would award a 10, output 10 and the word STOP.\n",
      "Feedback: \n",
      "Your Task: Rewrite the passage based on the most recent feedback.\n",
      "Response: \n"
     ]
    }
   ],
   "source": [
    "# Self-refine prompts\n",
    "self_refine_2 = \"Your Task: Provide feedback on the correctness and coherence of the response and a rating on a scale of 1-10. If it is already coherent and correct to the extent you would award a 10, output 10 and the word STOP.\"\n",
    "self_refine_2 = self_refine_2 + \"\\nFeedback: \"\n",
    "print(self_refine_2)\n",
    "\n",
    "self_refine_3 = \"Your Task: Rewrite the passage based on the most recent feedback.\"\n",
    "self_refine_3 = self_refine_3 + \"\\nResponse: \"\n",
    "print(self_refine_3)\n"
   ]
  },
  {
   "cell_type": "code",
   "execution_count": 50,
   "metadata": {},
   "outputs": [
    {
     "name": "stdout",
     "output_type": "stream",
     "text": [
      "[{'role': 'user', 'content': \"Task: Write a coherent passage of 2 short paragraphs. The end sentence of each paragraph must be: 1. It isn't difficult to do a handstand if you just stand on your hands. 2. It caught him off guard that space smelled of seared steak.\"}, {'role': 'assistant', 'content': 'For years, Bob had been practicing yoga, aiming to increase his balance and flexibility. He enjoyed the sense of peace it brought and aspired to conquer the most challenging poses. Up to this point, he had succeeded in perfecting various poses, but the handstand had always been a daunting challenge. He decided to simplify his approach. His yoga instructor once said, \"In order to master a handstand, you must first learn to stand on your hands.\" Bob realized the truth in those words: it wasn\\'t about having impressive strength or perfect balance. It wasn\\'t difficult to do a handstand if you just stand on your hands.\\n\\nAfter his yoga session, Bob sat down for an afternoon of reading. Being an avid Sci-fi enthusiast, he delved into his favourite genre. He stumbled upon a fascinating excerpt about astronauts describing their experiences in outer space. The information was both intriguing and mind-boggling. One detail, however, struck him as completely unexpected. An astronaut wrote about the odors lingering within their spacesuits post spacewalk, vividly describing the smell as similar to that of seared steak. This odd union of the celestial with the culinary grabbed Bob\\'s attention deeply—it caught him off guard that space smelled of seared steak.'}]\n",
      "[{'role': 'user', 'content': \"Task: Write a coherent passage of 2 short paragraphs. The end sentence of each paragraph must be: 1. It isn't difficult to do a handstand if you just stand on your hands. 2. It caught him off guard that space smelled of seared steak.\"}, {'role': 'assistant', 'content': 'For years, Bob had been practicing yoga, aiming to increase his balance and flexibility. He enjoyed the sense of peace it brought and aspired to conquer the most challenging poses. Up to this point, he had succeeded in perfecting various poses, but the handstand had always been a daunting challenge. He decided to simplify his approach. His yoga instructor once said, \"In order to master a handstand, you must first learn to stand on your hands.\" Bob realized the truth in those words: it wasn\\'t about having impressive strength or perfect balance. It wasn\\'t difficult to do a handstand if you just stand on your hands.\\n\\nAfter his yoga session, Bob sat down for an afternoon of reading. Being an avid Sci-fi enthusiast, he delved into his favourite genre. He stumbled upon a fascinating excerpt about astronauts describing their experiences in outer space. The information was both intriguing and mind-boggling. One detail, however, struck him as completely unexpected. An astronaut wrote about the odors lingering within their spacesuits post spacewalk, vividly describing the smell as similar to that of seared steak. This odd union of the celestial with the culinary grabbed Bob\\'s attention deeply—it caught him off guard that space smelled of seared steak.'}]\n",
      "[{'role': 'user', 'content': \"Task: Write a coherent passage of 2 short paragraphs. The end sentence of each paragraph must be: 1. It isn't difficult to do a handstand if you just stand on your hands. 2. It caught him off guard that space smelled of seared steak.\"}, {'role': 'assistant', 'content': 'For years, Bob had been practicing yoga, aiming to increase his balance and flexibility. He enjoyed the sense of peace it brought and aspired to conquer the most challenging poses. Up to this point, he had succeeded in perfecting various poses, but the handstand had always been a daunting challenge. He decided to simplify his approach. His yoga instructor once said, \"In order to master a handstand, you must first learn to stand on your hands.\" Bob realized the truth in those words: it wasn\\'t about having impressive strength or perfect balance. It wasn\\'t difficult to do a handstand if you just stand on your hands.\\n\\nAfter his yoga session, Bob sat down for an afternoon of reading. Being an avid Sci-fi enthusiast, he delved into his favourite genre. He stumbled upon a fascinating excerpt about astronauts describing their experiences in outer space. The information was both intriguing and mind-boggling. One detail, however, struck him as completely unexpected. An astronaut wrote about the odors lingering within their spacesuits post spacewalk, vividly describing the smell as similar to that of seared steak. This odd union of the celestial with the culinary grabbed Bob\\'s attention deeply—it caught him off guard that space smelled of seared steak.'}, {'role': 'user', 'content': 'Your Task: Provide feedback on the correctness and coherence of the response and a rating on a scale of 1-10. If it is already coherent and correct to the extent you would award a 10, output 10 and the word STOP.\\nFeedback: '}, {'role': 'assistant', 'content': \"The passage is both coherent and correct. The transition between seemingly disconnected topics - yoga handstand and the smell of space - is skillfully handled, providing a seamless reading experience. The use of Bob's character and his actions make the two topics veer into each other smoothly. The writing is clear, well-structured and engaging. On the scale of 1-10, I would rate it 10. STOP.\"}]\n"
     ]
    }
   ],
   "source": [
    "# Self-refinement loop\n",
    "# Storing conversation elements\n",
    "conversation = []\n",
    "updated_convo = []\n",
    "new_last_step = \"\"\n",
    "# Maximum of 16 items in the conversation\n",
    "for i in range(16):\n",
    "    convo_to_feed = updated_convo.copy()\n",
    "    last_step_this_loop = new_last_step\n",
    "    # Get the response\n",
    "    if i == 0:\n",
    "        updated_convo = prompt_gpt_4_and_get_convo(conversation, test_task)\n",
    "        new_last_step = \"initial\"\n",
    "    #print(updated_convo)\n",
    "    # If the response contains STOP, stop\n",
    "    if \"STOP\" in updated_convo[-1]['content']:\n",
    "        break\n",
    "    # If last step was initial step or self_refine_3 need self_refine_2\n",
    "    if last_step_this_loop == \"initial\" or last_step_this_loop == \"self_refine_3\":\n",
    "        updated_convo = prompt_gpt_4_and_get_convo(convo_to_feed, self_refine_2)\n",
    "        new_last_step = \"self_refine_2\"\n",
    "    # If last step was tot_prompt_2 need tot_prompt_3\n",
    "    if last_step_this_loop == \"self_refine_2\":\n",
    "        updated_convo = prompt_gpt_4_and_get_convo(convo_to_feed, self_refine_3)\n",
    "        new_last_step = \"self_refine_3\"\n"
   ]
  },
  {
   "cell_type": "code",
   "execution_count": 51,
   "metadata": {},
   "outputs": [
    {
     "name": "stdout",
     "output_type": "stream",
     "text": [
      "[{'role': 'user', 'content': \"Task: Write a coherent passage of 2 short paragraphs. The end sentence of each paragraph must be: 1. It isn't difficult to do a handstand if you just stand on your hands. 2. It caught him off guard that space smelled of seared steak.\"}, {'role': 'assistant', 'content': 'For years, Bob had been practicing yoga, aiming to increase his balance and flexibility. He enjoyed the sense of peace it brought and aspired to conquer the most challenging poses. Up to this point, he had succeeded in perfecting various poses, but the handstand had always been a daunting challenge. He decided to simplify his approach. His yoga instructor once said, \"In order to master a handstand, you must first learn to stand on your hands.\" Bob realized the truth in those words: it wasn\\'t about having impressive strength or perfect balance. It wasn\\'t difficult to do a handstand if you just stand on your hands.\\n\\nAfter his yoga session, Bob sat down for an afternoon of reading. Being an avid Sci-fi enthusiast, he delved into his favourite genre. He stumbled upon a fascinating excerpt about astronauts describing their experiences in outer space. The information was both intriguing and mind-boggling. One detail, however, struck him as completely unexpected. An astronaut wrote about the odors lingering within their spacesuits post spacewalk, vividly describing the smell as similar to that of seared steak. This odd union of the celestial with the culinary grabbed Bob\\'s attention deeply—it caught him off guard that space smelled of seared steak.'}, {'role': 'user', 'content': 'Your Task: Provide feedback on the correctness and coherence of the response and a rating on a scale of 1-10. If it is already coherent and correct to the extent you would award a 10, output 10 and the word STOP.\\nFeedback: '}, {'role': 'assistant', 'content': \"The passage is both coherent and correct. The transition between seemingly disconnected topics - yoga handstand and the smell of space - is skillfully handled, providing a seamless reading experience. The use of Bob's character and his actions make the two topics veer into each other smoothly. The writing is clear, well-structured and engaging. On the scale of 1-10, I would rate it 10. STOP.\"}]\n"
     ]
    }
   ],
   "source": [
    "print(updated_convo)\n"
   ]
  },
  {
   "cell_type": "code",
   "execution_count": 15,
   "metadata": {},
   "outputs": [],
   "source": [
    "# Output updated_convo to a text file\n",
    "# Each element of the list should be on a new line\n",
    "with open('updated_convo.txt', 'w') as file:\n",
    "    for item in updated_convo:\n",
    "        file.write(\"%s\\n\" % item)\n"
   ]
  }
 ],
 "metadata": {
  "kernelspec": {
   "display_name": "anlp",
   "language": "python",
   "name": "python3"
  },
  "language_info": {
   "codemirror_mode": {
    "name": "ipython",
    "version": 3
   },
   "file_extension": ".py",
   "mimetype": "text/x-python",
   "name": "python",
   "nbconvert_exporter": "python",
   "pygments_lexer": "ipython3",
   "version": "3.11.4"
  }
 },
 "nbformat": 4,
 "nbformat_minor": 2
}
