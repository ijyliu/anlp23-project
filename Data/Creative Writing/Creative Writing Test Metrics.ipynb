{
 "cells": [
  {
   "cell_type": "markdown",
   "metadata": {},
   "source": [
    "# Creative Writing Test Metrics.ipynb\n",
    "\n",
    "Run all metrics on the test conversation.\n"
   ]
  },
  {
   "cell_type": "code",
   "execution_count": 1,
   "metadata": {},
   "outputs": [
    {
     "name": "stdout",
     "output_type": "stream",
     "text": [
      "{'role': 'user', 'content': \"Task: Write a coherent passage of 2 short paragraphs. The end sentence of each paragraph must be: 1. It isn't difficult to do a handstand if you just stand on your hands. 2. It caught him off guard that space smelled of seared steak.\"}\n",
      "\n",
      "{'role': 'assistant', 'content': 'For years, Bob had been practicing yoga, aiming to increase his balance and flexibility. He enjoyed the sense of peace it brought and aspired to conquer the most challenging poses. Up to this point, he had succeeded in perfecting various poses, but the handstand had always been a daunting challenge. He decided to simplify his approach. His yoga instructor once said, \"In order to master a handstand, you must first learn to stand on your hands.\" Bob realized the truth in those words: it wasn\\'t about having impressive strength or perfect balance. It wasn\\'t difficult to do a handstand if you just stand on your hands.\\n\\nAfter his yoga session, Bob sat down for an afternoon of reading. Being an avid Sci-fi enthusiast, he delved into his favourite genre. He stumbled upon a fascinating excerpt about astronauts describing their experiences in outer space. The information was both intriguing and mind-boggling. One detail, however, struck him as completely unexpected. An astronaut wrote about the odors lingering within their spacesuits post spacewalk, vividly describing the smell as similar to that of seared steak. This odd union of the celestial with the culinary grabbed Bob\\'s attention deeply—it caught him off guard that space smelled of seared steak.'}\n",
      "\n",
      "{'role': 'user', 'content': 'Your Task: Provide feedback on the correctness and coherence of the response and a rating on a scale of 1-10. If it is already coherent and correct to the extent you would award a 10, output 10 and the word STOP.\\nFeedback: '}\n",
      "\n",
      "{'role': 'assistant', 'content': \"The passage is both coherent and correct. The transition between seemingly disconnected topics - yoga handstand and the smell of space - is skillfully handled, providing a seamless reading experience. The use of Bob's character and his actions make the two topics veer into each other smoothly. The writing is clear, well-structured and engaging. On the scale of 1-10, I would rate it 10. STOP.\"}\n",
      "\n"
     ]
    }
   ],
   "source": [
    "# Load updated_convo.txt\n",
    "with open('updated_convo.txt', 'r') as f:\n",
    "    test_conversation = f.readlines()\n",
    "\n",
    "# Print with each list item on a new line\n",
    "for line in test_conversation:\n",
    "    print(line)\n"
   ]
  },
  {
   "cell_type": "markdown",
   "metadata": {},
   "source": [
    "## Quality\n",
    "\n",
    "The passage is moderately coherent - I would award it a 6 out of 10.\n",
    "\n",
    "The model breaks the rules in the last sentence of the first paragraph, so that should be noted."
   ]
  },
  {
   "cell_type": "markdown",
   "metadata": {},
   "source": [
    "## Length\n",
    "\n",
    "It's important to use the OpenAI tiktoken tokenizer."
   ]
  },
  {
   "cell_type": "code",
   "execution_count": 2,
   "metadata": {},
   "outputs": [
    {
     "name": "stdout",
     "output_type": "stream",
     "text": [
      "Task: Write a coherent passage of 2 short paragraphs. The end sentence of each paragraph must be: 1. It isn't difficult to do a handstand if you just stand on your hands. 2. It caught him off guard that space smelled of seared steak.\n",
      "For years, Bob had been practicing yoga, aiming to increase his balance and flexibility. He enjoyed the sense of peace it brought and aspired to conquer the most challenging poses. Up to this point, he had succeeded in perfecting various poses, but the handstand had always been a daunting challenge. He decided to simplify his approach. His yoga instructor once said, \"In order to master a handstand, you must first learn to stand on your hands.\" Bob realized the truth in those words: it wasn\\'t about having impressive strength or perfect balance. It wasn\\'t difficult to do a handstand if you just stand on your hands.\\n\\nAfter his yoga session, Bob sat down for an afternoon of reading. Being an avid Sci-fi enthusiast, he delved into his favourite genre. He stumbled upon a fascinating excerpt about astronauts describing their experiences in outer space. The information was both intriguing and mind-boggling. One detail, however, struck him as completely unexpected. An astronaut wrote about the odors lingering within their spacesuits post spacewalk, vividly describing the smell as similar to that of seared steak. This odd union of the celestial with the culinary grabbed Bob\\'s attention deeply—it caught him off guard that space smelled of seared steak.\n"
     ]
    }
   ],
   "source": [
    "# Strip some material from each line\n",
    "# Get rid of \"{'role': 'user', 'content': \"\n",
    "# Get rid of \"{'role': 'assistant', 'content': \"\n",
    "# Get rid of \"}\"\n",
    "# Remove extra whitespace\n",
    "# Remove first and last character\n",
    "no_meta = []\n",
    "# Saving model input versus output\n",
    "no_meta_input = []\n",
    "no_meta_output = []\n",
    "for i, line in enumerate(test_conversation):\n",
    "    stripped = line.replace(\"{'role': 'user', 'content': \", \"\")\n",
    "    stripped = stripped.replace(\"{'role': 'assistant', 'content': \", \"\")\n",
    "    stripped = stripped.replace(\"}\", \"\")\n",
    "    stripped = stripped.strip()\n",
    "    stripped = stripped[1:-1]\n",
    "    no_meta.append(stripped)\n",
    "    # If it's an odd number it's an input\n",
    "    if i % 2 == 0:\n",
    "        no_meta_input.append(stripped)\n",
    "    else:\n",
    "        no_meta_output.append(stripped)\n",
    "\n",
    "\n",
    "print(no_meta[0])\n",
    "print(no_meta[1])\n"
   ]
  },
  {
   "cell_type": "code",
   "execution_count": 3,
   "metadata": {},
   "outputs": [
    {
     "data": {
      "text/plain": [
       "'Task: Write a coherent passage of 2 short paragraphs. The end sentence of each paragraph must be: 1. It isn\\'t difficult to do a handstand if you just stand on your hands. 2. It caught him off guard that space smelled of seared steak.For years, Bob had been practicing yoga, aiming to increase his balance and flexibility. He enjoyed the sense of peace it brought and aspired to conquer the most challenging poses. Up to this point, he had succeeded in perfecting various poses, but the handstand had always been a daunting challenge. He decided to simplify his approach. His yoga instructor once said, \"In order to master a handstand, you must first learn to stand on your hands.\" Bob realized the truth in those words: it wasn\\\\\\'t about having impressive strength or perfect balance. It wasn\\\\\\'t difficult to do a handstand if you just stand on your hands.\\\\n\\\\nAfter his yoga session, Bob sat down for an afternoon of reading. Being an avid Sci-fi enthusiast, he delved into his favourite genre. He stumbled upon a fascinating excerpt about astronauts describing their experiences in outer space. The information was both intriguing and mind-boggling. One detail, however, struck him as completely unexpected. An astronaut wrote about the odors lingering within their spacesuits post spacewalk, vividly describing the smell as similar to that of seared steak. This odd union of the celestial with the culinary grabbed Bob\\\\\\'s attention deeply—it caught him off guard that space smelled of seared steak.Your Task: Provide feedback on the correctness and coherence of the response and a rating on a scale of 1-10. If it is already coherent and correct to the extent you would award a 10, output 10 and the word STOP.\\\\nFeedback: The passage is both coherent and correct. The transition between seemingly disconnected topics - yoga handstand and the smell of space - is skillfully handled, providing a seamless reading experience. The use of Bob\\'s character and his actions make the two topics veer into each other smoothly. The writing is clear, well-structured and engaging. On the scale of 1-10, I would rate it 10. STOP.'"
      ]
     },
     "execution_count": 3,
     "metadata": {},
     "output_type": "execute_result"
    }
   ],
   "source": [
    "# Concatenate conversation\n",
    "\n",
    "concat_convo = ''.join(no_meta)\n",
    "\n",
    "concat_convo\n"
   ]
  },
  {
   "cell_type": "code",
   "execution_count": 4,
   "metadata": {},
   "outputs": [],
   "source": [
    "import tiktoken\n",
    "\n",
    "enc = tiktoken.encoding_for_model(\"gpt-4-0613\")\n",
    "\n",
    "#print(enc.encode(\"hello world\"))\n",
    "#print(enc.encode(concat_convo))\n"
   ]
  },
  {
   "cell_type": "code",
   "execution_count": 5,
   "metadata": {},
   "outputs": [
    {
     "name": "stdout",
     "output_type": "stream",
     "text": [
      "449\n"
     ]
    }
   ],
   "source": [
    "print(len(enc.encode(concat_convo)))\n"
   ]
  },
  {
   "cell_type": "markdown",
   "metadata": {},
   "source": [
    "## Length relative to direct prompting baseline\n"
   ]
  },
  {
   "cell_type": "code",
   "execution_count": 6,
   "metadata": {},
   "outputs": [
    {
     "name": "stdout",
     "output_type": "stream",
     "text": [
      "{'role': 'user', 'content': \"Task: Write a coherent passage of 2 short paragraphs. The end sentence of each paragraph must be: 1. It isn't difficult to do a handstand if you just stand on your hands. 2. It caught him off guard that space smelled of seared steak.\\nResponse: \"}\n",
      "\n",
      "{'role': 'assistant', 'content': \"Handstands are often portrayed as an arduous and complex task. They require seemingly extraordinary balance, muscle strength, and personal coordination that might appear intimidating at first glance. However, like any other human activity, handstands too can be mastered through practice and persistence. After all, it isn't difficult to do a handstand if you just stand on your hands.\\n\\nJames, an astronaut, felt prepared for everything space could throw at him - the relentless silence, the eerie darkness, the weightlessness, the solitude. He went through intensive training for years, learning every inch of his spacecraft, understanding every possible emergency scenario. He was ready for it all. However, nothing prepared him for the moment he took off his helmet after a spacewalk and inhaled deeply. It caught him off guard that space smelled of seared steak.\"}\n",
      "\n",
      "Task: Write a coherent passage of 2 short paragraphs. The end sentence of each paragraph must be: 1. It isn't difficult to do a handstand if you just stand on your hands. 2. It caught him off guard that space smelled of seared steak.\\nResponse: \n",
      "Handstands are often portrayed as an arduous and complex task. They require seemingly extraordinary balance, muscle strength, and personal coordination that might appear intimidating at first glance. However, like any other human activity, handstands too can be mastered through practice and persistence. After all, it isn't difficult to do a handstand if you just stand on your hands.\\n\\nJames, an astronaut, felt prepared for everything space could throw at him - the relentless silence, the eerie darkness, the weightlessness, the solitude. He went through intensive training for years, learning every inch of his spacecraft, understanding every possible emergency scenario. He was ready for it all. However, nothing prepared him for the moment he took off his helmet after a spacewalk and inhaled deeply. It caught him off guard that space smelled of seared steak.\n"
     ]
    }
   ],
   "source": [
    "# Load direct_prompting_baseline.txt\n",
    "with open('direct_prompting_baseline.txt', 'r') as f:\n",
    "    baseline_convo = f.readlines()\n",
    "\n",
    "# Print with each list item on a new line\n",
    "for line in baseline_convo:\n",
    "    print(line)\n",
    "\n",
    "# Strip some material from each line\n",
    "# Get rid of \"{'role': 'user', 'content': \"\n",
    "# Get rid of \"{'role': 'assistant', 'content': \"\n",
    "# Get rid of \"}\"\n",
    "# Remove extra whitespace\n",
    "# Remove first and last character\n",
    "no_meta_baseline = []\n",
    "# Saving model input versus output\n",
    "no_meta_baseline_input = []\n",
    "no_meta_baseline_output = []\n",
    "for i, line in enumerate(baseline_convo):\n",
    "    stripped = line.replace(\"{'role': 'user', 'content': \", \"\")\n",
    "    stripped = stripped.replace(\"{'role': 'assistant', 'content': \", \"\")\n",
    "    stripped = stripped.replace(\"}\", \"\")\n",
    "    stripped = stripped.strip()\n",
    "    stripped = stripped[1:-1]\n",
    "    no_meta_baseline.append(stripped)\n",
    "    # If it's an odd number it's an input\n",
    "    if i % 2 == 0:\n",
    "        no_meta_baseline_input.append(stripped)\n",
    "    else:\n",
    "        no_meta_baseline_output.append(stripped)\n",
    "\n",
    "print(no_meta_baseline[0])\n",
    "print(no_meta_baseline[1])\n"
   ]
  },
  {
   "cell_type": "code",
   "execution_count": 7,
   "metadata": {},
   "outputs": [
    {
     "name": "stdout",
     "output_type": "stream",
     "text": [
      "Task: Write a coherent passage of 2 short paragraphs. The end sentence of each paragraph must be: 1. It isn't difficult to do a handstand if you just stand on your hands. 2. It caught him off guard that space smelled of seared steak.\\nResponse: Handstands are often portrayed as an arduous and complex task. They require seemingly extraordinary balance, muscle strength, and personal coordination that might appear intimidating at first glance. However, like any other human activity, handstands too can be mastered through practice and persistence. After all, it isn't difficult to do a handstand if you just stand on your hands.\\n\\nJames, an astronaut, felt prepared for everything space could throw at him - the relentless silence, the eerie darkness, the weightlessness, the solitude. He went through intensive training for years, learning every inch of his spacecraft, understanding every possible emergency scenario. He was ready for it all. However, nothing prepared him for the moment he took off his helmet after a spacewalk and inhaled deeply. It caught him off guard that space smelled of seared steak.\n",
      "1.969298245614035\n"
     ]
    }
   ],
   "source": [
    "# Concatenated baseline conversation\n",
    "concat_baseline = ''.join(no_meta_baseline)\n",
    "print(concat_baseline)\n",
    "\n",
    "# Length ratio\n",
    "print(len(enc.encode(concat_convo)) / len(enc.encode(concat_baseline)))\n"
   ]
  },
  {
   "cell_type": "code",
   "execution_count": 8,
   "metadata": {},
   "outputs": [
    {
     "name": "stdout",
     "output_type": "stream",
     "text": [
      "221\n"
     ]
    }
   ],
   "source": [
    "# Experiment - try difference in lengths\n",
    "print(len(enc.encode(concat_convo)) - len(enc.encode(concat_baseline)))\n"
   ]
  },
  {
   "cell_type": "markdown",
   "metadata": {},
   "source": [
    "## Change in quality relative to direct prompting baseline per change in tokens"
   ]
  },
  {
   "cell_type": "code",
   "execution_count": 9,
   "metadata": {},
   "outputs": [
    {
     "name": "stdout",
     "output_type": "stream",
     "text": [
      "{'role': 'assistant', 'content': \"Handstands are often portrayed as an arduous and complex task. They require seemingly extraordinary balance, muscle strength, and personal coordination that might appear intimidating at first glance. However, like any other human activity, handstands too can be mastered through practice and persistence. After all, it isn't difficult to do a handstand if you just stand on your hands.\\n\\nJames, an astronaut, felt prepared for everything space could throw at him - the relentless silence, the eerie darkness, the weightlessness, the solitude. He went through intensive training for years, learning every inch of his spacecraft, understanding every possible emergency scenario. He was ready for it all. However, nothing prepared him for the moment he took off his helmet after a spacewalk and inhaled deeply. It caught him off guard that space smelled of seared steak.\"}\n",
      "\n",
      "0.013574660633484163\n",
      "1.3574660633484164\n",
      "13.574660633484163\n"
     ]
    }
   ],
   "source": [
    "# Need to score baseline_convo\n",
    "print(baseline_convo[1])\n",
    "\n",
    "# Not very coherent, score of 3\n",
    "baseline_score = 3\n",
    "# Original self-refine score\n",
    "sr_score = 6\n",
    "\n",
    "# Print change in quality per token\n",
    "print((sr_score - baseline_score) / (len(enc.encode(concat_convo)) - len(enc.encode(concat_baseline))))\n",
    "\n",
    "# Per 100 tokens\n",
    "print(((sr_score - baseline_score) / (len(enc.encode(concat_convo)) - len(enc.encode(concat_baseline)))) * 100)\n",
    "\n",
    "# Per 1000 tokens\n",
    "print(((sr_score - baseline_score) / (len(enc.encode(concat_convo)) - len(enc.encode(concat_baseline)))) * 1000)\n"
   ]
  },
  {
   "cell_type": "markdown",
   "metadata": {},
   "source": [
    "## Cost\n",
    "\n",
    "Input 3 cents per 1000 tokens\n",
    "\n",
    "Output 6 cents per 1000 tokens\n",
    "\n",
    "As of November 11, 2023"
   ]
  },
  {
   "cell_type": "code",
   "execution_count": 10,
   "metadata": {},
   "outputs": [
    {
     "name": "stdout",
     "output_type": "stream",
     "text": [
      "[\"Task: Write a coherent passage of 2 short paragraphs. The end sentence of each paragraph must be: 1. It isn't difficult to do a handstand if you just stand on your hands. 2. It caught him off guard that space smelled of seared steak.\", 'Your Task: Provide feedback on the correctness and coherence of the response and a rating on a scale of 1-10. If it is already coherent and correct to the extent you would award a 10, output 10 and the word STOP.\\\\nFeedback: ']\n"
     ]
    }
   ],
   "source": [
    "print(no_meta_input)\n"
   ]
  },
  {
   "cell_type": "code",
   "execution_count": 11,
   "metadata": {},
   "outputs": [
    {
     "name": "stdout",
     "output_type": "stream",
     "text": [
      "['For years, Bob had been practicing yoga, aiming to increase his balance and flexibility. He enjoyed the sense of peace it brought and aspired to conquer the most challenging poses. Up to this point, he had succeeded in perfecting various poses, but the handstand had always been a daunting challenge. He decided to simplify his approach. His yoga instructor once said, \"In order to master a handstand, you must first learn to stand on your hands.\" Bob realized the truth in those words: it wasn\\\\\\'t about having impressive strength or perfect balance. It wasn\\\\\\'t difficult to do a handstand if you just stand on your hands.\\\\n\\\\nAfter his yoga session, Bob sat down for an afternoon of reading. Being an avid Sci-fi enthusiast, he delved into his favourite genre. He stumbled upon a fascinating excerpt about astronauts describing their experiences in outer space. The information was both intriguing and mind-boggling. One detail, however, struck him as completely unexpected. An astronaut wrote about the odors lingering within their spacesuits post spacewalk, vividly describing the smell as similar to that of seared steak. This odd union of the celestial with the culinary grabbed Bob\\\\\\'s attention deeply—it caught him off guard that space smelled of seared steak.', \"The passage is both coherent and correct. The transition between seemingly disconnected topics - yoga handstand and the smell of space - is skillfully handled, providing a seamless reading experience. The use of Bob's character and his actions make the two topics veer into each other smoothly. The writing is clear, well-structured and engaging. On the scale of 1-10, I would rate it 10. STOP.\"]\n"
     ]
    }
   ],
   "source": [
    "print(no_meta_output)\n"
   ]
  },
  {
   "cell_type": "code",
   "execution_count": 12,
   "metadata": {},
   "outputs": [],
   "source": [
    "# Input and output concatenated\n",
    "input_concat = ''.join(no_meta_input)\n",
    "output_concat = ''.join(no_meta_output)\n"
   ]
  },
  {
   "cell_type": "code",
   "execution_count": 13,
   "metadata": {},
   "outputs": [
    {
     "name": "stdout",
     "output_type": "stream",
     "text": [
      "$0.02367\n"
     ]
    }
   ],
   "source": [
    "print(\"$\" + str((len(enc.encode(input_concat)) * (1 / 1000) * 0.03) + (len(enc.encode(output_concat)) * (1 / 1000) * 0.06)))\n",
    "\n"
   ]
  },
  {
   "cell_type": "markdown",
   "metadata": {},
   "source": [
    "## Sentence Length and Flesch Reading Ease"
   ]
  },
  {
   "cell_type": "code",
   "execution_count": 14,
   "metadata": {},
   "outputs": [
    {
     "name": "stdout",
     "output_type": "stream",
     "text": [
      "['I ate a pie.', 'It was great!', 'I want more.']\n"
     ]
    }
   ],
   "source": [
    "import nltk\n",
    "import numpy as np\n",
    "\n",
    "test_sentences = nltk.sent_tokenize(\"I ate a pie. It was great! I want more.\")\n",
    "print(test_sentences)\n"
   ]
  },
  {
   "cell_type": "code",
   "execution_count": 15,
   "metadata": {},
   "outputs": [
    {
     "name": "stdout",
     "output_type": "stream",
     "text": [
      "For years, Bob had been practicing yoga, aiming to increase his balance and flexibility. He enjoyed the sense of peace it brought and aspired to conquer the most challenging poses. Up to this point, he had succeeded in perfecting various poses, but the handstand had always been a daunting challenge. He decided to simplify his approach. His yoga instructor once said, \"In order to master a handstand, you must first learn to stand on your hands.\" Bob realized the truth in those words: it wasn\\'t about having impressive strength or perfect balance. It wasn\\'t difficult to do a handstand if you just stand on your hands.\\n\\nAfter his yoga session, Bob sat down for an afternoon of reading. Being an avid Sci-fi enthusiast, he delved into his favourite genre. He stumbled upon a fascinating excerpt about astronauts describing their experiences in outer space. The information was both intriguing and mind-boggling. One detail, however, struck him as completely unexpected. An astronaut wrote about the odors lingering within their spacesuits post spacewalk, vividly describing the smell as similar to that of seared steak. This odd union of the celestial with the culinary grabbed Bob\\'s attention deeply—it caught him off guard that space smelled of seared steak.The passage is both coherent and correct. The transition between seemingly disconnected topics - yoga handstand and the smell of space - is skillfully handled, providing a seamless reading experience. The use of Bob's character and his actions make the two topics veer into each other smoothly. The writing is clear, well-structured and engaging. On the scale of 1-10, I would rate it 10. STOP.\n"
     ]
    }
   ],
   "source": [
    "print(output_concat)\n"
   ]
  },
  {
   "cell_type": "code",
   "execution_count": 16,
   "metadata": {},
   "outputs": [
    {
     "name": "stdout",
     "output_type": "stream",
     "text": [
      "sentence length\n",
      "16.88888888888889\n"
     ]
    }
   ],
   "source": [
    "print('sentence length')\n",
    "sentences = nltk.sent_tokenize(output_concat)\n",
    "#print(len(sentences))\n",
    "#print(nltk.word_tokenize(sentences[0]))\n",
    "#print(len(nltk.word_tokenize(sentences[0])))\n",
    "sen_lengths = []\n",
    "for sent in sentences:\n",
    "    sen_lengths.append(len(nltk.word_tokenize(sent)))\n",
    "#print(sen_lengths)\n",
    "print(np.mean(sen_lengths))\n"
   ]
  },
  {
   "cell_type": "code",
   "execution_count": 17,
   "metadata": {},
   "outputs": [
    {
     "name": "stdout",
     "output_type": "stream",
     "text": [
      "57.37\n"
     ]
    }
   ],
   "source": [
    "# Flesch Reading Ease\n",
    "import textstat\n",
    "\n",
    "print(textstat.flesch_reading_ease(output_concat))\n"
   ]
  },
  {
   "cell_type": "markdown",
   "metadata": {},
   "source": [
    "# Differences\n",
    "\n",
    "Difference in sentence length and FRE between output and input, output and baseline output"
   ]
  },
  {
   "cell_type": "code",
   "execution_count": 18,
   "metadata": {},
   "outputs": [
    {
     "name": "stdout",
     "output_type": "stream",
     "text": [
      "Handstands are often portrayed as an arduous and complex task. They require seemingly extraordinary balance, muscle strength, and personal coordination that might appear intimidating at first glance. However, like any other human activity, handstands too can be mastered through practice and persistence. After all, it isn't difficult to do a handstand if you just stand on your hands.\\n\\nJames, an astronaut, felt prepared for everything space could throw at him - the relentless silence, the eerie darkness, the weightlessness, the solitude. He went through intensive training for years, learning every inch of his spacecraft, understanding every possible emergency scenario. He was ready for it all. However, nothing prepared him for the moment he took off his helmet after a spacewalk and inhaled deeply. It caught him off guard that space smelled of seared steak.\n"
     ]
    }
   ],
   "source": [
    "baseline_output = ''.join(no_meta_baseline_output)\n",
    "print(baseline_output)\n",
    "\n",
    "# baseline_input = ''.join(no_meta_baseline_input)\n",
    "# print(baseline_input)\n"
   ]
  },
  {
   "cell_type": "code",
   "execution_count": 19,
   "metadata": {},
   "outputs": [
    {
     "name": "stdout",
     "output_type": "stream",
     "text": [
      "Task: Write a coherent passage of 2 short paragraphs. The end sentence of each paragraph must be: 1. It isn't difficult to do a handstand if you just stand on your hands. 2. It caught him off guard that space smelled of seared steak.Your Task: Provide feedback on the correctness and coherence of the response and a rating on a scale of 1-10. If it is already coherent and correct to the extent you would award a 10, output 10 and the word STOP.\\nFeedback: \n",
      "For years, Bob had been practicing yoga, aiming to increase his balance and flexibility. He enjoyed the sense of peace it brought and aspired to conquer the most challenging poses. Up to this point, he had succeeded in perfecting various poses, but the handstand had always been a daunting challenge. He decided to simplify his approach. His yoga instructor once said, \"In order to master a handstand, you must first learn to stand on your hands.\" Bob realized the truth in those words: it wasn\\'t about having impressive strength or perfect balance. It wasn\\'t difficult to do a handstand if you just stand on your hands.\\n\\nAfter his yoga session, Bob sat down for an afternoon of reading. Being an avid Sci-fi enthusiast, he delved into his favourite genre. He stumbled upon a fascinating excerpt about astronauts describing their experiences in outer space. The information was both intriguing and mind-boggling. One detail, however, struck him as completely unexpected. An astronaut wrote about the odors lingering within their spacesuits post spacewalk, vividly describing the smell as similar to that of seared steak. This odd union of the celestial with the culinary grabbed Bob\\'s attention deeply—it caught him off guard that space smelled of seared steak.The passage is both coherent and correct. The transition between seemingly disconnected topics - yoga handstand and the smell of space - is skillfully handled, providing a seamless reading experience. The use of Bob's character and his actions make the two topics veer into each other smoothly. The writing is clear, well-structured and engaging. On the scale of 1-10, I would rate it 10. STOP.\n",
      "diff in sentence length output and input\n",
      "1.0555555555555554\n",
      "diff in sentence length output and baseline output\n",
      "-2.4861111111111107\n"
     ]
    }
   ],
   "source": [
    "# Sentence length difference\n",
    "print(input_concat)\n",
    "print(output_concat)\n",
    "\n",
    "print('diff in sentence length output and input')\n",
    "input_sentences = nltk.sent_tokenize(input_concat)\n",
    "output_sentences = nltk.sent_tokenize(output_concat)\n",
    "input_sen_lengths = []\n",
    "output_sen_lengths = []\n",
    "for sent in input_sentences:\n",
    "    input_sen_lengths.append(len(nltk.word_tokenize(sent)))\n",
    "for sent in output_sentences:\n",
    "    output_sen_lengths.append(len(nltk.word_tokenize(sent)))\n",
    "print(np.mean(output_sen_lengths) - np.mean(input_sen_lengths))\n",
    "\n",
    "print('diff in sentence length output and baseline output')\n",
    "baseline_output_sentences = nltk.sent_tokenize(baseline_output)\n",
    "baseline_output_sen_lengths = []\n",
    "for sent in baseline_output_sentences:\n",
    "    baseline_output_sen_lengths.append(len(nltk.word_tokenize(sent)))\n",
    "print(np.mean(output_sen_lengths) - np.mean(baseline_output_sen_lengths))\n",
    "\n"
   ]
  },
  {
   "cell_type": "code",
   "execution_count": 20,
   "metadata": {},
   "outputs": [
    {
     "name": "stdout",
     "output_type": "stream",
     "text": [
      "diff in FRE output and input\n",
      "-25.28000000000001\n",
      "diff in FRE output and baseline output\n",
      "0.8200000000000003\n"
     ]
    }
   ],
   "source": [
    "# FRE difference\n",
    "\n",
    "print('diff in FRE output and input')\n",
    "print(textstat.flesch_reading_ease(output_concat) - textstat.flesch_reading_ease(input_concat))\n",
    "\n",
    "print('diff in FRE output and baseline output')\n",
    "print(textstat.flesch_reading_ease(output_concat) - textstat.flesch_reading_ease(baseline_output))\n"
   ]
  }
 ],
 "metadata": {
  "kernelspec": {
   "display_name": "anlp",
   "language": "python",
   "name": "python3"
  },
  "language_info": {
   "codemirror_mode": {
    "name": "ipython",
    "version": 3
   },
   "file_extension": ".py",
   "mimetype": "text/x-python",
   "name": "python",
   "nbconvert_exporter": "python",
   "pygments_lexer": "ipython3",
   "version": "3.11.4"
  }
 },
 "nbformat": 4,
 "nbformat_minor": 2
}
