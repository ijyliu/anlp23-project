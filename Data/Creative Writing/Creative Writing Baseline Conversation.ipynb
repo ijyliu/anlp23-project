{
 "cells": [
  {
   "cell_type": "markdown",
   "metadata": {},
   "source": [
    "# Creative Writing Baseline Conversation.ipynb\n",
    "\n",
    "Experiment with a Creative Writing question and direct prompting using the OpenAI API. "
   ]
  },
  {
   "cell_type": "code",
   "execution_count": 1,
   "metadata": {},
   "outputs": [],
   "source": [
    "import openai\n",
    "\n",
    "# Get and set API key\n",
    "with open('C:/Users/ijyli/Documents/OpenAI/anlp23-project.txt', 'r') as file:\n",
    "    api_key = file.read()\n",
    "openai.api_key = api_key\n"
   ]
  },
  {
   "cell_type": "code",
   "execution_count": 2,
   "metadata": {},
   "outputs": [],
   "source": [
    "# Send the current conversation as well as a new prompt and get a response\n",
    "def prompt_gpt_4_and_get_convo(messages, prompt):\n",
    "    messages_and_prompt = messages.copy()\n",
    "    messages_and_prompt.append({\"role\": \"user\", \"content\": prompt})\n",
    "    new_message = openai.ChatCompletion.create(\n",
    "        model=\"gpt-4-0613\", \n",
    "        messages=messages_and_prompt\n",
    "    )\n",
    "    with_new_message = messages_and_prompt.copy()\n",
    "    with_new_message.append(dict(new_message['choices'][0]['message']))\n",
    "    return with_new_message\n"
   ]
  },
  {
   "cell_type": "code",
   "execution_count": 3,
   "metadata": {},
   "outputs": [
    {
     "name": "stdout",
     "output_type": "stream",
     "text": [
      "It isn't difficult to do a handstand if you just stand on your hands. It caught him off guard that space smelled of seared steak. When she didn’t like a guy who was trying to pick her up, she started using sign language. Each person who knows you has a different perception of who you are.\n",
      "[\"It isn't difficult to do a handstand if you just stand on your hands.\", 'It caught him off guard that space smelled of seared steak.']\n"
     ]
    }
   ],
   "source": [
    "# Testing direct prompting on a Creative Writing test question\n",
    "\n",
    "# Load in text file data_100_random_text.txt\n",
    "with open('data_100_random_text.txt', 'r') as file:\n",
    "    data = file.read()\n",
    "\n",
    "# Get first line\n",
    "first_line = data.split('\\n')[0]\n",
    "print(first_line)\n",
    "\n",
    "# Split on periods\n",
    "sentences = first_line.split('.')\n",
    "# print(sentences[0:2])\n",
    "\n",
    "# Get back form with periods and also stripping leading and trailing blanks\n",
    "sentences_with_periods = [sentence.strip() + '.' for sentence in sentences]\n",
    "print(sentences_with_periods[0:2])\n"
   ]
  },
  {
   "cell_type": "code",
   "execution_count": 4,
   "metadata": {},
   "outputs": [
    {
     "name": "stdout",
     "output_type": "stream",
     "text": [
      "Task: Write a coherent passage of 2 short paragraphs. The end sentence of each paragraph must be: 1. It isn't difficult to do a handstand if you just stand on your hands. 2. It caught him off guard that space smelled of seared steak.\n",
      "Response: \n"
     ]
    }
   ],
   "source": [
    "# Initial task\n",
    "test_task = \"Task: Write a coherent passage of 2 short paragraphs. The end sentence of each paragraph must be: 1. \" + sentences_with_periods[0] + \" 2. \" + sentences_with_periods[1]\n",
    "test_task = test_task + \"\\nResponse: \"\n",
    "\n",
    "print(test_task)\n"
   ]
  },
  {
   "cell_type": "code",
   "execution_count": 5,
   "metadata": {},
   "outputs": [
    {
     "name": "stdout",
     "output_type": "stream",
     "text": [
      "[{'role': 'user', 'content': \"Task: Write a coherent passage of 2 short paragraphs. The end sentence of each paragraph must be: 1. It isn't difficult to do a handstand if you just stand on your hands. 2. It caught him off guard that space smelled of seared steak.\\nResponse: \"}, {'role': 'assistant', 'content': \"Handstands are often portrayed as an arduous and complex task. They require seemingly extraordinary balance, muscle strength, and personal coordination that might appear intimidating at first glance. However, like any other human activity, handstands too can be mastered through practice and persistence. After all, it isn't difficult to do a handstand if you just stand on your hands.\\n\\nJames, an astronaut, felt prepared for everything space could throw at him - the relentless silence, the eerie darkness, the weightlessness, the solitude. He went through intensive training for years, learning every inch of his spacecraft, understanding every possible emergency scenario. He was ready for it all. However, nothing prepared him for the moment he took off his helmet after a spacewalk and inhaled deeply. It caught him off guard that space smelled of seared steak.\"}]\n"
     ]
    }
   ],
   "source": [
    "# Initial ask\n",
    "conversation = []\n",
    "with_response = prompt_gpt_4_and_get_convo(conversation, test_task)\n",
    "\n",
    "print(with_response)\n"
   ]
  },
  {
   "cell_type": "code",
   "execution_count": 6,
   "metadata": {},
   "outputs": [],
   "source": [
    "# Output with_response to a text file\n",
    "# Each element of the list should be on a new line\n",
    "with open('direct_prompting_baseline.txt', 'w') as file:\n",
    "    for item in with_response:\n",
    "        file.write(\"%s\\n\" % item)\n"
   ]
  }
 ],
 "metadata": {
  "kernelspec": {
   "display_name": "anlp",
   "language": "python",
   "name": "python3"
  },
  "language_info": {
   "codemirror_mode": {
    "name": "ipython",
    "version": 3
   },
   "file_extension": ".py",
   "mimetype": "text/x-python",
   "name": "python",
   "nbconvert_exporter": "python",
   "pygments_lexer": "ipython3",
   "version": "3.11.4"
  }
 },
 "nbformat": 4,
 "nbformat_minor": 2
}
