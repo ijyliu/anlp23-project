{
 "cells": [
  {
   "cell_type": "markdown",
   "metadata": {},
   "source": [
    "# GSM8K Answers File\n",
    "\n",
    "Produce file of GSM8K answers for the first 100 questions."
   ]
  },
  {
   "cell_type": "code",
   "execution_count": 15,
   "metadata": {},
   "outputs": [],
   "source": [
    "import json\n",
    "\n",
    "# Load the test question from test.jsonl\n",
    "with open('test.jsonl', 'r') as f:\n",
    "    test = f.readlines()\n",
    "\n",
    "# print(test)\n",
    "# print(json.loads(test[0])['question'])\n"
   ]
  },
  {
   "cell_type": "code",
   "execution_count": 16,
   "metadata": {},
   "outputs": [],
   "source": [
    "# # Write answers to first 100 questions to test_answers.txt\n",
    "# i = 1\n",
    "# for question in test:\n",
    "#     with open('test_answers.txt', 'a') as f:\n",
    "#         #f.write(answer['question'] + '\\n')\n",
    "#         f.write('Question ' + str(i) + json.loads(question)['answer'].split('####')[-1] + '\\n')\n",
    "#         i += 1\n"
   ]
  },
  {
   "cell_type": "code",
   "execution_count": null,
   "metadata": {},
   "outputs": [],
   "source": [
    "# Write answers to first 100 questions to test_answers.txt\n",
    "i = 1\n",
    "for question in test:\n",
    "    with open('test_answers.txt', 'a') as f:\n",
    "        #f.write(answer['question'] + '\\n')\n",
    "        f.write('Question ' + str(i) + json.loads(question)['answer']+ '\\n')\n",
    "        i += 1\n"
   ]
  }
 ],
 "metadata": {
  "kernelspec": {
   "display_name": "anlp",
   "language": "python",
   "name": "python3"
  },
  "language_info": {
   "codemirror_mode": {
    "name": "ipython",
    "version": 3
   },
   "file_extension": ".py",
   "mimetype": "text/x-python",
   "name": "python",
   "nbconvert_exporter": "python",
   "pygments_lexer": "ipython3",
   "version": "3.11.4"
  }
 },
 "nbformat": 4,
 "nbformat_minor": 2
}
