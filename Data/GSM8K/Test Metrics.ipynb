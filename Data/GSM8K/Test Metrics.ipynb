{
 "cells": [
  {
   "cell_type": "markdown",
   "metadata": {},
   "source": [
    "# Test Metrics.ipynb\n",
    "\n",
    "Run all metrics on the test conversation.\n"
   ]
  },
  {
   "cell_type": "code",
   "execution_count": 5,
   "metadata": {},
   "outputs": [
    {
     "name": "stdout",
     "output_type": "stream",
     "text": [
      "Q: Janet’s ducks lay 16 eggs per day. She eats three for breakfast every morning and bakes muffins for her friends every day with four. She sells the remainder at the farmers' market daily for $2 per fresh duck egg. How much in dollars does she make every day at the farmers' market?\n",
      "\n",
      "Task: Generate 3 different possible one-step calculations to serve as step 1 in solving the problem. Only work on step 1. Put each calculation on a new line. Do not number them.\n",
      "\n",
      "Add 16 and 4 and multiply by 2 \n",
      "\n",
      "Subtract 3 from 16 and multiply by 2 \n",
      "\n",
      "Multiply 16 and 2 and subtract 7\n",
      "\n",
      "Task: State the calculation above that is most likely to contribute to solving the problem. If it fully solves the original problem, also output STOP and the solution to the problem. If none of the calculations are correct, output ERROR and generate three new ones.\n",
      "\n",
      "Subtract 3 from 16 and multiply by 2 - STOP - 28 x 2 = $56\n"
     ]
    }
   ],
   "source": [
    "# Load test_conversation.txt\n",
    "with open('test_conversation.txt', 'r') as f:\n",
    "    test_conversation = f.readlines()\n",
    "\n",
    "# Print with each list item on a new line\n",
    "for line in test_conversation:\n",
    "    print(line)\n"
   ]
  },
  {
   "cell_type": "code",
   "execution_count": 28,
   "metadata": {},
   "outputs": [
    {
     "name": "stdout",
     "output_type": "stream",
     "text": [
      "Janet sells 16 - 3 - 4 = 9 duck eggs a day.\n",
      "She makes 9 * 2 = $18 every day at the farmer’s market.\n",
      "#### 18\n"
     ]
    }
   ],
   "source": [
    "# Load answer for this question\n",
    "\n",
    "import json\n",
    "import regex as re\n",
    "\n",
    "# Load the test question from test.jsonl\n",
    "with open('test.jsonl', 'r') as f:\n",
    "    test = f.readlines()\n",
    "\n",
    "# Strip items between << and >> in each line\n",
    "test = [re.sub(r'<<.*?>>', '', line) for line in test]\n",
    "\n",
    "#print(test)\n",
    "print(json.loads(test[0])['answer'])\n"
   ]
  },
  {
   "cell_type": "markdown",
   "metadata": {},
   "source": [
    "## Accuracy\n",
    "\n",
    "Counts as zero points, model is incorrect."
   ]
  },
  {
   "cell_type": "markdown",
   "metadata": {},
   "source": [
    "## Length\n",
    "\n",
    "It's important to use the OpenAI tiktoken tokenizer."
   ]
  },
  {
   "cell_type": "code",
   "execution_count": 29,
   "metadata": {},
   "outputs": [
    {
     "data": {
      "text/plain": [
       "\"Q: Janet’s ducks lay 16 eggs per day. She eats three for breakfast every morning and bakes muffins for her friends every day with four. She sells the remainder at the farmers' market daily for $2 per fresh duck egg. How much in dollars does she make every day at the farmers' market?\\nTask: Generate 3 different possible one-step calculations to serve as step 1 in solving the problem. Only work on step 1. Put each calculation on a new line. Do not number them.\\nAdd 16 and 4 and multiply by 2 \\nSubtract 3 from 16 and multiply by 2 \\nMultiply 16 and 2 and subtract 7\\nTask: State the calculation above that is most likely to contribute to solving the problem. If it fully solves the original problem, also output STOP and the solution to the problem. If none of the calculations are correct, output ERROR and generate three new ones.\\nSubtract 3 from 16 and multiply by 2 - STOP - 28 x 2 = $56\""
      ]
     },
     "execution_count": 29,
     "metadata": {},
     "output_type": "execute_result"
    }
   ],
   "source": [
    "# Concatenate conversation\n",
    "\n",
    "concat_convo = ''.join(test_conversation)\n",
    "\n",
    "concat_convo\n"
   ]
  },
  {
   "cell_type": "code",
   "execution_count": 30,
   "metadata": {},
   "outputs": [
    {
     "name": "stdout",
     "output_type": "stream",
     "text": [
      "[31373, 995]\n",
      "[48, 25, 28111, 447, 247, 82, 39694, 3830, 1467, 9653, 583, 1110, 13, 1375, 25365, 1115, 329, 12607, 790, 3329, 290, 275, 1124, 27563, 1040, 329, 607, 2460, 790, 1110, 351, 1440, 13, 1375, 16015, 262, 17675, 379, 262, 9818, 6, 1910, 4445, 329, 720, 17, 583, 4713, 22045, 5935, 13, 1374, 881, 287, 5054, 857, 673, 787, 790, 1110, 379, 262, 9818, 6, 1910, 30, 198, 25714, 25, 2980, 378, 513, 1180, 1744, 530, 12, 9662, 16765, 284, 4691, 355, 2239, 352, 287, 18120, 262, 1917, 13, 5514, 670, 319, 2239, 352, 13, 5930, 1123, 17952, 319, 257, 649, 1627, 13, 2141, 407, 1271, 606, 13, 198, 4550, 1467, 290, 604, 290, 29162, 416, 362, 220, 198, 7004, 83, 974, 513, 422, 1467, 290, 29162, 416, 362, 220, 198, 15205, 541, 306, 1467, 290, 362, 290, 34128, 767, 198, 25714, 25, 1812, 262, 17952, 2029, 326, 318, 749, 1884, 284, 8676, 284, 18120, 262, 1917, 13, 1002, 340, 3938, 39107, 262, 2656, 1917, 11, 635, 5072, 44934, 290, 262, 4610, 284, 262, 1917, 13, 1002, 4844, 286, 262, 16765, 389, 3376, 11, 5072, 33854, 290, 7716, 1115, 649, 3392, 13, 198, 7004, 83, 974, 513, 422, 1467, 290, 29162, 416, 362, 532, 44934, 532, 2579, 2124, 362, 796, 720, 3980]\n"
     ]
    }
   ],
   "source": [
    "import tiktoken\n",
    "\n",
    "enc = tiktoken.encoding_for_model(\"text-davinci-003\")\n",
    "\n",
    "print(enc.encode(\"hello world\"))\n",
    "print(enc.encode(concat_convo))\n"
   ]
  },
  {
   "cell_type": "code",
   "execution_count": 31,
   "metadata": {},
   "outputs": [
    {
     "name": "stdout",
     "output_type": "stream",
     "text": [
      "211\n"
     ]
    }
   ],
   "source": [
    "print(len(enc.encode(concat_convo)))\n"
   ]
  },
  {
   "cell_type": "markdown",
   "metadata": {},
   "source": [
    "## Cost\n",
    "\n",
    "2 cents per 1000 tokens"
   ]
  },
  {
   "cell_type": "code",
   "execution_count": 32,
   "metadata": {},
   "outputs": [
    {
     "name": "stdout",
     "output_type": "stream",
     "text": [
      "$0.00422\n"
     ]
    }
   ],
   "source": [
    "print(\"$\" + str(len(enc.encode(concat_convo)) * (1 / 1000) * 0.02))\n"
   ]
  },
  {
   "cell_type": "markdown",
   "metadata": {},
   "source": [
    "## Length Relative to Baseline\n",
    "\n",
    "Going to add direct prompting baseline later, but for now just do relative to provided question and answer."
   ]
  },
  {
   "cell_type": "code",
   "execution_count": 33,
   "metadata": {},
   "outputs": [
    {
     "name": "stdout",
     "output_type": "stream",
     "text": [
      "Janet’s ducks lay 16 eggs per day. She eats three for breakfast every morning and bakes muffins for her friends every day with four. She sells the remainder at the farmers' market daily for $2 per fresh duck egg. How much in dollars does she make every day at the farmers' market?\n",
      "Janet sells 16 - 3 - 4 = 9 duck eggs a day.\n",
      "She makes 9 * 2 = $18 every day at the farmer’s market.\n",
      "#### 18\n",
      "2.0485436893203883\n"
     ]
    }
   ],
   "source": [
    "provided_question_answer = json.loads(test[0])['question'] + \"\\n\" + json.loads(test[0])['answer']\n",
    "print(provided_question_answer)\n",
    "\n",
    "print('ratio')\n",
    "print(len(enc.encode(concat_convo)) / len(enc.encode(provided_question_answer)))\n"
   ]
  },
  {
   "cell_type": "markdown",
   "metadata": {},
   "source": [
    "## Number of Reasoning Steps\n",
    "\n",
    "Check linebreaks and periods."
   ]
  },
  {
   "cell_type": "code",
   "execution_count": 34,
   "metadata": {},
   "outputs": [
    {
     "name": "stdout",
     "output_type": "stream",
     "text": [
      "num linebreaks\n",
      "6\n",
      "num periods\n",
      "10\n"
     ]
    }
   ],
   "source": [
    "print('num linebreaks')\n",
    "print(concat_convo.count('\\n'))\n",
    "\n",
    "print('num periods')\n",
    "print(concat_convo.count('.'))\n"
   ]
  },
  {
   "cell_type": "markdown",
   "metadata": {},
   "source": [
    "## Contrasting Words\n",
    "\n",
    "Search for {'while', 'but', 'though', 'although', 'other', 'others', 'however'}."
   ]
  },
  {
   "cell_type": "code",
   "execution_count": 35,
   "metadata": {},
   "outputs": [
    {
     "name": "stdout",
     "output_type": "stream",
     "text": [
      "num contrasting words\n",
      "while\n",
      "0\n",
      "but\n",
      "1\n",
      "though\n",
      "0\n",
      "although\n",
      "0\n",
      "other\n",
      "0\n",
      "others\n",
      "0\n",
      "however\n",
      "0\n"
     ]
    }
   ],
   "source": [
    "print('num contrasting words')\n",
    "\n",
    "for word in ['while', 'but', 'though', 'although', 'other', 'others', 'however']:\n",
    "    print(word)\n",
    "    print(concat_convo.count(word))\n"
   ]
  }
 ],
 "metadata": {
  "kernelspec": {
   "display_name": "anlp",
   "language": "python",
   "name": "python3"
  },
  "language_info": {
   "codemirror_mode": {
    "name": "ipython",
    "version": 3
   },
   "file_extension": ".py",
   "mimetype": "text/x-python",
   "name": "python",
   "nbconvert_exporter": "python",
   "pygments_lexer": "ipython3",
   "version": "3.11.4"
  }
 },
 "nbformat": 4,
 "nbformat_minor": 2
}
