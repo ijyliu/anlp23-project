{
 "cells": [
  {
   "cell_type": "markdown",
   "metadata": {},
   "source": [
    "# Test Conversation.ipynb\n",
    "\n",
    "Experiment with a GSM8K question and the tree of thoughts method using the OpenAI API. "
   ]
  },
  {
   "cell_type": "code",
   "execution_count": 3,
   "metadata": {},
   "outputs": [],
   "source": [
    "import openai\n",
    "\n",
    "# Get and set API key\n",
    "with open('C:/Users/ijyli/Documents/OpenAI/anlp23-project.txt', 'r') as file:\n",
    "    api_key = file.read()\n",
    "openai.api_key = api_key\n"
   ]
  },
  {
   "cell_type": "code",
   "execution_count": null,
   "metadata": {},
   "outputs": [],
   "source": [
    "def chat_with_gpt4(prompt, model='gpt-4'):\n",
    "    try:\n",
    "        response = openai.Completion.create(\n",
    "            model=model,\n",
    "            prompt=prompt,\n",
    "            top_p=1,\n",
    "            frequency_penalty=0,\n",
    "            presence_penalty=0.6,\n",
    "            stop=None,\n",
    "            n=1,\n",
    "            stream=False,\n",
    "            logprobs=None,\n",
    "        )\n",
    "        message = response.choices[0].text.strip()\n",
    "        return message\n",
    "    except Exception as e:\n",
    "        print(f\"An error occurred: {e}\")\n",
    "        return None\n",
    "\n",
    "# Example of a chat session\n",
    "chat_history = \"\"\n",
    "while True:\n",
    "    user_input = input(\"You: \")\n",
    "    if user_input.lower() == 'quit':\n",
    "        break\n",
    "    prompt = f\"{chat_history}Human: {user_input}\\nAI:\"\n",
    "    response = chat_with_gpt4(prompt)\n",
    "    print(f\"GPT-4: {response}\")\n",
    "    chat_history += f\"Human: {user_input}\\nAI: {response}\\n\"\n"
   ]
  }
 ],
 "metadata": {
  "kernelspec": {
   "display_name": "anlp",
   "language": "python",
   "name": "python3"
  },
  "language_info": {
   "codemirror_mode": {
    "name": "ipython",
    "version": 3
   },
   "file_extension": ".py",
   "mimetype": "text/x-python",
   "name": "python",
   "nbconvert_exporter": "python",
   "pygments_lexer": "ipython3",
   "version": "3.11.4"
  }
 },
 "nbformat": 4,
 "nbformat_minor": 2
}
