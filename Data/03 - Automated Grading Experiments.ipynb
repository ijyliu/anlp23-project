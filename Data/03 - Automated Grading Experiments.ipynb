{
 "cells": [
  {
   "cell_type": "markdown",
   "metadata": {},
   "source": [
    "# Automated_Grading_Experiments.ipynb\n",
    "\n",
    "Automatically grade LLM responses.\n",
    "\n",
    "This file is experimental and output might not be used."
   ]
  },
  {
   "cell_type": "code",
   "execution_count": 2,
   "metadata": {},
   "outputs": [],
   "source": [
    "import pickle\n",
    "import pandas as pd\n",
    "\n",
    "# Load functions\n",
    "from Grading_Functions import *\n"
   ]
  },
  {
   "cell_type": "markdown",
   "metadata": {},
   "source": [
    "## Experimental GSM8k Grading"
   ]
  },
  {
   "cell_type": "code",
   "execution_count": 3,
   "metadata": {},
   "outputs": [],
   "source": [
    "# Load questions and answers\n",
    "import json\n",
    "\n",
    "# Load the test question from test.jsonl\n",
    "with open('GSM8k/test.jsonl', 'r') as f:\n",
    "    test = f.readlines()\n",
    "\n",
    "questions = [json.loads(t)['question'] for t in test]\n",
    "answers = [json.loads(t)['answer'] for t in test]\n"
   ]
  },
  {
   "cell_type": "code",
   "execution_count": 4,
   "metadata": {},
   "outputs": [
    {
     "name": "stdout",
     "output_type": "stream",
     "text": [
      "Janet’s ducks lay 16 eggs per day. She eats three for breakfast every morning and bakes muffins for her friends every day with four. She sells the remainder at the farmers' market daily for $2 per fresh duck egg. How much in dollars does she make every day at the farmers' market?\n",
      "Janet sells 16 - 3 - 4 = <<16-3-4=9>>9 duck eggs a day.\n",
      "She makes 9 * 2 = $<<9*2=18>>18 every day at the farmer’s market.\n",
      "#### 18\n"
     ]
    }
   ],
   "source": [
    "print(questions[0])\n",
    "print(answers[0])\n"
   ]
  },
  {
   "cell_type": "code",
   "execution_count": 5,
   "metadata": {},
   "outputs": [],
   "source": [
    "# Processed answers - keep just the last line of the answer and remove all characters except for numbers\n",
    "#processed_answers = [answer.split('\\n')[-1] for answer in answers]\n",
    "# Use regex to remove all characters except for numbers\n",
    "#import re\n",
    "#processed_answers = [re.sub('[^0-9]', '', answer) for answer in processed_answers]\n",
    "processed_answers = answers\n",
    "# IL 2023-11-22 - want to keep answer context\n"
   ]
  },
  {
   "cell_type": "code",
   "execution_count": 6,
   "metadata": {},
   "outputs": [
    {
     "name": "stdout",
     "output_type": "stream",
     "text": [
      "18\n"
     ]
    }
   ],
   "source": [
    "print(processed_answers[0])\n"
   ]
  },
  {
   "cell_type": "code",
   "execution_count": null,
   "metadata": {},
   "outputs": [],
   "source": [
    "# Load conversations\n",
    "with open('Conversation_Lists.pkl', 'rb') as file:\n",
    "    loaded_data = pickle.load(file)\n"
   ]
  },
  {
   "cell_type": "code",
   "execution_count": null,
   "metadata": {},
   "outputs": [],
   "source": [
    "# Assign model_task_methods and conversation numbers and put conversations in a list\n",
    "model_task_methods = []\n",
    "conversation_numbers = []\n",
    "flat_conversations_list = []\n",
    "for model_task_method, conversations in loaded_data.items():\n",
    "    for i, conversation in enumerate(conversations):\n",
    "        model_task_methods.append(model_task_method)\n",
    "        conversation_numbers.append(i+1)\n",
    "        flat_conversations_list.append(conversation)\n"
   ]
  },
  {
   "cell_type": "code",
   "execution_count": null,
   "metadata": {},
   "outputs": [],
   "source": [
    "# Loop over conversations\n",
    "# For each conversation that has mtm containing gsm8k, \n",
    "# loop over questions until one is found that is contained in the conversation's first list element\n",
    "# Get the processed answer for that question and use it to grade\n",
    "correct_or_incorrect = []\n",
    "for conversation_index, conversation in enumerate(flat_conversations_list):\n",
    "    # Grade gsm8k items\n",
    "    if 'gsm8k' in model_task_methods[conversation_index]:\n",
    "        for question_index, question in enumerate(questions):\n",
    "            if question in conversation[0]:\n",
    "                questions_list_index = question_index\n",
    "        # Feed to grading function\n",
    "        correct_or_incorrect.append(grade_gsm8k_with_provided_answer(conversation, processed_answers[questions_list_index]))\n",
    "    # Add NAs for non-gsm8k items\n",
    "    else:\n",
    "        correct_or_incorrect.append('NA')\n"
   ]
  },
  {
   "cell_type": "markdown",
   "metadata": {},
   "source": [
    "## Output Dataset"
   ]
  },
  {
   "cell_type": "code",
   "execution_count": null,
   "metadata": {},
   "outputs": [],
   "source": [
    "# Export model_task_method, conversation_numbers, correct_or_incorrect to Excel\n",
    "# First put them in a pandas dataframe\n",
    "\n",
    "automated_grading_df = pd.DataFrame(list(zip(model_task_methods, conversation_numbers, correct_or_incorrect)),\n",
    "                                    columns = ['model_task_method', 'conversation_number', 'correct_or_incorrect'])\n",
    "\n",
    "automated_grading_df.to_excel(\"Automated_Grading_Experiments.xlsx\", index=False)\n"
   ]
  }
 ],
 "metadata": {
  "kernelspec": {
   "display_name": "anlp",
   "language": "python",
   "name": "python3"
  },
  "language_info": {
   "codemirror_mode": {
    "name": "ipython",
    "version": 3
   },
   "file_extension": ".py",
   "mimetype": "text/x-python",
   "name": "python",
   "nbconvert_exporter": "python",
   "pygments_lexer": "ipython3",
   "version": "3.11.4"
  }
 },
 "nbformat": 4,
 "nbformat_minor": 2
}
