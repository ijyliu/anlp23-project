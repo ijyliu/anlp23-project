{
 "cells": [
  {
   "cell_type": "markdown",
   "metadata": {},
   "source": [
    "# Interannotator Agreement"
   ]
  },
  {
   "cell_type": "code",
   "execution_count": 78,
   "metadata": {},
   "outputs": [],
   "source": [
    "import pandas as pd\n",
    "from statsmodels.stats.contingency_tables import mcnemar \n",
    "import matplotlib.pyplot as plt\n",
    "import seaborn as sns\n",
    "import scipy.stats as stats\n",
    "import simpledorff\n",
    "import math\n"
   ]
  },
  {
   "cell_type": "code",
   "execution_count": 79,
   "metadata": {},
   "outputs": [],
   "source": [
    "# Load Combined_Data.xlsx\n",
    "combined_data = pd.read_excel('Combined_Data.xlsx')\n",
    "\n",
    "# GSM8k data - limit to task = \"gsm8k\"\n",
    "gsm8k_data = combined_data[combined_data['task'] == 'gsm8k']\n",
    "\n",
    "# Creative writing data - limit to task = \"cw\"\n",
    "cw_data = combined_data[combined_data['task'] == 'cw']\n",
    "\n",
    "# Load direct_prompting_comparison.xlsx\n",
    "direct_prompting_comparison = pd.read_excel('direct_prompting_comparison.xlsx')\n"
   ]
  },
  {
   "cell_type": "code",
   "execution_count": 80,
   "metadata": {},
   "outputs": [
    {
     "name": "stdout",
     "output_type": "stream",
     "text": [
      "Index(['model_task_method', 'conversation_number',\n",
      "       'coherence_1_incoherent_10_very_coherent',\n",
      "       'task_constraints_followed_0_not_followed_1_followed',\n",
      "       'ease_of_review_1_easy_10_hard', 'correct',\n",
      "       'Prediction_Based_On_First_10', 'Prediction_Based_On_Last_10',\n",
      "       'Aggregated_Prediction', 'Prediction_Based_On_First_10_LP',\n",
      "       'response_Based_On_First_10_LP', 'Prediction_Based_On_Last_10_LP',\n",
      "       'response_Based_On_Last_10_LP', 'response_LP',\n",
      "       'Aggregated_Prediction_LP', 'Prediction_Based_On_First_50_LP',\n",
      "       'response_Based_On_First_50_LP', 'Prediction_Based_On_Last_50_LP',\n",
      "       'response_Based_On_Last_50_LP', 'Aggregated_Prediction_50_LP',\n",
      "       'Prediction_Based_On_random_50_LP_1',\n",
      "       'response_Based_On_random_50_LP_1',\n",
      "       'Prediction_Based_On_random_50_LP_2',\n",
      "       'response_Based_On_random_50_LP_2',\n",
      "       'Aggregated_Prediction_random_50_LP', 'conversation_length',\n",
      "       'input_length', 'output_length', 'conversation_cost',\n",
      "       'gsm8k_question_index', 'gsm8k_answer', 'gsm8k_length_vs_provided',\n",
      "       'length_vs_direct_prompting', 'num_linebreaks', 'num_sentences',\n",
      "       'num_step_i', 'num_1_dot_etc', 'sentence_length', 'fres',\n",
      "       'num_linebreaks_prompts', 'num_sentences_prompts', 'num_step_i_prompts',\n",
      "       'num_1_dot_etc_prompts', 'sentence_length_prompts', 'fres_prompts',\n",
      "       'num_linebreaks_provided', 'num_sentences_provided',\n",
      "       'num_step_i_provided', 'num_1_dot_etc_provided', 'compliance',\n",
      "       'coherence_1_incoherent_10_very_coherent_compliance_adjusted', 'model',\n",
      "       'task', 'method', 'accuracy_quality',\n",
      "       'accuracy_quality_compliance_adjusted'],\n",
      "      dtype='object')\n"
     ]
    }
   ],
   "source": [
    "print(cw_data.columns)\n"
   ]
  },
  {
   "cell_type": "markdown",
   "metadata": {},
   "source": [
    "## Initial Checks on First-Pass Fine-Tuning Results"
   ]
  },
  {
   "cell_type": "code",
   "execution_count": 81,
   "metadata": {},
   "outputs": [
    {
     "name": "stdout",
     "output_type": "stream",
     "text": [
      "       coherence_1_incoherent_10_very_coherent  Prediction_Based_On_First_10  \\\n",
      "count                              1600.000000                   1440.000000   \n",
      "mean                                  4.974375                      5.403472   \n",
      "std                                   2.612563                      2.175833   \n",
      "min                                   1.000000                      1.000000   \n",
      "25%                                   3.000000                      3.000000   \n",
      "50%                                   5.000000                      7.000000   \n",
      "75%                                   7.000000                      7.000000   \n",
      "max                                  10.000000                      8.000000   \n",
      "\n",
      "       Prediction_Based_On_Last_10  Aggregated_Prediction  \n",
      "count                  1440.000000            1600.000000  \n",
      "mean                      4.066667               4.722500  \n",
      "std                       2.569885               2.265422  \n",
      "min                       1.000000               1.000000  \n",
      "25%                       2.000000               3.000000  \n",
      "50%                       3.000000               4.500000  \n",
      "75%                       7.000000               7.000000  \n",
      "max                       8.000000               8.000000  \n"
     ]
    }
   ],
   "source": [
    "# Summary statistics for variables: coherence_1_incoherent_10_very_coherent, Prediction_Based_On_First_10, Prediction_Based_On_Last_10, Aggregated_Prediction\n",
    "print(cw_data[['coherence_1_incoherent_10_very_coherent', 'Prediction_Based_On_First_10', 'Prediction_Based_On_Last_10', 'Aggregated_Prediction']].describe())\n"
   ]
  },
  {
   "cell_type": "code",
   "execution_count": 82,
   "metadata": {},
   "outputs": [
    {
     "name": "stdout",
     "output_type": "stream",
     "text": [
      "DescribeResult(nobs=1600, minmax=(-7.0, 8.0), mean=0.251875, variance=5.838020247029392, skewness=-0.006411691981771768, kurtosis=0.18078123260822876)\n"
     ]
    },
    {
     "data": {
      "text/plain": [
       "(array([  2.,   0.,   0.,   0.,   0.,   0.,   0.,   0.,   0.,   0.,   0.,\n",
       "          0.,   0.,   0.,   0.,   0.,   0.,   0.,   0.,   0.,   0.,   0.,\n",
       "          0.,   0.,   0.,   0.,   0.,   0.,   0.,   0.,   0.,   0.,   0.,\n",
       "          0.,   0.,   0.,   0.,   0.,   0.,   0.,   0.,   0.,   0.,   0.,\n",
       "          0.,   0.,   0.,   0.,   0.,   0.,   0.,   0.,   0.,   0.,   0.,\n",
       "          0.,   0.,   0.,   0.,   0.,   0.,   0.,   0.,   0.,   0.,   0.,\n",
       "         16.,   0.,   0.,   0.,   0.,   0.,   0.,   0.,   0.,   0.,   0.,\n",
       "          0.,   0.,   0.,   0.,   0.,   0.,   0.,   0.,   0.,   0.,   0.,\n",
       "          0.,   0.,   0.,   0.,   0.,   0.,   0.,   0.,   0.,   0.,   0.,\n",
       "          0.,   6.,   0.,   0.,   0.,   0.,   0.,   0.,   0.,   0.,   0.,\n",
       "          0.,   0.,   0.,   0.,   0.,   0.,   0.,   0.,   0.,   0.,   0.,\n",
       "          0.,   0.,   0.,   0.,   0.,   0.,   0.,   0.,   0.,   0.,   0.,\n",
       "          0.,  23.,   0.,   0.,   0.,   0.,   0.,   0.,   0.,   0.,   0.,\n",
       "          0.,   0.,   0.,   0.,   0.,   0.,   0.,   0.,   0.,   0.,   0.,\n",
       "          0.,   0.,   0.,   0.,   0.,   0.,   0.,   0.,   0.,   0.,   0.,\n",
       "          0.,  10.,   0.,   0.,   0.,   0.,   0.,   0.,   0.,   0.,   0.,\n",
       "          0.,   0.,   0.,   0.,   0.,   0.,   0.,   0.,   0.,   0.,   0.,\n",
       "          0.,   0.,   0.,   0.,   0.,   0.,   0.,   0.,   0.,   0.,   0.,\n",
       "          0.,   0.,  36.,   0.,   0.,   0.,   0.,   0.,   0.,   0.,   0.,\n",
       "          0.,   0.,   0.,   0.,   0.,   0.,   0.,   0.,   0.,   0.,   0.,\n",
       "          0.,   0.,   0.,   0.,   0.,   0.,   0.,   0.,   0.,   0.,   0.,\n",
       "          0.,   0.,  22.,   0.,   0.,   0.,   0.,   0.,   0.,   0.,   0.,\n",
       "          0.,   0.,   0.,   0.,   0.,   0.,   0.,   0.,   0.,   0.,   0.,\n",
       "          0.,   0.,   0.,   0.,   0.,   0.,   0.,   0.,   0.,   0.,   0.,\n",
       "          0.,   0.,  63.,   0.,   0.,   0.,   0.,   0.,   0.,   0.,   0.,\n",
       "          0.,   0.,   0.,   0.,   0.,   0.,   0.,   0.,   0.,   0.,   0.,\n",
       "          0.,   0.,   0.,   0.,   0.,   0.,   0.,   0.,   0.,   0.,   0.,\n",
       "          0.,   0.,   0.,  34.,   0.,   0.,   0.,   0.,   0.,   0.,   0.,\n",
       "          0.,   0.,   0.,   0.,   0.,   0.,   0.,   0.,   0.,   0.,   0.,\n",
       "          0.,   0.,   0.,   0.,   0.,   0.,   0.,   0.,   0.,   0.,   0.,\n",
       "          0.,   0.,   0.,  99.,   0.,   0.,   0.,   0.,   0.,   0.,   0.,\n",
       "          0.,   0.,   0.,   0.,   0.,   0.,   0.,   0.,   0.,   0.,   0.,\n",
       "          0.,   0.,   0.,   0.,   0.,   0.,   0.,   0.,   0.,   0.,   0.,\n",
       "          0.,   0.,   0.,  44.,   0.,   0.,   0.,   0.,   0.,   0.,   0.,\n",
       "          0.,   0.,   0.,   0.,   0.,   0.,   0.,   0.,   0.,   0.,   0.,\n",
       "          0.,   0.,   0.,   0.,   0.,   0.,   0.,   0.,   0.,   0.,   0.,\n",
       "          0.,   0.,   0.,   0., 184.,   0.,   0.,   0.,   0.,   0.,   0.,\n",
       "          0.,   0.,   0.,   0.,   0.,   0.,   0.,   0.,   0.,   0.,   0.,\n",
       "          0.,   0.,   0.,   0.,   0.,   0.,   0.,   0.,   0.,   0.,   0.,\n",
       "          0.,   0.,   0.,   0.,  76.,   0.,   0.,   0.,   0.,   0.,   0.,\n",
       "          0.,   0.,   0.,   0.,   0.,   0.,   0.,   0.,   0.,   0.,   0.,\n",
       "          0.,   0.,   0.,   0.,   0.,   0.,   0.,   0.,   0.,   0.,   0.,\n",
       "          0.,   0.,   0.,   0., 221.,   0.,   0.,   0.,   0.,   0.,   0.,\n",
       "          0.,   0.,   0.,   0.,   0.,   0.,   0.,   0.,   0.,   0.,   0.,\n",
       "          0.,   0.,   0.,   0.,   0.,   0.,   0.,   0.,   0.,   0.,   0.,\n",
       "          0.,   0.,   0.,   0.,   0., 101.,   0.,   0.,   0.,   0.,   0.,\n",
       "          0.,   0.,   0.,   0.,   0.,   0.,   0.,   0.,   0.,   0.,   0.,\n",
       "          0.,   0.,   0.,   0.,   0.,   0.,   0.,   0.,   0.,   0.,   0.,\n",
       "          0.,   0.,   0.,   0.,   0., 190.,   0.,   0.,   0.,   0.,   0.,\n",
       "          0.,   0.,   0.,   0.,   0.,   0.,   0.,   0.,   0.,   0.,   0.,\n",
       "          0.,   0.,   0.,   0.,   0.,   0.,   0.,   0.,   0.,   0.,   0.,\n",
       "          0.,   0.,   0.,   0.,   0.,  64.,   0.,   0.,   0.,   0.,   0.,\n",
       "          0.,   0.,   0.,   0.,   0.,   0.,   0.,   0.,   0.,   0.,   0.,\n",
       "          0.,   0.,   0.,   0.,   0.,   0.,   0.,   0.,   0.,   0.,   0.,\n",
       "          0.,   0.,   0.,   0.,   0.,   0., 119.,   0.,   0.,   0.,   0.,\n",
       "          0.,   0.,   0.,   0.,   0.,   0.,   0.,   0.,   0.,   0.,   0.,\n",
       "          0.,   0.,   0.,   0.,   0.,   0.,   0.,   0.,   0.,   0.,   0.,\n",
       "          0.,   0.,   0.,   0.,   0.,   0.,  45.,   0.,   0.,   0.,   0.,\n",
       "          0.,   0.,   0.,   0.,   0.,   0.,   0.,   0.,   0.,   0.,   0.,\n",
       "          0.,   0.,   0.,   0.,   0.,   0.,   0.,   0.,   0.,   0.,   0.,\n",
       "          0.,   0.,   0.,   0.,   0.,   0.,  82.,   0.,   0.,   0.,   0.,\n",
       "          0.,   0.,   0.,   0.,   0.,   0.,   0.,   0.,   0.,   0.,   0.,\n",
       "          0.,   0.,   0.,   0.,   0.,   0.,   0.,   0.,   0.,   0.,   0.,\n",
       "          0.,   0.,   0.,   0.,   0.,   0.,   0.,  25.,   0.,   0.,   0.,\n",
       "          0.,   0.,   0.,   0.,   0.,   0.,   0.,   0.,   0.,   0.,   0.,\n",
       "          0.,   0.,   0.,   0.,   0.,   0.,   0.,   0.,   0.,   0.,   0.,\n",
       "          0.,   0.,   0.,   0.,   0.,   0.,   0.,  48.,   0.,   0.,   0.,\n",
       "          0.,   0.,   0.,   0.,   0.,   0.,   0.,   0.,   0.,   0.,   0.,\n",
       "          0.,   0.,   0.,   0.,   0.,   0.,   0.,   0.,   0.,   0.,   0.,\n",
       "          0.,   0.,   0.,   0.,   0.,   0.,   0.,  15.,   0.,   0.,   0.,\n",
       "          0.,   0.,   0.,   0.,   0.,   0.,   0.,   0.,   0.,   0.,   0.,\n",
       "          0.,   0.,   0.,   0.,   0.,   0.,   0.,   0.,   0.,   0.,   0.,\n",
       "          0.,   0.,   0.,   0.,   0.,   0.,   0.,   0.,  49.,   0.,   0.,\n",
       "          0.,   0.,   0.,   0.,   0.,   0.,   0.,   0.,   0.,   0.,   0.,\n",
       "          0.,   0.,   0.,   0.,   0.,   0.,   0.,   0.,   0.,   0.,   0.,\n",
       "          0.,   0.,   0.,   0.,   0.,   0.,   0.,   0.,   9.,   0.,   0.,\n",
       "          0.,   0.,   0.,   0.,   0.,   0.,   0.,   0.,   0.,   0.,   0.,\n",
       "          0.,   0.,   0.,   0.,   0.,   0.,   0.,   0.,   0.,   0.,   0.,\n",
       "          0.,   0.,   0.,   0.,   0.,   0.,   0.,   0.,   6.,   0.,   0.,\n",
       "          0.,   0.,   0.,   0.,   0.,   0.,   0.,   0.,   0.,   0.,   0.,\n",
       "          0.,   0.,   0.,   0.,   0.,   0.,   0.,   0.,   0.,   0.,   0.,\n",
       "          0.,   0.,   0.,   0.,   0.,   0.,   0.,   0.,   0.,   5.,   0.,\n",
       "          0.,   0.,   0.,   0.,   0.,   0.,   0.,   0.,   0.,   0.,   0.,\n",
       "          0.,   0.,   0.,   0.,   0.,   0.,   0.,   0.,   0.,   0.,   0.,\n",
       "          0.,   0.,   0.,   0.,   0.,   0.,   0.,   0.,   0.,   3.,   0.,\n",
       "          0.,   0.,   0.,   0.,   0.,   0.,   0.,   0.,   0.,   0.,   0.,\n",
       "          0.,   0.,   0.,   0.,   0.,   0.,   0.,   0.,   0.,   0.,   0.,\n",
       "          0.,   0.,   0.,   0.,   0.,   0.,   0.,   0.,   0.,   2.,   0.,\n",
       "          0.,   0.,   0.,   0.,   0.,   0.,   0.,   0.,   0.,   0.,   0.,\n",
       "          0.,   0.,   0.,   0.,   0.,   0.,   0.,   0.,   0.,   0.,   0.,\n",
       "          0.,   0.,   0.,   0.,   0.,   0.,   0.,   0.,   0.,   1.]),\n",
       " array([-7.   , -6.985, -6.97 , ...,  7.97 ,  7.985,  8.   ]),\n",
       " <BarContainer object of 1000 artists>)"
      ]
     },
     "execution_count": 82,
     "metadata": {},
     "output_type": "execute_result"
    },
    {
     "data": {
      "image/png": "[encoded data removed]",
      "text/plain": [
       "<Figure size 640x480 with 1 Axes>"
      ]
     },
     "metadata": {},
     "output_type": "display_data"
    }
   ],
   "source": [
    "# Differences between coherence_1_incoherent_10_very_coherent and Aggregated_Prediction\n",
    "print(stats.describe(cw_data['coherence_1_incoherent_10_very_coherent'] - cw_data['Aggregated_Prediction']))\n",
    "\n",
    "# Histogram\n",
    "plt.hist(cw_data['coherence_1_incoherent_10_very_coherent'] - cw_data['Aggregated_Prediction'], bins = 1000)\n"
   ]
  },
  {
   "cell_type": "code",
   "execution_count": 83,
   "metadata": {},
   "outputs": [
    {
     "name": "stdout",
     "output_type": "stream",
     "text": [
      "Index(['model_task_method', 'conversation_number',\n",
      "       'coherence_1_incoherent_10_very_coherent',\n",
      "       'task_constraints_followed_0_not_followed_1_followed',\n",
      "       'ease_of_review_1_easy_10_hard', 'correct',\n",
      "       'Prediction_Based_On_First_10', 'Prediction_Based_On_Last_10',\n",
      "       'Aggregated_Prediction', 'Prediction_Based_On_First_10_LP',\n",
      "       'response_Based_On_First_10_LP', 'Prediction_Based_On_Last_10_LP',\n",
      "       'response_Based_On_Last_10_LP', 'response_LP',\n",
      "       'Aggregated_Prediction_LP', 'Prediction_Based_On_First_50_LP',\n",
      "       'response_Based_On_First_50_LP', 'Prediction_Based_On_Last_50_LP',\n",
      "       'response_Based_On_Last_50_LP', 'Aggregated_Prediction_50_LP',\n",
      "       'Prediction_Based_On_random_50_LP_1',\n",
      "       'response_Based_On_random_50_LP_1',\n",
      "       'Prediction_Based_On_random_50_LP_2',\n",
      "       'response_Based_On_random_50_LP_2',\n",
      "       'Aggregated_Prediction_random_50_LP', 'conversation_length',\n",
      "       'input_length', 'output_length', 'conversation_cost',\n",
      "       'gsm8k_question_index', 'gsm8k_answer', 'gsm8k_length_vs_provided',\n",
      "       'length_vs_direct_prompting', 'num_linebreaks', 'num_sentences',\n",
      "       'num_step_i', 'num_1_dot_etc', 'sentence_length', 'fres',\n",
      "       'num_linebreaks_prompts', 'num_sentences_prompts', 'num_step_i_prompts',\n",
      "       'num_1_dot_etc_prompts', 'sentence_length_prompts', 'fres_prompts',\n",
      "       'num_linebreaks_provided', 'num_sentences_provided',\n",
      "       'num_step_i_provided', 'num_1_dot_etc_provided', 'compliance',\n",
      "       'coherence_1_incoherent_10_very_coherent_compliance_adjusted', 'model',\n",
      "       'task', 'method', 'accuracy_quality',\n",
      "       'accuracy_quality_compliance_adjusted'],\n",
      "      dtype='object')\n"
     ]
    }
   ],
   "source": [
    "print(cw_data.columns)\n"
   ]
  },
  {
   "cell_type": "code",
   "execution_count": 84,
   "metadata": {},
   "outputs": [
    {
     "name": "stdout",
     "output_type": "stream",
     "text": [
      "overall KA\n",
      "0.10686929311619198\n",
      "no first 10 KA\n"
     ]
    },
    {
     "name": "stderr",
     "output_type": "stream",
     "text": [
      "C:\\Users\\ijyli\\AppData\\Local\\Temp\\ipykernel_23036\\1729583903.py:8: SettingWithCopyWarning: \n",
      "A value is trying to be set on a copy of a slice from a DataFrame.\n",
      "Try using .loc[row_indexer,col_indexer] = value instead\n",
      "\n",
      "See the caveats in the documentation: https://pandas.pydata.org/pandas-docs/stable/user_guide/indexing.html#returning-a-view-versus-a-copy\n",
      "  cw_data['model_task_method_conversation_id'] = cw_data['model'] + '_' + cw_data['task'] + '_' + cw_data['method'] + '_' + cw_data['conversation_number'].astype(str)\n",
      "C:\\Users\\ijyli\\AppData\\Local\\Temp\\ipykernel_23036\\1729583903.py:9: SettingWithCopyWarning: \n",
      "A value is trying to be set on a copy of a slice from a DataFrame.\n",
      "Try using .loc[row_indexer,col_indexer] = value instead\n",
      "\n",
      "See the caveats in the documentation: https://pandas.pydata.org/pandas-docs/stable/user_guide/indexing.html#returning-a-view-versus-a-copy\n",
      "  cw_data['Human'] = cw_data['coherence_1_incoherent_10_very_coherent']\n",
      "C:\\Users\\ijyli\\AppData\\Local\\Temp\\ipykernel_23036\\1729583903.py:10: SettingWithCopyWarning: \n",
      "A value is trying to be set on a copy of a slice from a DataFrame.\n",
      "Try using .loc[row_indexer,col_indexer] = value instead\n",
      "\n",
      "See the caveats in the documentation: https://pandas.pydata.org/pandas-docs/stable/user_guide/indexing.html#returning-a-view-versus-a-copy\n",
      "  cw_data['GPT-3.5 - First 10'] = cw_data['Prediction_Based_On_First_10']\n",
      "C:\\Users\\ijyli\\AppData\\Local\\Temp\\ipykernel_23036\\1729583903.py:11: SettingWithCopyWarning: \n",
      "A value is trying to be set on a copy of a slice from a DataFrame.\n",
      "Try using .loc[row_indexer,col_indexer] = value instead\n",
      "\n",
      "See the caveats in the documentation: https://pandas.pydata.org/pandas-docs/stable/user_guide/indexing.html#returning-a-view-versus-a-copy\n",
      "  cw_data['GPT-3.5 - Last 10'] = cw_data['Prediction_Based_On_Last_10']\n"
     ]
    },
    {
     "name": "stdout",
     "output_type": "stream",
     "text": [
      "0.10782815485733388\n",
      "no last 10 KA\n",
      "0.11024510661584563\n",
      "no first and last 10 KA\n",
      "0.11158211702182685\n"
     ]
    }
   ],
   "source": [
    "# Krippendorff's alpha\n",
    "# I am using the simpledorff package\n",
    "# experiment_col should be the conversation (row of the dataframe) - create model_task_method_conversation_id\n",
    "# annotator_col should be 'Human', 'GPT-3.5 - First 10', 'GPT-3.5 - Last 10'\n",
    "# class col should be the score from coherence_1_incoherent_10_very_coherent, Prediction_Based_On_First_10, Prediction_Based_On_Last_10\n",
    "\n",
    "# Manipulate and reshape dataframe\n",
    "cw_data['model_task_method_conversation_id'] = cw_data['model'] + '_' + cw_data['task'] + '_' + cw_data['method'] + '_' + cw_data['conversation_number'].astype(str)\n",
    "cw_data['Human'] = cw_data['coherence_1_incoherent_10_very_coherent']\n",
    "cw_data['GPT-3.5 - First 10'] = cw_data['Prediction_Based_On_First_10']\n",
    "cw_data['GPT-3.5 - Last 10'] = cw_data['Prediction_Based_On_Last_10']\n",
    "ka_data = cw_data[['model_task_method_conversation_id', 'Human', 'GPT-3.5 - First 10', 'GPT-3.5 - Last 10']]\n",
    "ka_data_melted = ka_data.melt(id_vars=['model_task_method_conversation_id'], value_vars=['Human', 'GPT-3.5 - First 10', 'GPT-3.5 - Last 10'])\n",
    "ka_data_melted = ka_data_melted.rename(columns={'variable': 'grader', 'value': 'coherence_score'})\n",
    "\n",
    "# Calculate Krippendorff's alpha\n",
    "print('overall KA')\n",
    "print(simpledorff.calculate_krippendorffs_alpha_for_df(ka_data_melted,\n",
    "                                                 experiment_col='model_task_method_conversation_id',\n",
    "                                                 annotator_col='grader',\n",
    "                                                 class_col='coherence_score'))\n",
    "\n",
    "# Version excluding first 10\n",
    "ka_data_no_first_10 = cw_data[cw_data['conversation_number'] > 10][['model_task_method_conversation_id', 'Human', 'GPT-3.5 - First 10', 'GPT-3.5 - Last 10']]\n",
    "ka_data_no_first_10_melted = ka_data_no_first_10.melt(id_vars=['model_task_method_conversation_id'], value_vars=['Human', 'GPT-3.5 - First 10', 'GPT-3.5 - Last 10'])\n",
    "ka_data_no_first_10_melted = ka_data_no_first_10_melted.rename(columns={'variable': 'grader', 'value': 'coherence_score'})\n",
    "print('no first 10 KA')\n",
    "print(simpledorff.calculate_krippendorffs_alpha_for_df(ka_data_no_first_10_melted,\n",
    "                                                 experiment_col='model_task_method_conversation_id',\n",
    "                                                 annotator_col='grader',\n",
    "                                                 class_col='coherence_score'))\n",
    "\n",
    "# Version excluding last 10\n",
    "ka_data_no_last_10 = cw_data[cw_data['conversation_number'] <= 90][['model_task_method_conversation_id', 'Human', 'GPT-3.5 - First 10', 'GPT-3.5 - Last 10']]\n",
    "ka_data_no_last_10_melted = ka_data_no_last_10.melt(id_vars=['model_task_method_conversation_id'], value_vars=['Human', 'GPT-3.5 - First 10', 'GPT-3.5 - Last 10'])\n",
    "ka_data_no_last_10_melted = ka_data_no_last_10_melted.rename(columns={'variable': 'grader', 'value': 'coherence_score'})\n",
    "print('no last 10 KA')\n",
    "print(simpledorff.calculate_krippendorffs_alpha_for_df(ka_data_no_last_10_melted,\n",
    "                                                 experiment_col='model_task_method_conversation_id',\n",
    "                                                 annotator_col='grader',\n",
    "                                                 class_col='coherence_score'))\n",
    "\n",
    "# Version excluding first and last 10\n",
    "ka_data_no_first_last_10 = cw_data[(cw_data['conversation_number'] > 10) & (cw_data['conversation_number'] <= 90)][['model_task_method_conversation_id', 'Human', 'GPT-3.5 - First 10', 'GPT-3.5 - Last 10']]\n",
    "ka_data_no_first_last_10_melted = ka_data_no_first_last_10.melt(id_vars=['model_task_method_conversation_id'], value_vars=['Human', 'GPT-3.5 - First 10', 'GPT-3.5 - Last 10'])\n",
    "ka_data_no_first_last_10_melted = ka_data_no_first_last_10_melted.rename(columns={'variable': 'grader', 'value': 'coherence_score'})\n",
    "print('no first and last 10 KA')\n",
    "print(simpledorff.calculate_krippendorffs_alpha_for_df(ka_data_no_first_last_10_melted,\n",
    "                                                 experiment_col='model_task_method_conversation_id',\n",
    "                                                 annotator_col='grader',\n",
    "                                                 class_col='coherence_score'))\n"
   ]
  },
  {
   "cell_type": "code",
   "execution_count": 85,
   "metadata": {},
   "outputs": [
    {
     "name": "stdout",
     "output_type": "stream",
     "text": [
      "aggregated predictions KA\n",
      "0.04803932294886726\n"
     ]
    }
   ],
   "source": [
    "# Try aggregated predictions\n",
    "ka_data_agg = cw_data[['model_task_method_conversation_id', 'Human', 'Aggregated_Prediction']]\n",
    "ka_data_agg_melted = ka_data_agg.melt(id_vars=['model_task_method_conversation_id'], value_vars=['Human', 'Aggregated_Prediction'])\n",
    "ka_data_agg_melted = ka_data_agg_melted.rename(columns={'variable': 'grader', 'value': 'coherence_score'})\n",
    "print('aggregated predictions KA')\n",
    "print(simpledorff.calculate_krippendorffs_alpha_for_df(ka_data_agg_melted,\n",
    "                                                 experiment_col='model_task_method_conversation_id',\n",
    "                                                 annotator_col='grader',\n",
    "                                                 class_col='coherence_score'))\n"
   ]
  },
  {
   "cell_type": "code",
   "execution_count": 86,
   "metadata": {},
   "outputs": [
    {
     "name": "stdout",
     "output_type": "stream",
     "text": [
      "0.18525258256529475\n"
     ]
    }
   ],
   "source": [
    "# Try to demand less of the data - in ka_data_melted, bin 1-10 into 1-5\n",
    "# Divide by 2 and take the ceiling\n",
    "ka_data_melted['coherence_1_to_5'] = ka_data_melted.dropna()['coherence_score'].apply(lambda x: math.ceil(x/2))\n",
    "\n",
    "# Calculate Krippendorff's alpha\n",
    "print(simpledorff.calculate_krippendorffs_alpha_for_df(ka_data_melted,\n",
    "                                                       experiment_col='model_task_method_conversation_id',\n",
    "                                                       annotator_col='grader',\n",
    "                                                       class_col='coherence_1_to_5'))\n"
   ]
  },
  {
   "cell_type": "code",
   "execution_count": 87,
   "metadata": {},
   "outputs": [
    {
     "name": "stdout",
     "output_type": "stream",
     "text": [
      "0.2735720914000721\n"
     ]
    }
   ],
   "source": [
    "# Try coherence on a scale of 1 to 3\n",
    "ka_data_melted['coherence_1_to_3'] = ka_data_melted.dropna()['coherence_score'].apply(lambda x: math.ceil(x/3.33))\n",
    "\n",
    "# Calculate Krippendorff's alpha\n",
    "print(simpledorff.calculate_krippendorffs_alpha_for_df(ka_data_melted,\n",
    "                                                       experiment_col='model_task_method_conversation_id',\n",
    "                                                       annotator_col='grader',\n",
    "                                                       class_col='coherence_1_to_3'))\n"
   ]
  },
  {
   "cell_type": "code",
   "execution_count": 88,
   "metadata": {},
   "outputs": [
    {
     "name": "stdout",
     "output_type": "stream",
     "text": [
      "0.4195238892015637\n"
     ]
    }
   ],
   "source": [
    "# Try coherence vs incoherence binary\n",
    "ka_data_melted['coherence_binary'] = ka_data_melted.dropna()['coherence_score'].apply(lambda x: 1 if x > 5 else 0)\n",
    "\n",
    "# Calculate Krippendorff's alpha\n",
    "print(simpledorff.calculate_krippendorffs_alpha_for_df(ka_data_melted,\n",
    "                                                       experiment_col='model_task_method_conversation_id',\n",
    "                                                       annotator_col='grader',\n",
    "                                                       class_col='coherence_binary'))\n"
   ]
  },
  {
   "cell_type": "markdown",
   "metadata": {},
   "source": [
    "## Fine-tuning with longer prompts"
   ]
  },
  {
   "cell_type": "code",
   "execution_count": 89,
   "metadata": {},
   "outputs": [
    {
     "name": "stdout",
     "output_type": "stream",
     "text": [
      "overall KA\n",
      "0.14655382629441482\n"
     ]
    },
    {
     "name": "stderr",
     "output_type": "stream",
     "text": [
      "C:\\Users\\ijyli\\AppData\\Local\\Temp\\ipykernel_23036\\800768595.py:2: SettingWithCopyWarning: \n",
      "A value is trying to be set on a copy of a slice from a DataFrame.\n",
      "Try using .loc[row_indexer,col_indexer] = value instead\n",
      "\n",
      "See the caveats in the documentation: https://pandas.pydata.org/pandas-docs/stable/user_guide/indexing.html#returning-a-view-versus-a-copy\n",
      "  cw_data['GPT-3.5 - First 10 - LP'] = cw_data['Prediction_Based_On_First_10_LP']\n",
      "C:\\Users\\ijyli\\AppData\\Local\\Temp\\ipykernel_23036\\800768595.py:3: SettingWithCopyWarning: \n",
      "A value is trying to be set on a copy of a slice from a DataFrame.\n",
      "Try using .loc[row_indexer,col_indexer] = value instead\n",
      "\n",
      "See the caveats in the documentation: https://pandas.pydata.org/pandas-docs/stable/user_guide/indexing.html#returning-a-view-versus-a-copy\n",
      "  cw_data['GPT-3.5 - Last 10 - LP'] = cw_data['Prediction_Based_On_Last_10_LP']\n"
     ]
    }
   ],
   "source": [
    "# Manipulate and reshape dataframe\n",
    "cw_data['GPT-3.5 - First 10 - LP'] = cw_data['Prediction_Based_On_First_10_LP']\n",
    "cw_data['GPT-3.5 - Last 10 - LP'] = cw_data['Prediction_Based_On_Last_10_LP']\n",
    "ka_data_lp = cw_data[['model_task_method_conversation_id', 'Human', 'GPT-3.5 - First 10 - LP', 'GPT-3.5 - Last 10 - LP']]\n",
    "ka_data_melted_lp = ka_data_lp.melt(id_vars=['model_task_method_conversation_id'], value_vars=['Human', 'GPT-3.5 - First 10 - LP', 'GPT-3.5 - Last 10 - LP'])\n",
    "ka_data_melted_lp = ka_data_melted_lp.rename(columns={'variable': 'grader', 'value': 'coherence_score'})\n",
    "\n",
    "# Calculate Krippendorff's alpha\n",
    "print('overall KA')\n",
    "print(simpledorff.calculate_krippendorffs_alpha_for_df(ka_data_melted_lp,\n",
    "                                                 experiment_col='model_task_method_conversation_id',\n",
    "                                                 annotator_col='grader',\n",
    "                                                 class_col='coherence_score'))\n"
   ]
  },
  {
   "cell_type": "code",
   "execution_count": 90,
   "metadata": {},
   "outputs": [
    {
     "name": "stdout",
     "output_type": "stream",
     "text": [
      "aggregated predictions KA\n",
      "0.06459910514503153\n"
     ]
    }
   ],
   "source": [
    "# Try aggregated predictions\n",
    "ka_data_agg_lp = cw_data[['model_task_method_conversation_id', 'Human', 'Aggregated_Prediction_LP']]\n",
    "ka_data_agg_melted_lp = ka_data_agg_lp.melt(id_vars=['model_task_method_conversation_id'], value_vars=['Human', 'Aggregated_Prediction_LP'])\n",
    "ka_data_agg_melted_lp = ka_data_agg_melted_lp.rename(columns={'variable': 'grader', 'value': 'coherence_score'})\n",
    "print('aggregated predictions KA')\n",
    "print(simpledorff.calculate_krippendorffs_alpha_for_df(ka_data_agg_melted_lp,\n",
    "                                                 experiment_col='model_task_method_conversation_id',\n",
    "                                                 annotator_col='grader',\n",
    "                                                 class_col='coherence_score'))\n"
   ]
  },
  {
   "cell_type": "markdown",
   "metadata": {},
   "source": [
    "### Using half the data"
   ]
  },
  {
   "cell_type": "code",
   "execution_count": 91,
   "metadata": {},
   "outputs": [
    {
     "name": "stdout",
     "output_type": "stream",
     "text": [
      "overall KA\n",
      "0.14723679091121322\n"
     ]
    },
    {
     "name": "stderr",
     "output_type": "stream",
     "text": [
      "C:\\Users\\ijyli\\AppData\\Local\\Temp\\ipykernel_23036\\672138764.py:2: SettingWithCopyWarning: \n",
      "A value is trying to be set on a copy of a slice from a DataFrame.\n",
      "Try using .loc[row_indexer,col_indexer] = value instead\n",
      "\n",
      "See the caveats in the documentation: https://pandas.pydata.org/pandas-docs/stable/user_guide/indexing.html#returning-a-view-versus-a-copy\n",
      "  cw_data['GPT-3.5 - First 50 - LP'] = cw_data['Prediction_Based_On_First_50_LP']\n",
      "C:\\Users\\ijyli\\AppData\\Local\\Temp\\ipykernel_23036\\672138764.py:3: SettingWithCopyWarning: \n",
      "A value is trying to be set on a copy of a slice from a DataFrame.\n",
      "Try using .loc[row_indexer,col_indexer] = value instead\n",
      "\n",
      "See the caveats in the documentation: https://pandas.pydata.org/pandas-docs/stable/user_guide/indexing.html#returning-a-view-versus-a-copy\n",
      "  cw_data['GPT-3.5 - Last 50 - LP'] = cw_data['Prediction_Based_On_Last_50_LP']\n"
     ]
    }
   ],
   "source": [
    "# Manipulate and reshape dataframe\n",
    "cw_data['GPT-3.5 - First 50 - LP'] = cw_data['Prediction_Based_On_First_50_LP']\n",
    "cw_data['GPT-3.5 - Last 50 - LP'] = cw_data['Prediction_Based_On_Last_50_LP']\n",
    "ka_data_lp_50 = cw_data[['model_task_method_conversation_id', 'Human', 'GPT-3.5 - First 50 - LP', 'GPT-3.5 - Last 50 - LP']]\n",
    "ka_data_melted_lp_50 = ka_data_lp_50.melt(id_vars=['model_task_method_conversation_id'], value_vars=['Human', 'GPT-3.5 - First 50 - LP', 'GPT-3.5 - Last 50 - LP'])\n",
    "ka_data_melted_lp_50 = ka_data_melted_lp_50.rename(columns={'variable': 'grader', 'value': 'coherence_score'})\n",
    "\n",
    "# Calculate Krippendorff's alpha\n",
    "print('overall KA')\n",
    "print(simpledorff.calculate_krippendorffs_alpha_for_df(ka_data_melted_lp_50,\n",
    "                                                 experiment_col='model_task_method_conversation_id',\n",
    "                                                 annotator_col='grader',\n",
    "                                                 class_col='coherence_score'))\n"
   ]
  },
  {
   "cell_type": "code",
   "execution_count": 92,
   "metadata": {},
   "outputs": [
    {
     "name": "stdout",
     "output_type": "stream",
     "text": [
      "Index(['model_task_method', 'conversation_number',\n",
      "       'coherence_1_incoherent_10_very_coherent',\n",
      "       'task_constraints_followed_0_not_followed_1_followed',\n",
      "       'ease_of_review_1_easy_10_hard', 'correct',\n",
      "       'Prediction_Based_On_First_10', 'Prediction_Based_On_Last_10',\n",
      "       'Aggregated_Prediction', 'Prediction_Based_On_First_10_LP',\n",
      "       'response_Based_On_First_10_LP', 'Prediction_Based_On_Last_10_LP',\n",
      "       'response_Based_On_Last_10_LP', 'response_LP',\n",
      "       'Aggregated_Prediction_LP', 'Prediction_Based_On_First_50_LP',\n",
      "       'response_Based_On_First_50_LP', 'Prediction_Based_On_Last_50_LP',\n",
      "       'response_Based_On_Last_50_LP', 'Aggregated_Prediction_50_LP',\n",
      "       'Prediction_Based_On_random_50_LP_1',\n",
      "       'response_Based_On_random_50_LP_1',\n",
      "       'Prediction_Based_On_random_50_LP_2',\n",
      "       'response_Based_On_random_50_LP_2',\n",
      "       'Aggregated_Prediction_random_50_LP', 'conversation_length',\n",
      "       'input_length', 'output_length', 'conversation_cost',\n",
      "       'gsm8k_question_index', 'gsm8k_answer', 'gsm8k_length_vs_provided',\n",
      "       'length_vs_direct_prompting', 'num_linebreaks', 'num_sentences',\n",
      "       'num_step_i', 'num_1_dot_etc', 'sentence_length', 'fres',\n",
      "       'num_linebreaks_prompts', 'num_sentences_prompts', 'num_step_i_prompts',\n",
      "       'num_1_dot_etc_prompts', 'sentence_length_prompts', 'fres_prompts',\n",
      "       'num_linebreaks_provided', 'num_sentences_provided',\n",
      "       'num_step_i_provided', 'num_1_dot_etc_provided', 'compliance',\n",
      "       'coherence_1_incoherent_10_very_coherent_compliance_adjusted', 'model',\n",
      "       'task', 'method', 'accuracy_quality',\n",
      "       'accuracy_quality_compliance_adjusted',\n",
      "       'model_task_method_conversation_id', 'Human', 'GPT-3.5 - First 10',\n",
      "       'GPT-3.5 - Last 10', 'GPT-3.5 - First 10 - LP',\n",
      "       'GPT-3.5 - Last 10 - LP', 'GPT-3.5 - First 50 - LP',\n",
      "       'GPT-3.5 - Last 50 - LP'],\n",
      "      dtype='object')\n"
     ]
    }
   ],
   "source": [
    "print(cw_data.columns)\n"
   ]
  },
  {
   "cell_type": "code",
   "execution_count": 93,
   "metadata": {},
   "outputs": [
    {
     "name": "stdout",
     "output_type": "stream",
     "text": [
      "aggregated predictions KA\n",
      "0.14723679091121322\n"
     ]
    }
   ],
   "source": [
    "# Try aggregated predictions\n",
    "ka_data_agg_lp_50 = cw_data[['model_task_method_conversation_id', 'Human', 'Aggregated_Prediction_50_LP']]\n",
    "ka_data_agg_melted_lp_50 = ka_data_agg_lp_50.melt(id_vars=['model_task_method_conversation_id'], value_vars=['Human', 'Aggregated_Prediction_50_LP'])\n",
    "ka_data_agg_melted_lp_50 = ka_data_agg_melted_lp_50.rename(columns={'variable': 'grader', 'value': 'coherence_score'})\n",
    "print('aggregated predictions KA')\n",
    "print(simpledorff.calculate_krippendorffs_alpha_for_df(ka_data_agg_melted_lp_50,\n",
    "                                                 experiment_col='model_task_method_conversation_id',\n",
    "                                                 annotator_col='grader',\n",
    "                                                 class_col='coherence_score'))\n"
   ]
  },
  {
   "cell_type": "markdown",
   "metadata": {},
   "source": [
    "### Using random 50% split"
   ]
  },
  {
   "cell_type": "code",
   "execution_count": 94,
   "metadata": {},
   "outputs": [
    {
     "name": "stdout",
     "output_type": "stream",
     "text": [
      "overall KA\n",
      "0.16701274040997383\n"
     ]
    },
    {
     "name": "stderr",
     "output_type": "stream",
     "text": [
      "C:\\Users\\ijyli\\AppData\\Local\\Temp\\ipykernel_23036\\2104129242.py:2: SettingWithCopyWarning: \n",
      "A value is trying to be set on a copy of a slice from a DataFrame.\n",
      "Try using .loc[row_indexer,col_indexer] = value instead\n",
      "\n",
      "See the caveats in the documentation: https://pandas.pydata.org/pandas-docs/stable/user_guide/indexing.html#returning-a-view-versus-a-copy\n",
      "  cw_data['GPT-3.5 - Random 50 - LP - 1'] = cw_data['Prediction_Based_On_random_50_LP_1']\n",
      "C:\\Users\\ijyli\\AppData\\Local\\Temp\\ipykernel_23036\\2104129242.py:3: SettingWithCopyWarning: \n",
      "A value is trying to be set on a copy of a slice from a DataFrame.\n",
      "Try using .loc[row_indexer,col_indexer] = value instead\n",
      "\n",
      "See the caveats in the documentation: https://pandas.pydata.org/pandas-docs/stable/user_guide/indexing.html#returning-a-view-versus-a-copy\n",
      "  cw_data['GPT-3.5 - Random 50 - LP - 2'] = cw_data['Prediction_Based_On_random_50_LP_2']\n"
     ]
    }
   ],
   "source": [
    "# Manipulate and reshape dataframe\n",
    "cw_data['GPT-3.5 - Random 50 - LP - 1'] = cw_data['Prediction_Based_On_random_50_LP_1']\n",
    "cw_data['GPT-3.5 - Random 50 - LP - 2'] = cw_data['Prediction_Based_On_random_50_LP_2']\n",
    "ka_data_random_lp_50 = cw_data[['model_task_method_conversation_id', 'Human', 'GPT-3.5 - Random 50 - LP - 1', 'GPT-3.5 - Random 50 - LP - 2']]\n",
    "ka_data_melted_random_lp_50 = ka_data_random_lp_50.melt(id_vars=['model_task_method_conversation_id'], value_vars=['Human', 'GPT-3.5 - Random 50 - LP - 1', 'GPT-3.5 - Random 50 - LP - 2'])\n",
    "ka_data_melted_random_lp_50 = ka_data_melted_random_lp_50.rename(columns={'variable': 'grader', 'value': 'coherence_score'})\n",
    "\n",
    "# Calculate Krippendorff's alpha\n",
    "print('overall KA')\n",
    "print(simpledorff.calculate_krippendorffs_alpha_for_df(ka_data_melted_random_lp_50,\n",
    "                                                 experiment_col='model_task_method_conversation_id',\n",
    "                                                 annotator_col='grader',\n",
    "                                                 class_col='coherence_score'))\n"
   ]
  },
  {
   "cell_type": "code",
   "execution_count": 96,
   "metadata": {},
   "outputs": [
    {
     "name": "stdout",
     "output_type": "stream",
     "text": [
      "aggregated predictions KA\n",
      "0.16701274040997383\n"
     ]
    }
   ],
   "source": [
    "# Try aggregated predictions\n",
    "ka_data_agg_random_lp_50 = cw_data[['model_task_method_conversation_id', 'Human', 'Aggregated_Prediction_random_50_LP']]\n",
    "ka_data_agg_melted_random_lp_50 = ka_data_agg_random_lp_50.melt(id_vars=['model_task_method_conversation_id'], value_vars=['Human', 'Aggregated_Prediction_random_50_LP'])\n",
    "ka_data_agg_melted_random_lp_50 = ka_data_agg_melted_random_lp_50.rename(columns={'variable': 'grader', 'value': 'coherence_score'})\n",
    "print('aggregated predictions KA')\n",
    "print(simpledorff.calculate_krippendorffs_alpha_for_df(ka_data_agg_melted_random_lp_50,\n",
    "                                                 experiment_col='model_task_method_conversation_id',\n",
    "                                                 annotator_col='grader',\n",
    "                                                 class_col='coherence_score'))\n"
   ]
  },
  {
   "cell_type": "markdown",
   "metadata": {},
   "source": [
    "### Investigate Preferences"
   ]
  }
 ],
 "metadata": {
  "kernelspec": {
   "display_name": "anlp",
   "language": "python",
   "name": "python3"
  },
  "language_info": {
   "codemirror_mode": {
    "name": "ipython",
    "version": 3
   },
   "file_extension": ".py",
   "mimetype": "text/x-python",
   "name": "python",
   "nbconvert_exporter": "python",
   "pygments_lexer": "ipython3",
   "version": "3.11.4"
  }
 },
 "nbformat": 4,
 "nbformat_minor": 2
}
