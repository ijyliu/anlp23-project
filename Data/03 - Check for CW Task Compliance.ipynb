{
 "cells": [
  {
   "cell_type": "markdown",
   "metadata": {},
   "source": [
    "# Check for CW Task Compliance.ipynb\n",
    "\n",
    "Check for an exact match to the prompted sentences.\n",
    "\n",
    "Search all responses - odd conversation indices.\n",
    "\n",
    "First sentence plus \"\\n\" at the end.\n",
    "\n",
    "Second sentence plus end of response/end of trimmed string."
   ]
  }
 ],
 "metadata": {
  "language_info": {
   "name": "python"
  }
 },
 "nbformat": 4,
 "nbformat_minor": 2
}
