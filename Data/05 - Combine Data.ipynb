{
 "cells": [
  {
   "cell_type": "markdown",
   "metadata": {},
   "source": [
    "# Combine Data.ipynb\n",
    "\n",
    "Merge all datasets together before conducting analysis.\n",
    "\n",
    "Datasets to combine: Automated_Grading.xlsx, Automated_Grading_Experiments.xlsx, Automatic_Metrics.xlsx\n",
    "\n",
    "Add useful variables"
   ]
  },
  {
   "cell_type": "code",
   "execution_count": null,
   "metadata": {},
   "outputs": [],
   "source": [
    "import pandas as pd\n",
    "\n"
   ]
  },
  {
   "cell_type": "code",
   "execution_count": null,
   "metadata": {},
   "outputs": [],
   "source": [
    "# Automated_Grading.xlsx\n",
    "Automated_Grading = pd.read_excel('Automated_Grading.xlsx')\n",
    "\n",
    "Automated_Grading\n"
   ]
  },
  {
   "cell_type": "code",
   "execution_count": null,
   "metadata": {},
   "outputs": [],
   "source": [
    "# Automated_Grading_Experiments.xlsx\n",
    "Automated_Grading_Experiments = pd.read_excel('Automated_Grading_Experiments.xlsx')\n",
    "\n",
    "Automated_Grading_Experiments\n"
   ]
  },
  {
   "cell_type": "code",
   "execution_count": null,
   "metadata": {},
   "outputs": [],
   "source": [
    "# Merge on model_task_method, conversation_number\n",
    "merged_df = pd.merge(Automated_Grading, Automated_Grading_Experiments, on=['model_task_method', 'conversation_number'], how='left')\n",
    "\n",
    "merged_df\n"
   ]
  },
  {
   "cell_type": "code",
   "execution_count": null,
   "metadata": {},
   "outputs": [],
   "source": [
    "# Automatic_Metrics.xlsx\n",
    "Automatic_Metrics = pd.read_excel('Automatic_Metrics.xlsx')\n",
    "\n",
    "Automatic_Metrics\n"
   ]
  },
  {
   "cell_type": "code",
   "execution_count": null,
   "metadata": {},
   "outputs": [],
   "source": [
    "# Merge on model_task_method, conversation_number\n",
    "merged_df = pd.merge(merged_df, Automatic_Metrics, on=['model_task_method', 'conversation_number'], how='left')\n",
    "\n",
    "merged_df\n"
   ]
  },
  {
   "cell_type": "markdown",
   "metadata": {},
   "source": [
    "## Adding Columns"
   ]
  },
  {
   "cell_type": "code",
   "execution_count": null,
   "metadata": {},
   "outputs": [],
   "source": [
    "# Get model, task, and method from model_task_method\n",
    "# Model - first item when split on underscores\n",
    "# Task - second item when split on underscores\n",
    "# method - all remaining items when split on underscores, removing the last item\n",
    "merged_df['model'] = merged_df['model_task_method'].str.split('_').str[0]\n",
    "merged_df['task'] = merged_df['model_task_method'].str.split('_').str[1]\n",
    "merged_df['method'] = merged_df['model_task_method'].str.split('_').str[2:].str[:-1].str.join('_')\n",
    "\n",
    "# Print value counts of model, task, and method\n",
    "print(merged_df['model'].value_counts())\n",
    "print(merged_df['task'].value_counts())\n",
    "print(merged_df['method'].value_counts())\n"
   ]
  },
  {
   "cell_type": "markdown",
   "metadata": {},
   "source": [
    "## Final Output"
   ]
  },
  {
   "cell_type": "code",
   "execution_count": null,
   "metadata": {},
   "outputs": [],
   "source": [
    "# Output Combined_Data.xlsx\n",
    "merged_df.to_excel('Combined_Data.xlsx', index=False)\n"
   ]
  }
 ],
 "metadata": {
  "language_info": {
   "name": "python"
  }
 },
 "nbformat": 4,
 "nbformat_minor": 2
}
