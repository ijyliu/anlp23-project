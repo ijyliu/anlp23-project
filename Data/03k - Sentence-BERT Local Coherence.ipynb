{
 "cells": [
  {
   "cell_type": "markdown",
   "metadata": {},
   "source": [
    "# Sentence-BERT Local Coherence\n",
    "\n",
    "Compute local coherence scores for cw responses using Sentence-BERT embeddings and average cosine similarity.\n",
    "\n",
    "Run on Google Colab."
   ]
  },
  {
   "cell_type": "code",
   "execution_count": null,
   "metadata": {},
   "outputs": [],
   "source": [
    "!pip install sentence-transformers\n"
   ]
  },
  {
   "cell_type": "code",
   "execution_count": null,
   "metadata": {},
   "outputs": [],
   "source": [
    "#!wget https://github.com/ijyliu/anlp23-project/blob/main/Data/actual_cw_passage_content.xlsx\n",
    "#https://github.com/ijyliu/anlp23-project/blob/947bc984cb7ead83eca0943f87ac3db44669a2fb/Data/actual_cw_passage_content.xlsx\n"
   ]
  },
  {
   "cell_type": "code",
   "execution_count": null,
   "metadata": {},
   "outputs": [],
   "source": [
    "# Get passage content\n",
    "\n",
    "import pandas as pd\n",
    "\n",
    "# URL of the raw Excel file from GitHub\n",
    "url = 'https://github.com/ijyliu/anlp23-project/blob/main/Data/actual_cw_passage_content.xlsx'\n",
    "\n",
    "# Read the Excel file\n",
    "df = pd.read_excel(url)\n",
    "\n",
    "# Display the first few rows of the dataframe\n",
    "print(df.head())\n"
   ]
  },
  {
   "cell_type": "code",
   "execution_count": null,
   "metadata": {},
   "outputs": [],
   "source": [
    "# Packages\n",
    "from math import sqrt\n",
    "from sentence_transformers import SentenceTransformer\n",
    "import numpy as np\n"
   ]
  },
  {
   "cell_type": "code",
   "execution_count": null,
   "metadata": {},
   "outputs": [],
   "source": [
    "# Load model\n",
    "sentence_model = SentenceTransformer('sentence-transformers/all-distilroberta-v1')\n"
   ]
  },
  {
   "cell_type": "code",
   "execution_count": null,
   "metadata": {},
   "outputs": [],
   "source": [
    "# Testing embedding creation\n",
    "embedding=sentence_model.encode(\"this is a sentence\")\n",
    "print(embedding.shape)\n"
   ]
  },
  {
   "cell_type": "code",
   "execution_count": null,
   "metadata": {},
   "outputs": [],
   "source": [
    "# Cosine similarity between embeddings\n",
    "def cosine(one, two):\n",
    "  return np.dot(one,two)/(sqrt(np.dot(one,one)) * sqrt(np.dot(two,two)))\n"
   ]
  },
  {
   "cell_type": "code",
   "execution_count": null,
   "metadata": {},
   "outputs": [],
   "source": [
    "# Function to get passage average cosine similarity between sentence and the following sentence\n",
    "def get_passage_avg_cosine_sim(passage):\n",
    "  # Get sentence embeddings\n",
    "  sentence_embeddings = sentence_model.encode(passage)\n",
    "  # Get cosine similarity between sentence and the one after it\n",
    "  cosine_sim = []\n",
    "  for i in range(len(sentence_embeddings)-1):\n",
    "    cosine_sim.append(cosine(sentence_embeddings[i], sentence_embeddings[i+1]))\n",
    "  # Return average cosine similarity\n",
    "  return sum(cosine_sim)/len(cosine_sim)\n"
   ]
  },
  {
   "cell_type": "code",
   "execution_count": null,
   "metadata": {},
   "outputs": [],
   "source": [
    "# Create column for average cosine similarity\n",
    "df['avg_cosine_sim'] = df['passage'].apply(get_passage_avg_cosine_sim)\n"
   ]
  },
  {
   "cell_type": "code",
   "execution_count": null,
   "metadata": {},
   "outputs": [],
   "source": [
    "# Save similarities\n",
    "from google.colab import drive\n",
    "drive.mount('/content/drive')\n",
    "filename_to_save = '/content/drive/My Drive/ANLP23_Project_Data/actual_cw_passage_content_with_sim.xlsx'\n",
    "\n",
    "# Write df to Excel\n",
    "df.to_excel(filename_to_save)\n"
   ]
  }
 ],
 "metadata": {
  "language_info": {
   "name": "python"
  }
 },
 "nbformat": 4,
 "nbformat_minor": 2
}
