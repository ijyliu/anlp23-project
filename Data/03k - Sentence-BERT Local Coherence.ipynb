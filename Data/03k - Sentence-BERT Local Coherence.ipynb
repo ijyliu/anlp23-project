{
 "cells": [
  {
   "cell_type": "markdown",
   "metadata": {},
   "source": [
    "# Sentence-BERT Local Coherence\n",
    "\n",
    "Compute local coherence scores for cw responses using Sentence-BERT embeddings and average cosine similarity."
   ]
  }
 ],
 "metadata": {
  "language_info": {
   "name": "python"
  }
 },
 "nbformat": 4,
 "nbformat_minor": 2
}
