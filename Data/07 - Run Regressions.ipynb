{
 "cells": [
  {
   "cell_type": "markdown",
   "metadata": {},
   "source": [
    "# Run Regressions.ipynb\n",
    "\n",
    "Logistic regressions of GSM8K accuracy on length and complexity variables, quadratic terms, clustering by idenity of the question and method.\n",
    "\n",
    "Regression of CW scores similarly.\n",
    "\n",
    "Add complexity of provided answers as an interaction term in GSM8K regressions."
   ]
  },
  {
   "cell_type": "code",
   "execution_count": null,
   "metadata": {
    "vscode": {
     "languageId": "plaintext"
    }
   },
   "outputs": [],
   "source": []
  }
 ],
 "metadata": {
  "language_info": {
   "name": "python"
  }
 },
 "nbformat": 4,
 "nbformat_minor": 2
}
