{
 "cells": [
  {
   "cell_type": "markdown",
   "metadata": {},
   "source": [
    "# Order Setup\n",
    "\n",
    "Create objects/lists of items for plot ordering."
   ]
  },
  {
   "cell_type": "code",
   "execution_count": 1,
   "metadata": {},
   "outputs": [],
   "source": [
    "import pandas as pd\n"
   ]
  },
  {
   "cell_type": "code",
   "execution_count": 2,
   "metadata": {},
   "outputs": [
    {
     "name": "stdout",
     "output_type": "stream",
     "text": [
      "      technique_name ss_publication_date   Prompt Engineering Method\n",
      "0  ape_zero_shot_cot          2022-11-03   Automatic Prompt Engineer\n",
      "1      least_to_most          2022-05-21     Least-to-Most Prompting\n",
      "2         manual_cot          2022-01-28  Chain-of-Thought Prompting\n",
      "3    manual_few_shot          2020-05-28           Few-Shot Learning\n",
      "4        self_refine          2023-03-30                 Self-Refine\n",
      "5    tree_of_thought          2023-05-15             Tree-of-Thought\n",
      "6      zero_shot_cot          2022-05-24  Zero-Shot Chain-of-Thought\n"
     ]
    }
   ],
   "source": [
    "# Release date\n",
    "\n",
    "# Load Excel file \"..\\Selection of Prompt Engineering Methods\\Hand-Labeled Method and Implementation Considerations.xlsx\"\n",
    "hand_labeled_data = pd.read_excel('..\\Selection of Prompt Engineering Methods\\Hand-Labeled Method and Implementation Considerations.xlsx')\n",
    "\n",
    "# Keep columns ss_publication_date, \"Prompt Engineering Method\"\n",
    "hand_labeled_data = hand_labeled_data[['ss_publication_date', 'Prompt Engineering Method']]\n",
    "\n",
    "# Mapping names from this data to technqiue names\n",
    "# \"Few-Shot Learing\" -> \"manual_few_shot\"\n",
    "# \"Chain-of-Thought Prompting\" -> \"manual_cot\"\n",
    "# \"Zero-Shot Chain-of_Thought\" -> \"zero_shot_cot\"\n",
    "# \"Automatic Prompt Engineer\" -> \"ape_zero_shot_cot\"\n",
    "# \"Self-Refine\" -> \"self_refine\"\n",
    "# \"Least-to-Most Prompting\" -> \"least_to_most\"\n",
    "# \"Tree-of-Thought\" -> \"tree_of_thought\"\n",
    "# Set names in hand_labeled_data to these names\n",
    "hand_labeled_data['technique_name'] = hand_labeled_data['Prompt Engineering Method'].replace({'Few-Shot Learning': 'manual_few_shot', 'Chain-of-Thought Prompting': 'manual_cot', 'Zero-Shot Chain-of-Thought': 'zero_shot_cot', 'Automatic Prompt Engineer': 'ape_zero_shot_cot', 'Self-Refine': 'self_refine', 'Least-to-Most Prompting': 'least_to_most', 'Tree-of-Thought': 'tree_of_thought'})\n",
    "\n",
    "# Keep cases where technique_name is not 'Prompt Engineering Method'\n",
    "hand_labeled_data = hand_labeled_data[hand_labeled_data['technique_name'] != hand_labeled_data['Prompt Engineering Method']]\n",
    "\n",
    "# Convert ss_publication_date to \"YYYY-MM-DD\"\n",
    "hand_labeled_data['ss_publication_date'] = hand_labeled_data['ss_publication_date'].dt.strftime('%Y-%m-%d')\n",
    "\n",
    "# Drop the item with technique_name = 'tree_of_thought' that has the higher ss_publication_date\n",
    "# Just keep the row with min ss_publication_date for each technique_name\n",
    "hand_labeled_data = hand_labeled_data.groupby(['technique_name']).min().reset_index()\n",
    "print(hand_labeled_data)\n"
   ]
  },
  {
   "cell_type": "code",
   "execution_count": 3,
   "metadata": {},
   "outputs": [
    {
     "name": "stdout",
     "output_type": "stream",
     "text": [
      "      technique_name ss_publication_date   Prompt Engineering Method  \\\n",
      "0  ape_zero_shot_cot          2022-11-03   Automatic Prompt Engineer   \n",
      "1      least_to_most          2022-05-21     Least-to-Most Prompting   \n",
      "2         manual_cot          2022-01-28  Chain-of-Thought Prompting   \n",
      "3    manual_few_shot          2020-05-28           Few-Shot Learning   \n",
      "4        self_refine          2023-03-30                 Self-Refine   \n",
      "5    tree_of_thought          2023-05-15             Tree-of-Thought   \n",
      "6      zero_shot_cot          2022-05-24  Zero-Shot Chain-of-Thought   \n",
      "\n",
      "              Method  \n",
      "0  APE Zero-Shot CoT  \n",
      "1      Least-to-Most  \n",
      "2         Manual CoT  \n",
      "3    Manual Few-Shot  \n",
      "4        Self-Refine  \n",
      "5    Tree-of-Thought  \n",
      "6      Zero-Shot CoT  \n"
     ]
    }
   ],
   "source": [
    "# Set method names\n",
    "hand_labeled_data['Method'] = hand_labeled_data['technique_name'].replace({'ape_zero_shot_cot': 'APE Zero-Shot CoT', 'zero_shot_cot': 'Zero-Shot CoT', 'least_to_most': 'Least-to-Most', 'manual_cot': 'Manual CoT', 'manual_few_shot': 'Manual Few-Shot', 'self_refine': 'Self-Refine', 'tree_of_thought': 'Tree-of-Thought', 'direct_prompting' : 'Direct Prompting'})\n",
    "print(hand_labeled_data)\n"
   ]
  },
  {
   "cell_type": "code",
   "execution_count": 4,
   "metadata": {},
   "outputs": [
    {
     "name": "stdout",
     "output_type": "stream",
     "text": [
      "['Manual Few-Shot', 'Manual CoT', 'Least-to-Most', 'Zero-Shot CoT', 'APE Zero-Shot CoT', 'Self-Refine', 'Tree-of-Thought']\n",
      "['Manual Few-Shot', 'Manual CoT', 'Least-to-Most', 'Zero-Shot CoT', 'APE Zero-Shot CoT', 'Self-Refine', 'Tree-of-Thought', 'Direct Prompting']\n"
     ]
    }
   ],
   "source": [
    "# Create lists\n",
    "\n",
    "#order_list = averages_for_changes_with_date[['Model', 'method']]\n",
    "order_list = ['Text-Davinci-003', 'GPT-4']\n",
    "#hue_order = list(averages_for_changes_with_date[['Method', 'ss_publication_date']].drop_duplicates().sort_values('ss_publication_date')['Method'])\n",
    "hue_order_pub_date = list(hand_labeled_data[['Method', 'ss_publication_date']].drop_duplicates().sort_values('ss_publication_date')['Method'])\n",
    "\n",
    "# Version without dp\n",
    "hue_order_pub_date_no_dp = list(hand_labeled_data[['Method', 'ss_publication_date']].drop_duplicates().sort_values('ss_publication_date')['Method'])\n",
    "\n",
    "# Add \"Direct Prompting\" to the end of list\n",
    "hue_order_pub_date.append('Direct Prompting')\n",
    "\n",
    "#print(hue_order)\n",
    "print(hue_order_pub_date_no_dp)\n",
    "print(hue_order_pub_date)\n",
    "#print(hue_order_cw)\n"
   ]
  },
  {
   "cell_type": "code",
   "execution_count": 5,
   "metadata": {},
   "outputs": [
    {
     "name": "stdout",
     "output_type": "stream",
     "text": [
      "True\n"
     ]
    }
   ],
   "source": [
    "# Hue order as they were introduced in the paper\n",
    "hue_order_introduced = ['Direct Prompting', 'Zero-Shot CoT', 'APE Zero-Shot CoT', 'Tree-of-Thought', 'Self-Refine', 'Least-to-Most', 'Manual Few-Shot', 'Manual CoT']\n",
    "\n",
    "# Check contents of hue_order_introduced are the same as hue_order_gsm8k and hue_order_cw (regardless of order)\n",
    "print(set(hue_order_introduced) == set(hue_order_pub_date))\n"
   ]
  },
  {
   "cell_type": "code",
   "execution_count": 6,
   "metadata": {},
   "outputs": [],
   "source": [
    "# Save order_list, hue_order_gsm8k, hue_order_cw to pickle file\n",
    "import pickle\n",
    "with open('order_list.pkl', 'wb') as f:\n",
    "    pickle.dump(order_list, f)\n",
    "\n",
    "with open('hue_order_pub_date_no_dp.pkl', 'wb') as f:\n",
    "    pickle.dump(hue_order_pub_date_no_dp, f)\n",
    "\n",
    "with open('hue_order_pub_date.pkl', 'wb') as f:\n",
    "    pickle.dump(hue_order_pub_date, f)\n",
    "\n",
    "# with open('hue_order_gsm8k.pkl', 'wb') as f:\n",
    "#     pickle.dump(hue_order_gsm8k, f)\n",
    "\n",
    "# with open('hue_order_cw.pkl', 'wb') as f:\n",
    "#     pickle.dump(hue_order_cw, f)\n",
    "\n",
    "with open('hue_order_introduced.pkl', 'wb') as f:\n",
    "    pickle.dump(hue_order_introduced, f)\n"
   ]
  }
 ],
 "metadata": {
  "kernelspec": {
   "display_name": "anlp",
   "language": "python",
   "name": "python3"
  },
  "language_info": {
   "codemirror_mode": {
    "name": "ipython",
    "version": 3
   },
   "file_extension": ".py",
   "mimetype": "text/x-python",
   "name": "python",
   "nbconvert_exporter": "python",
   "pygments_lexer": "ipython3",
   "version": "3.11.4"
  }
 },
 "nbformat": 4,
 "nbformat_minor": 2
}
