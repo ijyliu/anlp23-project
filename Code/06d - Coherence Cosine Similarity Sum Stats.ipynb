{
 "cells": [
  {
   "cell_type": "markdown",
   "metadata": {},
   "source": [
    "# Coherence Cosine Similarity Examples\n",
    "\n",
    "Exploring different levels of inter-paragraph cosine similarity.\n"
   ]
  },
  {
   "cell_type": "code",
   "execution_count": 1,
   "metadata": {},
   "outputs": [
    {
     "name": "stdout",
     "output_type": "stream",
     "text": [
      "Index(['model_task_method', 'conversation_number',\n",
      "       'coherence_1_incoherent_10_very_coherent', 'compliance_OLD',\n",
      "       'ease_of_review_1_easy_10_hard', 'correct',\n",
      "       'Prediction_Based_On_First_10', 'Prediction_Based_On_Last_10',\n",
      "       'Aggregated_Prediction', 'Prediction_Based_On_First_10_LP',\n",
      "       'response_Based_On_First_10_LP', 'Prediction_Based_On_Last_10_LP',\n",
      "       'response_Based_On_Last_10_LP', 'response_LP',\n",
      "       'Aggregated_Prediction_LP', 'Prediction_Based_On_First_50_LP',\n",
      "       'response_Based_On_First_50_LP', 'Prediction_Based_On_Last_50_LP',\n",
      "       'response_Based_On_Last_50_LP', 'Aggregated_Prediction_50_LP',\n",
      "       'Prediction_Based_On_random_50_LP_1',\n",
      "       'response_Based_On_random_50_LP_1',\n",
      "       'Prediction_Based_On_random_50_LP_2',\n",
      "       'response_Based_On_random_50_LP_2',\n",
      "       'Aggregated_Prediction_random_50_LP', 'Unnamed: 0_x', 'response_x',\n",
      "       'replace_slash_n_slash_n_with_newline_x',\n",
      "       'replace_slash_n_slash_n_with_newline_values_x',\n",
      "       'replace_slash_n_with_newline_x',\n",
      "       'replace_slash_n_with_newline_values_x', 'avg_cosine_sim',\n",
      "       'num_sentences_x', 'Unnamed: 0_y', 'response_y',\n",
      "       'replace_slash_n_slash_n_with_newline_y',\n",
      "       'replace_slash_n_slash_n_with_newline_values_y',\n",
      "       'replace_slash_n_with_newline_y',\n",
      "       'replace_slash_n_with_newline_values_y',\n",
      "       'avg_inter_paragraph_cosine_sim', 'num_paragraphs', 'num_sentences_y',\n",
      "       'cosine_sims', 'conversation_length', 'input_length', 'output_length',\n",
      "       'conversation_cost', 'gsm8k_question_index', 'gsm8k_answer',\n",
      "       'gsm8k_length_vs_provided', 'length_vs_direct_prompting',\n",
      "       'num_linebreaks', 'num_sentences', 'num_step_i', 'num_1_dot_etc',\n",
      "       'sentence_length', 'fres', 'num_linebreaks_prompts',\n",
      "       'num_sentences_prompts', 'num_step_i_prompts', 'num_1_dot_etc_prompts',\n",
      "       'sentence_length_prompts', 'fres_prompts', 'num_linebreaks_provided',\n",
      "       'num_sentences_provided', 'num_step_i_provided',\n",
      "       'num_1_dot_etc_provided', 'length_provided', 'compliance',\n",
      "       'coherence_1_incoherent_10_very_coherent_compliance_adjusted',\n",
      "       'Aggregated_Prediction_random_50_LP_compliance_adjusted',\n",
      "       'avg_cosine_sim_compliance_adjusted',\n",
      "       'avg_inter_paragraph_cosine_sim_compliance_adjusted', 'model', 'task',\n",
      "       'method', 'Model', 'Method', 'Task', 'accuracy_quality',\n",
      "       'accuracy_quality_compliance_adjusted',\n",
      "       'accuracy_quality_avg_inter_paragraph_cosine_sim',\n",
      "       'consolidated_num_steps_ideas', 'consolidated_num_steps_ideas_prompts',\n",
      "       'consolidated_num_steps_ideas_provided', 'technique_name',\n",
      "       'ss_publication_date', 'ss_publication_date_datetime',\n",
      "       'Method + Publication Date', 'Publication Date',\n",
      "       'num_linebreaks_prompts_diff', 'num_sentences_prompts_diff',\n",
      "       'num_step_i_prompts_diff', 'num_1_dot_etc_prompts_diff',\n",
      "       'sentence_length_prompts_diff', 'fres_prompts_diff',\n",
      "       'num_linebreaks_provided_diff', 'num_sentences_provided_diff',\n",
      "       'num_step_i_provided_diff', 'num_1_dot_etc_provided_diff'],\n",
      "      dtype='object')\n"
     ]
    }
   ],
   "source": [
    "# Load data\n",
    "import pandas as pd\n",
    "\n",
    "# Load Combined_Data.xlsx\n",
    "combined_data = pd.read_excel('Combined_Data.xlsx')\n",
    "\n",
    "# Get columns\n",
    "print(combined_data.columns)\n"
   ]
  },
  {
   "cell_type": "code",
   "execution_count": 2,
   "metadata": {},
   "outputs": [
    {
     "data": {
      "text/plain": [
       "<function matplotlib.pyplot.close(fig=None)>"
      ]
     },
     "execution_count": 2,
     "metadata": {},
     "output_type": "execute_result"
    },
    {
     "data": {
      "image/png": "[encoded data removed]",
      "text/plain": [
       "<Figure size 640x480 with 1 Axes>"
      ]
     },
     "metadata": {},
     "output_type": "display_data"
    }
   ],
   "source": [
    "# Plot a histogram of avg_inter_paragraph_cosine_sim\n",
    "# Set the font to Times New Roman or a similar serif font\n",
    "import matplotlib.pyplot as plt\n",
    "import matplotlib as mpl\n",
    "import seaborn as sns\n",
    "mpl.rcParams['font.family'] = 'serif'\n",
    "mpl.rcParams['font.serif'] = 'Times New Roman'\n",
    "# Optionally, set the font size\n",
    "mpl.rcParams['font.size'] = 12\n",
    "plt.hist(combined_data['avg_inter_paragraph_cosine_sim'], bins=20)\n",
    "# Save figure as avg_inter_paragraph_cosine_sim_hist.png\n",
    "plt.savefig('../Output/avg_inter_paragraph_cosine_sim_hist.png')\n",
    "plt.close\n"
   ]
  },
  {
   "cell_type": "code",
   "execution_count": 3,
   "metadata": {},
   "outputs": [
    {
     "name": "stdout",
     "output_type": "stream",
     "text": [
      "count    1434.000000\n",
      "mean        0.428661\n",
      "std         0.167472\n",
      "min        -0.070840\n",
      "25%         0.298715\n",
      "50%         0.442800\n",
      "75%         0.555487\n",
      "max         0.857515\n",
      "Name: avg_inter_paragraph_cosine_sim, dtype: float64\n"
     ]
    }
   ],
   "source": [
    "# Summary statistics of avg_inter_paragraph_cosine_sim\n",
    "print(combined_data['avg_inter_paragraph_cosine_sim'].describe())\n"
   ]
  }
 ],
 "metadata": {
  "kernelspec": {
   "display_name": "anlp",
   "language": "python",
   "name": "python3"
  },
  "language_info": {
   "codemirror_mode": {
    "name": "ipython",
    "version": 3
   },
   "file_extension": ".py",
   "mimetype": "text/x-python",
   "name": "python",
   "nbconvert_exporter": "python",
   "pygments_lexer": "ipython3",
   "version": "3.11.4"
  }
 },
 "nbformat": 4,
 "nbformat_minor": 2
}
